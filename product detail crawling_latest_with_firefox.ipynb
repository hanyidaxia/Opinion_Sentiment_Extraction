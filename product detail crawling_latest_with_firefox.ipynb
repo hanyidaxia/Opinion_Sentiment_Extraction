{
 "cells": [
  {
   "cell_type": "code",
   "execution_count": 1,
   "metadata": {},
   "outputs": [],
   "source": [
    "import selenium\n",
    "import time\n",
    "from selenium import webdriver\n",
    "from bs4 import BeautifulSoup as BS\n",
    "from selenium.webdriver.chrome.options import Options\n",
    "import sys\n",
    "import pickle\n",
    "import pandas as pd"
   ]
  },
  {
   "cell_type": "code",
   "execution_count": 2,
   "metadata": {},
   "outputs": [],
   "source": [
    "page_range = [\"\",\n",
    "              \"#/store/men/shoes/casual/_/N-1q3xsyk?mnid=men_shoes_casual&No=40\", \n",
    "              \"#/store/men/shoes/casual/_/N-1q3xsyk?mnid=men_shoes_casual&No=80\", \n",
    "              \"#/store/men/shoes/casual/_/N-1q3xsyk?mnid=men_shoes_casual&No=120\", \n",
    "              \"#/store/men/shoes/casual/_/N-1q3xsyk?mnid=men_shoes_casual&No=160\", \n",
    "              \"#/store/men/shoes/casual/_/N-1q3xsyk?mnid=men_shoes_casual&No=200\", \n",
    "              \"#/store/men/shoes/casual/_/N-1q3xsyk?mnid=men_shoes_casual&No=240\", \n",
    "              \"#/store/men/shoes/casual/_/N-1q3xsyk?mnid=men_shoes_casual&No=280\", \n",
    "              \"#/store/men/shoes/casual/_/N-1q3xsyk?mnid=men_shoes_casual&No=320\", \n",
    "              \"#/store/men/shoes/casual/_/N-1q3xsyk?mnid=men_shoes_casual&No=360\", \n",
    "              \"#/store/men/shoes/casual/_/N-1q3xsyk?mnid=men_shoes_casual&No=400\", \n",
    "              \"#/store/men/shoes/casual/_/N-1q3xsyk?mnid=men_shoes_casual&No=440\", \n",
    "              \"#/store/men/shoes/casual/_/N-1q3xsyk?mnid=men_shoes_casual&No=480\", \n",
    "              \"#/store/men/shoes/casual/_/N-1q3xsyk?mnid=men_shoes_casual&No=520\", \n",
    "              \"#/store/men/shoes/casual/_/N-1q3xsyk?mnid=men_shoes_casual&No=560\", \n",
    "              \"#/store/men/shoes/casual/_/N-1q3xsyk?mnid=men_shoes_casual&No=600\", \n",
    "              \"#/store/men/shoes/casual/_/N-1q3xsyk?mnid=men_shoes_casual&No=640\", \n",
    "              \"#/store/men/shoes/casual/_/N-1q3xsyk?mnid=men_shoes_casual&No=680\", \n",
    "              \"#/store/men/shoes/casual/_/N-1q3xsyk?mnid=men_shoes_casual&No=720\"]"
   ]
  },
  {
   "cell_type": "code",
   "execution_count": 3,
   "metadata": {},
   "outputs": [
    {
     "name": "stdout",
     "output_type": "stream",
     "text": [
      "19\n"
     ]
    }
   ],
   "source": [
    "print(len(page_range))"
   ]
  },
  {
   "cell_type": "code",
   "execution_count": 7,
   "metadata": {},
   "outputs": [],
   "source": [
    "def get_links (i):\n",
    "#     options = Options()\n",
    "#     options.add_argument(\"start-maximized\")\n",
    "    browser = webdriver.Firefox()\n",
    "    browser_name = \"https://www.finishline.com/store/men/shoes/casual/_/N-1q3xsyk?mnid=men_shoes_casual\" + i\n",
    "    print(browser_name)\n",
    "    browser.get(browser_name)\n",
    "#     browser.delete_all_cookies()\n",
    "    time.sleep(30)\n",
    "    bs_obj = BS(browser.page_source, \"html.parser\")\n",
    "    namelist = bs_obj.findAll(\"div\", {\"product-card\"})\n",
    "    links = []\n",
    "    for g in namelist:\n",
    "        links.append(g.find(\"a\").attrs[\"href\"])\n",
    "#     print(links)\n",
    "    browser.quit()    \n",
    "    return links"
   ]
  },
  {
   "cell_type": "code",
   "execution_count": null,
   "metadata": {
    "scrolled": false
   },
   "outputs": [
    {
     "name": "stdout",
     "output_type": "stream",
     "text": [
      "https://www.finishline.com/store/men/shoes/casual/_/N-1q3xsyk?mnid=men_shoes_casual\n"
     ]
    }
   ],
   "source": [
    "all_links = []\n",
    "for i in page_range:\n",
    "    link = get_links(i)\n",
    "    all_links.append(link)\n",
    "#     time.sleep(2)"
   ]
  },
  {
   "cell_type": "code",
   "execution_count": null,
   "metadata": {},
   "outputs": [],
   "source": [
    "casual_links = all_links"
   ]
  },
  {
   "cell_type": "code",
   "execution_count": null,
   "metadata": {},
   "outputs": [],
   "source": [
    "running_page_range = [\"\",\n",
    "              \"#/store/men/shoes/running/_/N-57cgax?mnid=men_shoes_running&No=40\", \n",
    "              \"#/store/men/shoes/running/_/N-57cgax?mnid=men_shoes_running&No=80\", \n",
    "              \"#/store/men/shoes/running/_/N-57cgax?mnid=men_shoes_running&No=120\", \n",
    "              \"#/store/men/shoes/running/_/N-57cgax?mnid=men_shoes_running&No=160\", \n",
    "              \"#/store/men/shoes/running/_/N-57cgax?mnid=men_shoes_running&No=200\", \n",
    "              \"#/store/men/shoes/running/_/N-57cgax?mnid=men_shoes_running&No=240\", \n",
    "              \"#/store/men/shoes/running/_/N-57cgax?mnid=men_shoes_running&No=280\", \n",
    "              \"#/store/men/shoes/running/_/N-57cgax?mnid=men_shoes_running&No=320\", \n",
    "              \"#/store/men/shoes/running/_/N-57cgax?mnid=men_shoes_running&No=360\", \n",
    "              \"#/store/men/shoes/running/_/N-57cgax?mnid=men_shoes_running&No=400\", \n",
    "              \"#/store/men/shoes/running/_/N-57cgax?mnid=men_shoes_running&No=440\"]"
   ]
  },
  {
   "cell_type": "code",
   "execution_count": null,
   "metadata": {},
   "outputs": [],
   "source": [
    "# options = Options()\n",
    "# options.add_argument(\"start-maximized\")\n",
    "# browser = webdriver.Chrome(chrome_options = options)\n",
    "def get_running (i):\n",
    "    browser = webdriver.Firefox()\n",
    "    browser_name = \"https://www.finishline.com/store/men/shoes/running/_/N-57cgax?mnid=men_shoes_running\" + i\n",
    "    print(browser_name)\n",
    "    browser.get(str(browser_name))\n",
    "    time.sleep(45)\n",
    "    bs_obj = BS(browser.page_source, \"html.parser\")\n",
    "    namelist = bs_obj.findAll(\"div\", {\"product-card\"})\n",
    "    links = []\n",
    "    for g in namelist:\n",
    "        links.append(g.find(\"a\").attrs[\"href\"])\n",
    "    browser.quit()\n",
    "    return links"
   ]
  },
  {
   "cell_type": "code",
   "execution_count": null,
   "metadata": {
    "scrolled": false
   },
   "outputs": [],
   "source": [
    "Running_links = []\n",
    "for i in running_page_range:\n",
    "    link = get_running(i)\n",
    "    Running_links.append(link)\n",
    "#     time.sleep(2)"
   ]
  },
  {
   "cell_type": "code",
   "execution_count": null,
   "metadata": {},
   "outputs": [],
   "source": [
    "len(Running_links)"
   ]
  },
  {
   "cell_type": "code",
   "execution_count": null,
   "metadata": {},
   "outputs": [],
   "source": [
    "basketball_page_range = [\"\",\n",
    "              \"#/store/men/shoes/basketball/_/N-3z3fil?mnid=men_shoes_basketball&No=40\", \n",
    "              \"#/store/men/shoes/basketball/_/N-3z3fil?mnid=men_shoes_basketball&No=80\", \n",
    "              \"#/store/men/shoes/basketball/_/N-3z3fil?mnid=men_shoes_basketball&No=120\", \n",
    "              \"#/store/men/shoes/basketball/_/N-3z3fil?mnid=men_shoes_basketball&No=160\", \n",
    "              \"#/store/men/shoes/basketball/_/N-3z3fil?mnid=men_shoes_basketball&No=200\", \n",
    "              \"#/store/men/shoes/basketball/_/N-3z3fil?mnid=men_shoes_basketball&No=240\"]"
   ]
  },
  {
   "cell_type": "code",
   "execution_count": null,
   "metadata": {},
   "outputs": [],
   "source": [
    "# options = Options()\n",
    "# options.add_argument(\"start-maximized\")\n",
    "# browser = webdriver.Chrome(chrome_options = options)\n",
    "def get_basketball (i):\n",
    "    browser = webdriver.Firefox()\n",
    "    browser_name = \"https://www.finishline.com/store/men/shoes/basketball/_/N-3z3fil?mnid=men_shoes_basketball\" + i\n",
    "    print(browser_name)\n",
    "    browser.get(str(browser_name))\n",
    "    time.sleep(45)\n",
    "    bs_obj = BS(browser.page_source, \"html.parser\")\n",
    "    namelist = bs_obj.findAll(\"div\", {\"product-card\"})\n",
    "    links = []\n",
    "    for g in namelist:\n",
    "        links.append(g.find(\"a\").attrs[\"href\"])\n",
    "    browser.quit()\n",
    "    return links"
   ]
  },
  {
   "cell_type": "code",
   "execution_count": null,
   "metadata": {},
   "outputs": [],
   "source": [
    "Basketball_links = []\n",
    "for i in basketball_page_range:\n",
    "    link = get_running(i)\n",
    "    Basketball_links.append(link)\n",
    "#     time.sleep(2)"
   ]
  },
  {
   "cell_type": "code",
   "execution_count": null,
   "metadata": {},
   "outputs": [],
   "source": [
    "training_page_range = [\"\",\n",
    "              \"#/store/men/shoes/training-gym/_/N-kadepn?mnid=men_shoes_traininggym&No=40\", \n",
    "              \"#/store/men/shoes/training-gym/_/N-kadepn?mnid=men_shoes_traininggym&No=80\", \n",
    "              \"#/store/men/shoes/training-gym/_/N-kadepn?mnid=men_shoes_traininggym&No=120\", \n",
    "              \"#/store/men/shoes/training-gym/_/N-kadepn?mnid=men_shoes_traininggym&No=160\"]"
   ]
  },
  {
   "cell_type": "code",
   "execution_count": null,
   "metadata": {},
   "outputs": [],
   "source": [
    "# options = Options()\n",
    "# options.add_argument(\"start-maximized\")\n",
    "# browser = webdriver.Chrome(chrome_options = options)\n",
    "def get_training (i):\n",
    "    browser = webdriver.Firefox()\n",
    "    browser_name = \"https://www.finishline.com/store/men/shoes/training-gym/_/N-kadepn?mnid=men_shoes_traininggym\" + i\n",
    "    print(browser_name)\n",
    "    browser.get(str(browser_name))\n",
    "    time.sleep(30)\n",
    "    bs_obj = BS(browser.page_source, \"html.parser\")\n",
    "    namelist = bs_obj.findAll(\"div\", {\"product-card\"})\n",
    "    links = []\n",
    "    for g in namelist:\n",
    "        links.append(g.find(\"a\").attrs[\"href\"])\n",
    "    browser.quit\n",
    "    return links"
   ]
  },
  {
   "cell_type": "code",
   "execution_count": null,
   "metadata": {},
   "outputs": [],
   "source": [
    "Training_links = []\n",
    "for i in training_page_range:\n",
    "    link = get_training(i)\n",
    "    Training_links.append(link)\n",
    "#     time.sleep(2)"
   ]
  },
  {
   "cell_type": "code",
   "execution_count": null,
   "metadata": {},
   "outputs": [],
   "source": [
    "# options = Options()\n",
    "# options.add_argument(\"start-maximized\")\n",
    "# browser = webdriver.Chrome(chrome_options = options)\n",
    "def get_boots ():\n",
    "    browser = webdriver.Firefox()\n",
    "    browser_name = \"https://www.finishline.com/store/men/shoes/boots/_/N-1psj4ir?mnid=men_shoes_boots\"\n",
    "    print(browser_name)\n",
    "    browser.get(str(browser_name))\n",
    "    time.sleep(45)\n",
    "    bs_obj = BS(browser.page_source, \"html.parser\")\n",
    "    namelist = bs_obj.findAll(\"div\", {\"product-card\"})\n",
    "    links = []\n",
    "    for g in namelist:\n",
    "        links.append(g.find(\"a\").attrs[\"href\"])\n",
    "    browser.quit()\n",
    "    return links"
   ]
  },
  {
   "cell_type": "code",
   "execution_count": null,
   "metadata": {},
   "outputs": [],
   "source": [
    "boots_links = []\n",
    "\n",
    "link = get_boots()\n",
    "boots_links.append(link)\n",
    "#     time.sleep(2)"
   ]
  },
  {
   "cell_type": "code",
   "execution_count": null,
   "metadata": {},
   "outputs": [],
   "source": [
    "print(len(casual_links), len(Running_links), len(Basketball_links), len(Training_links), len(boots_links))"
   ]
  },
  {
   "cell_type": "code",
   "execution_count": null,
   "metadata": {},
   "outputs": [],
   "source": [
    "# print(casual_links[0][0])"
   ]
  },
  {
   "cell_type": "code",
   "execution_count": null,
   "metadata": {},
   "outputs": [],
   "source": [
    "# options = Options()\n",
    "# options.add_argument(\"start-maximized\")\n",
    "# browser = webdriver.Chrome(chrome_options = options)\n",
    "# browser_name = \"https://www.finishline.com\"+casual_links[0][0]\n",
    "# print(browser_name)\n",
    "# browser.get(browser_name)\n",
    "# time.sleep(45)\n",
    "# browser.find_element_by_name(\"icon icon-chevron-right\").click()"
   ]
  },
  {
   "cell_type": "code",
   "execution_count": null,
   "metadata": {},
   "outputs": [],
   "source": [
    "# options = Options()\n",
    "# options.add_argument(\"start-maximized\")\n",
    "# browser = webdriver.Chrome(chrome_options = options)\n",
    "# browser_name = \"https://finishline.ugc.bazaarvoice.com/9345/Men_char39_s_\" + \"Air_Jordan_1_Mid_Retro_Basketball_Shoes/\" + \"reviews.djs?format=html&page=9&scrollToTop=true\"\n",
    "# print(browser_name)\n",
    "# browser.get(browser_name)\n",
    "# time.sleep(20)\n",
    "# bs_obj = BS(browser.page_source, \"html.parser\")\n",
    "# reviews = bs_obj.findAll(\"span\", {\"class\": \"BVRRReviewText\"})"
   ]
  },
  {
   "cell_type": "code",
   "execution_count": null,
   "metadata": {},
   "outputs": [],
   "source": [
    "# options = Options()/"
   ]
  },
  {
   "cell_type": "code",
   "execution_count": null,
   "metadata": {},
   "outputs": [],
   "source": [
    "# for i in reviews:\n",
    "#     print(i.findAll(\"li\"))"
   ]
  },
  {
   "cell_type": "code",
   "execution_count": null,
   "metadata": {},
   "outputs": [],
   "source": [
    "# print(reviews, rate_num)\n",
    "# for i in reviews:\n",
    "#     print(i.find_all([\"li\", \"BVRRCustomReviewCountNumber\"]))\n",
    "# for j in rate_num:\n",
    "#     print(j.find_all)"
   ]
  },
  {
   "cell_type": "code",
   "execution_count": null,
   "metadata": {},
   "outputs": [],
   "source": [
    "# all_product = casual_links+ Running_links+ Basketball_links+ Training_links+ boots_links"
   ]
  },
  {
   "cell_type": "code",
   "execution_count": null,
   "metadata": {},
   "outputs": [],
   "source": [
    "# len(all_product)"
   ]
  },
  {
   "cell_type": "code",
   "execution_count": null,
   "metadata": {},
   "outputs": [],
   "source": [
    "# all_product[0][0]"
   ]
  },
  {
   "cell_type": "code",
   "execution_count": null,
   "metadata": {},
   "outputs": [],
   "source": [
    "with open(\"J:/product_names.txt\", \"r\") as x:\n",
    "    all_product = x.read().splitlines()"
   ]
  },
  {
   "cell_type": "code",
   "execution_count": null,
   "metadata": {},
   "outputs": [],
   "source": [
    "# for i in all_product:\n",
    "#     i = i.strip('\\n')"
   ]
  },
  {
   "cell_type": "code",
   "execution_count": null,
   "metadata": {},
   "outputs": [],
   "source": [
    "from collections import Counter\n",
    "Counter(all_product)"
   ]
  },
  {
   "cell_type": "code",
   "execution_count": null,
   "metadata": {},
   "outputs": [],
   "source": [
    "# product_name_description = {}\n",
    "with open (\"J:/descriptions.txt\", 'a', encoding='utf-8') as f:\n",
    "    for name in [all_product]:\n",
    "        for url in name:\n",
    "            options = Options()\n",
    "            options.add_argument(\"start-maximized\")\n",
    "            browser = webdriver.Chrome(chrome_options = options)\n",
    "            print(url)\n",
    "            product_name = url.split('/')[3]\n",
    "            browser_name = \"https://www.finishline.com\" + url\n",
    "            browser.get(browser_name)\n",
    "            time.sleep(30)\n",
    "            bs_obj = BS(browser.page_source.encode('utf-8', 'ignore'), \"html.parser\")\n",
    "            description = bs_obj.findAll(\"div\", {\"class\":\"column small-12\"})  \n",
    "            for i in description:\n",
    "        #       print(i.find_all(\"li\"))\n",
    "#                 product_name_description[product_name] = [i.find_all(\"li\")]\n",
    "                details = \"\".join(i.stripped_strings)\n",
    "                f.write(product_name + \"===\" + repr(details))\n",
    "                f.write('\\n')\n",
    "                f.flush()\n",
    "                browser.quit()"
   ]
  },
  {
   "cell_type": "code",
   "execution_count": null,
   "metadata": {},
   "outputs": [],
   "source": [
    "# with open(\"J:/test_1.txt\", \"w\", encoding='utf-8') as lk:\n",
    "#     options = Options()\n",
    "#     options.add_argument(\"start-maximized\")\n",
    "#     browser = webdriver.Chrome(chrome_options = options)\n",
    "#     url = '/store/product/mens-jordan-hydro-4-retro-slide-sandals/prod1500186?styleId=532225&colorId=006'\n",
    "#     product_name = url.split('/')[3]\n",
    "#     browser_name = \"https://www.finishline.com\" + url\n",
    "#     browser.get(browser_name)\n",
    "#     time.sleep(20)\n",
    "#     bs_obj = BS(browser.page_source.encode('utf-8', 'ignore'), \"html.parser\")\n",
    "#     description = bs_obj.findAll(\"div\", {\"class\":\"column small-12\"})  \n",
    "#     for i in description:\n",
    "#             #       print(i.find_all(\"li\"))\n",
    "#     #                 product_name_description[product_name] = [i.find_all(\"li\")]\n",
    "#         details = \"\".join(i.stripped_strings)\n",
    "#         lk.write(product_name + \"===\" + repr(details))"
   ]
  },
  {
   "cell_type": "code",
   "execution_count": null,
   "metadata": {},
   "outputs": [],
   "source": [
    "# with open(\"J:/test_1.txt\", \"w\") as lk:\n",
    "#     print(details, product_name)\n",
    "#     lk.write(repr(details)+ \"===\" + product_name)"
   ]
  },
  {
   "cell_type": "code",
   "execution_count": null,
   "metadata": {},
   "outputs": [],
   "source": [
    "# len(product_name_description)"
   ]
  },
  {
   "cell_type": "code",
   "execution_count": null,
   "metadata": {},
   "outputs": [],
   "source": [
    "# df = pd.DataFrame.from_dict(product_name_description, orient=\"index\")\n",
    "# df.to_csv('J:/product_descriptions_2.csv')"
   ]
  },
  {
   "cell_type": "code",
   "execution_count": null,
   "metadata": {},
   "outputs": [],
   "source": [
    "# import sys\n",
    "# sys.setrecursionlimit(100000000)\n",
    "# import numpy as np\n",
    "# np.save(\"d1.npy\", product_name_description)\n",
    "# d2=np.load(\"d1.npy\")"
   ]
  },
  {
   "cell_type": "code",
   "execution_count": null,
   "metadata": {},
   "outputs": [],
   "source": [
    "# import pickle\n",
    "\n",
    "# with open('filename.pickle', 'wb') as handle:\n",
    "#     pickle.dump(product_name_description, handle, protocol=pickle.HIGHEST_PROTOCOL)\n",
    "\n",
    "# # with open('filename.pickle', 'rb') as handle:\n",
    "# #     b = pickle.load(handle)\n"
   ]
  },
  {
   "cell_type": "code",
   "execution_count": null,
   "metadata": {},
   "outputs": [],
   "source": [
    "# for i in description:\n",
    "#     print(i.find_all(\"li\"))"
   ]
  },
  {
   "cell_type": "code",
   "execution_count": null,
   "metadata": {},
   "outputs": [],
   "source": [
    "# with open (\"J:/descriptions.txt\", \"w\") as f:\n",
    "#     for i in product_name_description:\n",
    "#         f.write(i)\n",
    "#         f.write('\\n')"
   ]
  },
  {
   "cell_type": "code",
   "execution_count": null,
   "metadata": {},
   "outputs": [],
   "source": [
    "# len(all_product)"
   ]
  },
  {
   "cell_type": "code",
   "execution_count": null,
   "metadata": {},
   "outputs": [],
   "source": [
    "# with open(\"J:/product_names_with_douhao.txt\", \"w\") as p:\n",
    "#     for i in all_product:\n",
    "#         for j in i:\n",
    "#             p.write(j + \",\")\n",
    "#             p.write('\\n')\n",
    "    "
   ]
  },
  {
   "cell_type": "code",
   "execution_count": null,
   "metadata": {},
   "outputs": [],
   "source": [
    "product_name = []\n",
    "for i in all_product:\n",
    "    i = i.split('/')[3]\n",
    "    product_name.append(i)\n",
    "    \n",
    "product_name[0]"
   ]
  },
  {
   "cell_type": "code",
   "execution_count": null,
   "metadata": {},
   "outputs": [],
   "source": [
    "import string"
   ]
  },
  {
   "cell_type": "code",
   "execution_count": null,
   "metadata": {},
   "outputs": [],
   "source": [
    "# for j in product_name:\n",
    "#     string.capwords(j)"
   ]
  },
  {
   "cell_type": "code",
   "execution_count": null,
   "metadata": {},
   "outputs": [],
   "source": [
    "product_new_name = []\n",
    "for j in product_name:\n",
    "    j = j.replace(\"-\", \" \")\n",
    "    j = (string.capwords(j))\n",
    "    j = j.replace(\" \", \"_\")\n",
    "    j = j.replace(\"Mens_\", \"\")\n",
    "    product_new_name.append(j)\n",
    "    \n",
    "product_new_name[0: 5]"
   ]
  },
  {
   "cell_type": "code",
   "execution_count": null,
   "metadata": {
    "scrolled": false
   },
   "outputs": [],
   "source": [
    "with open (\"J:/review_star_title.txt\", 'w', encoding='utf-8') as f:\n",
    "    description_list = []\n",
    "    reviews_list = []\n",
    "    star_list = []\n",
    "    title_list = []\n",
    "    for name in [product_new_name]:\n",
    "        for url in name:\n",
    "            print(url)\n",
    "            for index in range(1, 1000):\n",
    "                options = Options()\n",
    "                options.add_argument(\"start-maximized\")\n",
    "                browser = webdriver.Chrome(chrome_options = options)\n",
    "                browser_name = \"https://finishline.ugc.bazaarvoice.com/9345/Men_char39_s_\" + url + \"/reviews.djs?format=embeddedhtml&page=%d&scrollToTop=true\"%(index)\n",
    "                print(browser_name)\n",
    "                browser.get(browser_name)\n",
    "                time.sleep(0.1)\n",
    "                bs_obj = BS(browser.page_source.encode('utf-8', 'ignore'), \"html.parser\")\n",
    "                description = bs_obj.get_text()\n",
    "    #             print(description)\n",
    "                star_begin = description.split(\"BVRRReviewTextContainer\")[0]\n",
    "                description = description.split(\"BVRRReviewTextContainer\")[1:]\n",
    "\n",
    "                for content in description:\n",
    "    #                 print(content)\n",
    "#                     first_star_temp = star_begin.split(\"BVImgOrSprite\")[4]\n",
    "#                     first_star = first_star_temp.split(\"reviewRating\")[0]\n",
    "#                     if \"BVRRValue BVRRReviewTitle\" in star_begin:\n",
    "#                         first_title_temp = star_begin.split(\"BVRRReviewTitleContainer\")[1]\n",
    "#                         first_title = first_title_temp.split(\"BVRRLabel BVRRReviewTitleSuffix\")[0]\n",
    "\n",
    "#     #                 star_title = content.split(\"BVImgOrSprite\")[1]\n",
    "#                     star_list.append(first_star)\n",
    "#                     if \"BVImgOrSprite\" in content:\n",
    "#                         star_temp = content.split(\"BVImgOrSprite\")[1]\n",
    "#                         star = star_temp.split(\"reviewRating\")[0]\n",
    "#                         star_list.append(star)\n",
    "\n",
    "#                     title_list.append(first_title)\n",
    "#                     if \"BVRRValue BVRRReviewTitle\" in content:\n",
    "#                         title_temp = content.split(\"BVRRValue BVRRReviewTitle\")[1]\n",
    "#                         title = title_temp.split(\"BVRRLabel BVRRReviewTitleSuffix\")[0]\n",
    "#                         title_list.append(title)\n",
    "\n",
    "                    reviews_temp = content.split(\"BVRRReviewTextPrefix\")[1]\n",
    "                    reviews = reviews_temp.split(\"BVRRReviewTextSuffix\")[0]\n",
    "                    reviews_list.append(reviews)\n",
    "                    print(reviews_list)\n",
    "                    \n",
    "#                     f.write(url + \"+-+\" + \"\".join(star_list) + \"+++\" + \"\".join(title_list) + \"-+-\" + \"\".join(reviews_list))\n",
    "#                     f.write('\\n')\n",
    "#                     f.write(\"****************************************************************************\")\n",
    "#                     f.write('\\n')\n",
    "#                     f.flush()\n",
    "                    browser.quit()\n",
    "                description_list.append(reviews_list)\n",
    "                if description_list[index-1] == reviews_list:\n",
    "                    break\n",
    "#             f.write('\\n')\n",
    "#             f.write(\"$$$$$$$$$$$$$$$$$$$$$$$$$$$$$$$$$$$$$$$$$$$$$$$$$$$$$$$$$$$$$$$$$$$$$$$$$$$$$$$$$$$$$$$$\")\n",
    "#             f.write('\\n')\n",
    "#             f.flush()"
   ]
  },
  {
   "cell_type": "code",
   "execution_count": null,
   "metadata": {},
   "outputs": [],
   "source": [
    "l = [[1], [2], [3]]\n",
    "n = [[3], [2], [1]]\n",
    "if l == n:\n",
    "    print(\"yes\")"
   ]
  },
  {
   "cell_type": "code",
   "execution_count": null,
   "metadata": {},
   "outputs": [],
   "source": []
  },
  {
   "cell_type": "code",
   "execution_count": null,
   "metadata": {},
   "outputs": [],
   "source": [
    "with open (\"J:/reviews.txt\", 'a', encoding='utf-8') as f:\n",
    "    for name in [product_new_name]:\n",
    "        options = Options()\n",
    "        options.add_argument(\"start-maximized\")\n",
    "        browser = webdriver.Chrome(chrome_options = options)\n",
    "        print(url)\n",
    "        browser_name = \"https://www.finishline.com\" + url\n",
    "        browser.get(browser_name)\n",
    "        time.sleep(2)\n",
    "        bs_obj = BS(browser.page_source.encode('utf-8', 'ignore'), \"html.parser\")\n",
    "        description = bs_obj.findAll(\"div\", {\"class\":\"BVRRReviewTextParagraph BVRRReviewTextFirstParagraph BVRRReviewTextLastParagraph\"})  \n",
    "        for i in description:\n",
    "        #       print(i.find_all(\"li\"))\n",
    "#                 product_name_description[product_name] = [i.find_all(\"li\")]\n",
    "            details = \"\".join(i.stripped_strings)\n",
    "            f.write(product_name + \"===\" + repr(details))\n",
    "            f.write('\\n')\n",
    "            f.flush()\n",
    "            browser.quit()"
   ]
  }
 ],
 "metadata": {
  "kernelspec": {
   "display_name": "Python 3",
   "language": "python",
   "name": "python3"
  },
  "language_info": {
   "codemirror_mode": {
    "name": "ipython",
    "version": 3
   },
   "file_extension": ".py",
   "mimetype": "text/x-python",
   "name": "python",
   "nbconvert_exporter": "python",
   "pygments_lexer": "ipython3",
   "version": "3.7.1"
  }
 },
 "nbformat": 4,
 "nbformat_minor": 2
}
