{
 "cells": [
  {
   "cell_type": "code",
   "execution_count": 2,
   "metadata": {},
   "outputs": [],
   "source": [
    "import selenium\n",
    "import time\n",
    "from selenium import webdriver\n",
    "from bs4 import BeautifulSoup as BS\n",
    "from selenium.webdriver.chrome.options import Options\n",
    "import sys\n",
    "import pickle\n",
    "import pandas as pd"
   ]
  },
  {
   "cell_type": "code",
   "execution_count": null,
   "metadata": {},
   "outputs": [],
   "source": [
    "# page_range = [\"\",\n",
    "#               \"#/store/men/shoes/casual/_/N-1q3xsyk?mnid=men_shoes_casual&No=40\", \n",
    "#               \"#/store/men/shoes/casual/_/N-1q3xsyk?mnid=men_shoes_casual&No=80\", \n",
    "#               \"#/store/men/shoes/casual/_/N-1q3xsyk?mnid=men_shoes_casual&No=120\", \n",
    "#               \"#/store/men/shoes/casual/_/N-1q3xsyk?mnid=men_shoes_casual&No=160\", \n",
    "#               \"#/store/men/shoes/casual/_/N-1q3xsyk?mnid=men_shoes_casual&No=200\", \n",
    "#               \"#/store/men/shoes/casual/_/N-1q3xsyk?mnid=men_shoes_casual&No=240\", \n",
    "#               \"#/store/men/shoes/casual/_/N-1q3xsyk?mnid=men_shoes_casual&No=280\", \n",
    "#               \"#/store/men/shoes/casual/_/N-1q3xsyk?mnid=men_shoes_casual&No=320\", \n",
    "#               \"#/store/men/shoes/casual/_/N-1q3xsyk?mnid=men_shoes_casual&No=360\", \n",
    "#               \"#/store/men/shoes/casual/_/N-1q3xsyk?mnid=men_shoes_casual&No=400\", \n",
    "#               \"#/store/men/shoes/casual/_/N-1q3xsyk?mnid=men_shoes_casual&No=440\", \n",
    "#               \"#/store/men/shoes/casual/_/N-1q3xsyk?mnid=men_shoes_casual&No=480\", \n",
    "#               \"#/store/men/shoes/casual/_/N-1q3xsyk?mnid=men_shoes_casual&No=520\", \n",
    "#               \"#/store/men/shoes/casual/_/N-1q3xsyk?mnid=men_shoes_casual&No=560\", \n",
    "#               \"#/store/men/shoes/casual/_/N-1q3xsyk?mnid=men_shoes_casual&No=600\", \n",
    "#               \"#/store/men/shoes/casual/_/N-1q3xsyk?mnid=men_shoes_casual&No=640\", \n",
    "#               \"#/store/men/shoes/casual/_/N-1q3xsyk?mnid=men_shoes_casual&No=680\", \n",
    "#               \"#/store/men/shoes/casual/_/N-1q3xsyk?mnid=men_shoes_casual&No=720\"]"
   ]
  },
  {
   "cell_type": "code",
   "execution_count": null,
   "metadata": {},
   "outputs": [],
   "source": [
    "# print(len(page_range))"
   ]
  },
  {
   "cell_type": "code",
   "execution_count": null,
   "metadata": {},
   "outputs": [],
   "source": [
    "# options = Options()\n",
    "# options.add_argument(\"start-maximized\")\n",
    "# browser = webdriver.Chrome(chrome_options = options)\n",
    "# def get_links (i):\n",
    "#     browser_name = \"https://www.finishline.com/store/men/shoes/casual/_/N-1q3xsyk?mnid=men_shoes_casual\" + i\n",
    "#     print(browser_name)\n",
    "#     browser.get(str(browser_name))\n",
    "#     time.sleep(45)\n",
    "#     bs_obj = BS(browser.page_source, \"html.parser\")\n",
    "#     namelist = bs_obj.findAll(\"div\", {\"product-card\"})\n",
    "#     links = []\n",
    "#     for g in namelist:\n",
    "#         links.append(g.find(\"a\").attrs[\"href\"])\n",
    "#     return links"
   ]
  },
  {
   "cell_type": "code",
   "execution_count": null,
   "metadata": {},
   "outputs": [],
   "source": [
    "# all_links = []\n",
    "# for i in page_range:\n",
    "#     link = get_links(i)\n",
    "#     all_links.append(link)\n",
    "#     time.sleep(2)"
   ]
  },
  {
   "cell_type": "code",
   "execution_count": null,
   "metadata": {},
   "outputs": [],
   "source": [
    "# casual_links = all_links"
   ]
  },
  {
   "cell_type": "code",
   "execution_count": null,
   "metadata": {},
   "outputs": [],
   "source": [
    "# running_page_range = [\"\",\n",
    "#               \"#/store/men/shoes/running/_/N-57cgax?mnid=men_shoes_running&No=40\", \n",
    "#               \"#/store/men/shoes/running/_/N-57cgax?mnid=men_shoes_running&No=80\", \n",
    "#               \"#/store/men/shoes/running/_/N-57cgax?mnid=men_shoes_running&No=120\", \n",
    "#               \"#/store/men/shoes/running/_/N-57cgax?mnid=men_shoes_running&No=160\", \n",
    "#               \"#/store/men/shoes/running/_/N-57cgax?mnid=men_shoes_running&No=200\", \n",
    "#               \"#/store/men/shoes/running/_/N-57cgax?mnid=men_shoes_running&No=240\", \n",
    "#               \"#/store/men/shoes/running/_/N-57cgax?mnid=men_shoes_running&No=280\", \n",
    "#               \"#/store/men/shoes/running/_/N-57cgax?mnid=men_shoes_running&No=320\", \n",
    "#               \"#/store/men/shoes/running/_/N-57cgax?mnid=men_shoes_running&No=360\", \n",
    "#               \"#/store/men/shoes/running/_/N-57cgax?mnid=men_shoes_running&No=400\", \n",
    "#               \"#/store/men/shoes/running/_/N-57cgax?mnid=men_shoes_running&No=440\"]"
   ]
  },
  {
   "cell_type": "code",
   "execution_count": null,
   "metadata": {},
   "outputs": [],
   "source": [
    "# options = Options()\n",
    "# options.add_argument(\"start-maximized\")\n",
    "# browser = webdriver.Chrome(chrome_options = options)\n",
    "# def get_running (i):\n",
    "#     browser_name = \"https://www.finishline.com/store/men/shoes/running/_/N-57cgax?mnid=men_shoes_running\" + i\n",
    "#     print(browser_name)\n",
    "#     browser.get(str(browser_name))\n",
    "#     time.sleep(45)\n",
    "#     bs_obj = BS(browser.page_source, \"html.parser\")\n",
    "#     namelist = bs_obj.findAll(\"div\", {\"product-card\"})\n",
    "#     links = []\n",
    "#     for g in namelist:\n",
    "#         links.append(g.find(\"a\").attrs[\"href\"])\n",
    "#     return links"
   ]
  },
  {
   "cell_type": "code",
   "execution_count": null,
   "metadata": {
    "scrolled": false
   },
   "outputs": [],
   "source": [
    "# Running_links = []\n",
    "# for i in running_page_range:\n",
    "#     link = get_running(i)\n",
    "#     Running_links.append(link)\n",
    "#     time.sleep(2)"
   ]
  },
  {
   "cell_type": "code",
   "execution_count": null,
   "metadata": {},
   "outputs": [],
   "source": [
    "# len(Running_links)"
   ]
  },
  {
   "cell_type": "code",
   "execution_count": null,
   "metadata": {},
   "outputs": [],
   "source": [
    "# basketball_page_range = [\"\",\n",
    "#               \"#/store/men/shoes/basketball/_/N-3z3fil?mnid=men_shoes_basketball&No=40\", \n",
    "#               \"#/store/men/shoes/basketball/_/N-3z3fil?mnid=men_shoes_basketball&No=80\", \n",
    "#               \"#/store/men/shoes/basketball/_/N-3z3fil?mnid=men_shoes_basketball&No=120\", \n",
    "#               \"#/store/men/shoes/basketball/_/N-3z3fil?mnid=men_shoes_basketball&No=160\", \n",
    "#               \"#/store/men/shoes/basketball/_/N-3z3fil?mnid=men_shoes_basketball&No=200\", \n",
    "#               \"#/store/men/shoes/basketball/_/N-3z3fil?mnid=men_shoes_basketball&No=240\"]"
   ]
  },
  {
   "cell_type": "code",
   "execution_count": null,
   "metadata": {},
   "outputs": [],
   "source": [
    "# options = Options()\n",
    "# options.add_argument(\"start-maximized\")\n",
    "# browser = webdriver.Chrome(chrome_options = options)\n",
    "# def get_basketball (i):\n",
    "#     browser_name = \"https://www.finishline.com/store/men/shoes/basketball/_/N-3z3fil?mnid=men_shoes_basketball\" + i\n",
    "#     print(browser_name)\n",
    "#     browser.get(str(browser_name))\n",
    "#     time.sleep(45)\n",
    "#     bs_obj = BS(browser.page_source, \"html.parser\")\n",
    "#     namelist = bs_obj.findAll(\"div\", {\"product-card\"})\n",
    "#     links = []\n",
    "#     for g in namelist:\n",
    "#         links.append(g.find(\"a\").attrs[\"href\"])\n",
    "#     return links"
   ]
  },
  {
   "cell_type": "code",
   "execution_count": null,
   "metadata": {},
   "outputs": [],
   "source": [
    "# Basketball_links = []\n",
    "# for i in basketball_page_range:\n",
    "#     link = get_running(i)\n",
    "#     Basketball_links.append(link)\n",
    "#     time.sleep(2)"
   ]
  },
  {
   "cell_type": "code",
   "execution_count": null,
   "metadata": {},
   "outputs": [],
   "source": [
    "# training_page_range = [\"\",\n",
    "#               \"#/store/men/shoes/training-gym/_/N-kadepn?mnid=men_shoes_traininggym&No=40\", \n",
    "#               \"#/store/men/shoes/training-gym/_/N-kadepn?mnid=men_shoes_traininggym&No=80\", \n",
    "#               \"#/store/men/shoes/training-gym/_/N-kadepn?mnid=men_shoes_traininggym&No=120\", \n",
    "#               \"#/store/men/shoes/training-gym/_/N-kadepn?mnid=men_shoes_traininggym&No=160\"]"
   ]
  },
  {
   "cell_type": "code",
   "execution_count": null,
   "metadata": {},
   "outputs": [],
   "source": [
    "# options = Options()\n",
    "# options.add_argument(\"start-maximized\")\n",
    "# browser = webdriver.Chrome(chrome_options = options)\n",
    "# def get_training (i):\n",
    "#     browser_name = \"https://www.finishline.com/store/men/shoes/training-gym/_/N-kadepn?mnid=men_shoes_traininggym\" + i\n",
    "#     print(browser_name)\n",
    "#     browser.get(str(browser_name))\n",
    "#     time.sleep(45)\n",
    "#     bs_obj = BS(browser.page_source, \"html.parser\")\n",
    "#     namelist = bs_obj.findAll(\"div\", {\"product-card\"})\n",
    "#     links = []\n",
    "#     for g in namelist:\n",
    "#         links.append(g.find(\"a\").attrs[\"href\"])\n",
    "#     return links"
   ]
  },
  {
   "cell_type": "code",
   "execution_count": null,
   "metadata": {},
   "outputs": [],
   "source": [
    "# Training_links = []\n",
    "# for i in training_page_range:\n",
    "#     link = get_training(i)\n",
    "#     Training_links.append(link)\n",
    "#     time.sleep(2)"
   ]
  },
  {
   "cell_type": "code",
   "execution_count": null,
   "metadata": {},
   "outputs": [],
   "source": [
    "# options = Options()\n",
    "# options.add_argument(\"start-maximized\")\n",
    "# browser = webdriver.Chrome(chrome_options = options)\n",
    "# def get_boots ():\n",
    "#     browser_name = \"https://www.finishline.com/store/men/shoes/boots/_/N-1psj4ir?mnid=men_shoes_boots\"\n",
    "#     print(browser_name)\n",
    "#     browser.get(str(browser_name))\n",
    "#     time.sleep(45)\n",
    "#     bs_obj = BS(browser.page_source, \"html.parser\")\n",
    "#     namelist = bs_obj.findAll(\"div\", {\"product-card\"})\n",
    "#     links = []\n",
    "#     for g in namelist:\n",
    "#         links.append(g.find(\"a\").attrs[\"href\"])\n",
    "#     return links"
   ]
  },
  {
   "cell_type": "code",
   "execution_count": null,
   "metadata": {},
   "outputs": [],
   "source": [
    "# boots_links = []\n",
    "\n",
    "# link = get_boots()\n",
    "# boots_links.append(link)\n",
    "# #     time.sleep(2)"
   ]
  },
  {
   "cell_type": "code",
   "execution_count": null,
   "metadata": {},
   "outputs": [],
   "source": [
    "# print(len(casual_links), len(Running_links), len(Basketball_links), len(Training_links), len(boots_links))"
   ]
  },
  {
   "cell_type": "code",
   "execution_count": null,
   "metadata": {},
   "outputs": [],
   "source": [
    "# print(casual_links[0][0])"
   ]
  },
  {
   "cell_type": "code",
   "execution_count": null,
   "metadata": {},
   "outputs": [],
   "source": [
    "# options = Options()\n",
    "# options.add_argument(\"start-maximized\")\n",
    "# browser = webdriver.Chrome(chrome_options = options)\n",
    "# browser_name = \"https://www.finishline.com\"+casual_links[0][0]\n",
    "# print(browser_name)\n",
    "# browser.get(browser_name)\n",
    "# time.sleep(45)\n",
    "# browser.find_element_by_name(\"icon icon-chevron-right\").click()"
   ]
  },
  {
   "cell_type": "code",
   "execution_count": null,
   "metadata": {},
   "outputs": [],
   "source": [
    "# options = Options()\n",
    "# options.add_argument(\"start-maximized\")\n",
    "# browser = webdriver.Chrome(chrome_options = options)\n",
    "# browser_name = \"https://finishline.ugc.bazaarvoice.com/9345/Men_char39_s_\" + \"Air_Jordan_1_Mid_Retro_Basketball_Shoes/\" + \"reviews.djs?format=html&page=9&scrollToTop=true\"\n",
    "# print(browser_name)\n",
    "# browser.get(browser_name)\n",
    "# time.sleep(20)\n",
    "# bs_obj = BS(browser.page_source, \"html.parser\")\n",
    "# reviews = bs_obj.findAll(\"span\", {\"class\": \"BVRRReviewText\"})"
   ]
  },
  {
   "cell_type": "code",
   "execution_count": 20,
   "metadata": {},
   "outputs": [
    {
     "name": "stderr",
     "output_type": "stream",
     "text": [
      "C:\\Anaconda\\lib\\site-packages\\ipykernel_launcher.py:3: DeprecationWarning: use options instead of chrome_options\n",
      "  This is separate from the ipykernel package so we can avoid doing imports until\n"
     ]
    },
    {
     "name": "stdout",
     "output_type": "stream",
     "text": [
      "https://www.finishline.com/store/product/mens-nike-react-presto-running-shoes/prod2787433?styleId=AV2605&colorId=700\n"
     ]
    }
   ],
   "source": [
    "# options = Options()/"
   ]
  },
  {
   "cell_type": "code",
   "execution_count": 21,
   "metadata": {},
   "outputs": [
    {
     "name": "stdout",
     "output_type": "stream",
     "text": [
      "[]\n",
      "[]\n",
      "[]\n",
      "[]\n",
      "[<li>Nike React technology offers a smooth ride </li>, <li>Mesh upper is lightweight and breathable </li>, <li>A number of lacing options offers versatile wear </li>, <li>Stretchy sleeve is snug and allows for easy on and off </li>, <li>TPU cage is similar to the classic Presto cage and provides a contoured foot feel </li>, <li>Rubber toe tip for durability </li>, <li>The Nike React Presto is imported. </li>]\n"
     ]
    }
   ],
   "source": [
    "# for i in reviews:\n",
    "#     print(i.findAll(\"li\"))"
   ]
  },
  {
   "cell_type": "code",
   "execution_count": null,
   "metadata": {},
   "outputs": [],
   "source": [
    "# print(reviews, rate_num)\n",
    "# for i in reviews:\n",
    "#     print(i.find_all([\"li\", \"BVRRCustomReviewCountNumber\"]))\n",
    "# for j in rate_num:\n",
    "#     print(j.find_all)"
   ]
  },
  {
   "cell_type": "code",
   "execution_count": null,
   "metadata": {},
   "outputs": [],
   "source": [
    "# all_product = casual_links+ Running_links+ Basketball_links+ Training_links+ boots_links"
   ]
  },
  {
   "cell_type": "code",
   "execution_count": null,
   "metadata": {},
   "outputs": [],
   "source": [
    "# len(all_product)"
   ]
  },
  {
   "cell_type": "code",
   "execution_count": null,
   "metadata": {},
   "outputs": [],
   "source": [
    "# all_product[0][0]"
   ]
  },
  {
   "cell_type": "code",
   "execution_count": 18,
   "metadata": {},
   "outputs": [],
   "source": [
    "with open(\"J:/product_names.txt\", \"r\") as x:\n",
    "    all_product = x.read().splitlines()"
   ]
  },
  {
   "cell_type": "code",
   "execution_count": 12,
   "metadata": {},
   "outputs": [],
   "source": [
    "# for i in all_product:\n",
    "#     i = i.strip('\\n')"
   ]
  },
  {
   "cell_type": "code",
   "execution_count": 24,
   "metadata": {},
   "outputs": [
    {
     "data": {
      "text/plain": [
       "'/store/product/mens-nike-react-presto-running-shoes/prod2787433?styleId=AV2605&colorId=700'"
      ]
     },
     "execution_count": 24,
     "metadata": {},
     "output_type": "execute_result"
    }
   ],
   "source": [
    "\n",
    "all_product[0]"
   ]
  },
  {
   "cell_type": "code",
   "execution_count": null,
   "metadata": {
    "scrolled": false
   },
   "outputs": [
    {
     "name": "stderr",
     "output_type": "stream",
     "text": [
      "C:\\Anaconda\\lib\\site-packages\\ipykernel_launcher.py:7: DeprecationWarning: use options instead of chrome_options\n",
      "  import sys\n"
     ]
    },
    {
     "name": "stdout",
     "output_type": "stream",
     "text": [
      "/store/product/mens-nike-react-presto-running-shoes/prod2787433?styleId=AV2605&colorId=700\n",
      "/store/product/mens-nike-air-vapormax-flyknit-3-running-shoes/prod2787099?styleId=AJ6900&colorId=101\n",
      "/store/product/mens-nike-air-vapormax-2019-running-shoes/prod2785452?styleId=AR6631&colorId=005\n",
      "/store/product/mens-air-jordan-1-mid-retro-basketball-shoes/prod1370657?styleId=554724&colorId=119\n",
      "/store/product/mens-nike-air-force-1-low-casual-shoes/prod795980?styleId=315122&colorId=111\n",
      "/store/product/mens-nike-air-max-97-casual-shoes/prod2770629?styleId=921826&colorId=101\n",
      "/store/product/mens-adidas-originals-stan-smith-casual-shoes/prod1260502?styleId=M20324&colorId=WGN\n",
      "/store/product/mens-nike-shox-nz-running-shoes/prod792244?styleId=378341&colorId=059\n",
      "/store/product/mens-nike-react-presto-running-shoes/prod2787433?styleId=AV2605&colorId=002\n",
      "/store/product/mens-nike-air-vapormax-flyknit-3-running-shoes/prod2787099?styleId=AJ6900&colorId=004\n",
      "/store/product/mens-nike-react-presto-running-shoes/prod2787433?styleId=AV2605&colorId=100\n",
      "/store/product/mens-air-jordan-1-mid-retro-basketball-shoes/prod1370657?styleId=554724&colorId=116\n",
      "/store/product/mens-nike-react-presto-running-shoes/prod2787433?styleId=AV2605&colorId=200\n",
      "/store/product/mens-nike-air-vapormax-flyknit-3-running-shoes/prod2787099?styleId=AJ6900&colorId=102\n",
      "/store/product/mens-nike-air-max-90-essential-casual-shoes/prod2776645?styleId=AJ1285&colorId=104\n",
      "/store/product/mens-air-jordan-retro-1-low-basketball-shoes/prod797157?styleId=553558&colorId=112\n",
      "/store/product/mens-nike-air-max-97-nd-casual-shoes/prod2785494?styleId=BQ9130&colorId=500\n",
      "/store/product/mens-nike-air-max-90-essential-casual-shoes/prod2776645?styleId=AJ1285&colorId=602\n",
      "/store/product/mens-adidas-nmd-runner-r1-casual-shoes/prod2763986?styleId=BD7754&colorId=001\n",
      "/store/product/mens-champion-ipo-repeat-slide-sandals/prod2780707?styleId=CM100079&colorId=001\n"
     ]
    }
   ],
   "source": [
    "# product_name_description = {}\n",
    "with open (\"J:/descriptions.txt\", 'a') as f:\n",
    "    for name in [all_product]:\n",
    "        for url in name:\n",
    "            options = Options()\n",
    "            options.add_argument(\"start-maximized\")\n",
    "            browser = webdriver.Chrome(chrome_options = options)\n",
    "            print(url)\n",
    "            product_name = url.split('/')[3]\n",
    "            browser_name = \"https://www.finishline.com\" + url\n",
    "            browser.get(browser_name)\n",
    "            time.sleep(30)\n",
    "            bs_obj = BS(browser.page_source.encode('utf-8'), \"html.parser\")\n",
    "            description = bs_obj.findAll(\"div\", {\"class\":\"column small-12\"})  \n",
    "            for i in description:\n",
    "        #       print(i.find_all(\"li\"))\n",
    "#                 product_name_description[product_name] = [i.find_all(\"li\")]\n",
    "                details = \"\".join(i.stripped_strings)\n",
    "                f.write(product_name + \"===\" + repr(details))\n",
    "                f.write('\\n')\n",
    "                f.flush()\n",
    "                browser.quit()"
   ]
  },
  {
   "cell_type": "code",
   "execution_count": 34,
   "metadata": {},
   "outputs": [
    {
     "name": "stdout",
     "output_type": "stream",
     "text": [
      "Back in 1971, Stan Smith ruled the tennis court. adidas took notice and created the clean Men's adidas Originals Stan Smith Casual Shoes so he could dominate in total comfort and 3-Stripes style. Flash forward more than forty years and these kicks still stand the test of time with a sleek look and plenty of comfort.Boasting a simple style that can't be replicated, the adidas Originals Stan Smith Casual Shoes are an iconic sneaker for every day wear. A supple leather upper brings the comfort, while perforated 3-Stripes at the sides add signature brand recognition and breathability. Sitting atop a tonal rubber outsole, the Stan Smith's offer traction and durability in a stylish  package.FEATURES:UPPER: Supple leather, perforated 3-Stripes at the sidesOUTSOLE: Tonal rubberIMPORTED mens-adidas-originals-stan-smith-casual-shoes\n"
     ]
    }
   ],
   "source": [
    "# with open(\"J:/test_1.txt\", \"w\") as lk:\n",
    "#     print(details, product_name)\n",
    "#     lk.write(repr(details)+ \"===\" + product_name)"
   ]
  },
  {
   "cell_type": "code",
   "execution_count": null,
   "metadata": {},
   "outputs": [],
   "source": [
    "len(product_name_description)"
   ]
  },
  {
   "cell_type": "code",
   "execution_count": null,
   "metadata": {},
   "outputs": [],
   "source": [
    "df = pd.DataFrame.from_dict(product_name_description, orient=\"index\")\n",
    "df.to_csv('J:/product_descriptions_2.csv')"
   ]
  },
  {
   "cell_type": "code",
   "execution_count": null,
   "metadata": {},
   "outputs": [],
   "source": [
    "# import sys\n",
    "# sys.setrecursionlimit(100000000)\n",
    "# import numpy as np\n",
    "# np.save(\"d1.npy\", product_name_description)\n",
    "# d2=np.load(\"d1.npy\")"
   ]
  },
  {
   "cell_type": "code",
   "execution_count": null,
   "metadata": {},
   "outputs": [],
   "source": [
    "# import pickle\n",
    "\n",
    "# with open('filename.pickle', 'wb') as handle:\n",
    "#     pickle.dump(product_name_description, handle, protocol=pickle.HIGHEST_PROTOCOL)\n",
    "\n",
    "# # with open('filename.pickle', 'rb') as handle:\n",
    "# #     b = pickle.load(handle)\n"
   ]
  },
  {
   "cell_type": "code",
   "execution_count": null,
   "metadata": {},
   "outputs": [],
   "source": [
    "# for i in description:\n",
    "#     print(i.find_all(\"li\"))"
   ]
  },
  {
   "cell_type": "code",
   "execution_count": null,
   "metadata": {},
   "outputs": [],
   "source": [
    "# with open (\"J:/descriptions.txt\", \"w\") as f:\n",
    "#     for i in product_name_description:\n",
    "#         f.write(i)\n",
    "#         f.write('\\n')"
   ]
  },
  {
   "cell_type": "code",
   "execution_count": null,
   "metadata": {},
   "outputs": [],
   "source": [
    "# len(all_product)"
   ]
  },
  {
   "cell_type": "code",
   "execution_count": 5,
   "metadata": {},
   "outputs": [
    {
     "ename": "NameError",
     "evalue": "name 'all_product' is not defined",
     "output_type": "error",
     "traceback": [
      "\u001b[1;31m---------------------------------------------------------------------------\u001b[0m",
      "\u001b[1;31mNameError\u001b[0m                                 Traceback (most recent call last)",
      "\u001b[1;32m<ipython-input-5-dc3bb70a5e9c>\u001b[0m in \u001b[0;36m<module>\u001b[1;34m\u001b[0m\n\u001b[0;32m      1\u001b[0m \u001b[1;32mwith\u001b[0m \u001b[0mopen\u001b[0m\u001b[1;33m(\u001b[0m\u001b[1;34m\"J:/product_names_with_douhao.txt\"\u001b[0m\u001b[1;33m,\u001b[0m \u001b[1;34m\"w\"\u001b[0m\u001b[1;33m)\u001b[0m \u001b[1;32mas\u001b[0m \u001b[0mp\u001b[0m\u001b[1;33m:\u001b[0m\u001b[1;33m\u001b[0m\u001b[1;33m\u001b[0m\u001b[0m\n\u001b[1;32m----> 2\u001b[1;33m     \u001b[1;32mfor\u001b[0m \u001b[0mi\u001b[0m \u001b[1;32min\u001b[0m \u001b[0mall_product\u001b[0m\u001b[1;33m:\u001b[0m\u001b[1;33m\u001b[0m\u001b[1;33m\u001b[0m\u001b[0m\n\u001b[0m\u001b[0;32m      3\u001b[0m         \u001b[1;32mfor\u001b[0m \u001b[0mj\u001b[0m \u001b[1;32min\u001b[0m \u001b[0mi\u001b[0m\u001b[1;33m:\u001b[0m\u001b[1;33m\u001b[0m\u001b[1;33m\u001b[0m\u001b[0m\n\u001b[0;32m      4\u001b[0m             \u001b[0mp\u001b[0m\u001b[1;33m.\u001b[0m\u001b[0mwrite\u001b[0m\u001b[1;33m(\u001b[0m\u001b[0mj\u001b[0m \u001b[1;33m+\u001b[0m \u001b[1;34m\",\"\u001b[0m\u001b[1;33m)\u001b[0m\u001b[1;33m\u001b[0m\u001b[1;33m\u001b[0m\u001b[0m\n\u001b[0;32m      5\u001b[0m             \u001b[0mp\u001b[0m\u001b[1;33m.\u001b[0m\u001b[0mwrite\u001b[0m\u001b[1;33m(\u001b[0m\u001b[1;34m'\\n'\u001b[0m\u001b[1;33m)\u001b[0m\u001b[1;33m\u001b[0m\u001b[1;33m\u001b[0m\u001b[0m\n",
      "\u001b[1;31mNameError\u001b[0m: name 'all_product' is not defined"
     ]
    }
   ],
   "source": [
    "# with open(\"J:/product_names_with_douhao.txt\", \"w\") as p:\n",
    "#     for i in all_product:\n",
    "#         for j in i:\n",
    "#             p.write(j + \",\")\n",
    "#             p.write('\\n')\n",
    "    "
   ]
  },
  {
   "cell_type": "code",
   "execution_count": null,
   "metadata": {},
   "outputs": [],
   "source": []
  },
  {
   "cell_type": "code",
   "execution_count": null,
   "metadata": {},
   "outputs": [],
   "source": []
  }
 ],
 "metadata": {
  "kernelspec": {
   "display_name": "Python 3",
   "language": "python",
   "name": "python3"
  },
  "language_info": {
   "codemirror_mode": {
    "name": "ipython",
    "version": 3
   },
   "file_extension": ".py",
   "mimetype": "text/x-python",
   "name": "python",
   "nbconvert_exporter": "python",
   "pygments_lexer": "ipython3",
   "version": "3.7.1"
  }
 },
 "nbformat": 4,
 "nbformat_minor": 2
}
