{
 "cells": [
  {
   "cell_type": "code",
   "execution_count": 80,
   "metadata": {},
   "outputs": [
    {
     "name": "stdout",
     "output_type": "stream",
     "text": [
      "The autoreload extension is already loaded. To reload it, use:\n",
      "  %reload_ext autoreload\n"
     ]
    }
   ],
   "source": [
    "%load_ext autoreload\n",
    "%autoreload 2"
   ]
  },
  {
   "cell_type": "code",
   "execution_count": 81,
   "metadata": {},
   "outputs": [],
   "source": [
    "import os\n",
    "import selenium\n",
    "import time\n",
    "from selenium import webdriver\n",
    "from bs4 import BeautifulSoup as BS\n",
    "from selenium.webdriver.chrome.options import Options\n",
    "import sys\n",
    "import pickle\n",
    "import pandas as pd\n",
    "from tqdm import tqdm, tqdm_notebook\n",
    "from Codes.Review_scrawler import *\n",
    "from Codes.feature_extraction import *"
   ]
  },
  {
   "cell_type": "markdown",
   "metadata": {},
   "source": [
    "### Load the descriptions"
   ]
  },
  {
   "cell_type": "code",
   "execution_count": 26,
   "metadata": {},
   "outputs": [],
   "source": [
    "with open('product_names.txt', \"r\") as x:\n",
    "    all_product = x.read().splitlines()"
   ]
  },
  {
   "cell_type": "code",
   "execution_count": 39,
   "metadata": {},
   "outputs": [
    {
     "name": "stderr",
     "output_type": "stream",
     "text": [
      "100%|██████████| 1/1 [2:00:00<00:00, 7200.77s/it]\n"
     ]
    }
   ],
   "source": [
    "product_name_description = Scrawl_product_description('product_names.txt')"
   ]
  },
  {
   "cell_type": "code",
   "execution_count": 43,
   "metadata": {},
   "outputs": [],
   "source": [
    "with open('product_description.pickle', 'wb') as handle:\n",
    "    pickle.dump(product_name_description, handle, pickle.HIGHEST_PROTOCOL)"
   ]
  },
  {
   "cell_type": "code",
   "execution_count": 67,
   "metadata": {},
   "outputs": [],
   "source": [
    "product_name_description = pickle.load(open('product_description.pickle', 'rb'))\n"
   ]
  },
  {
   "cell_type": "code",
   "execution_count": 68,
   "metadata": {},
   "outputs": [
    {
     "name": "stderr",
     "output_type": "stream",
     "text": [
      "100%|██████████| 455/455 [00:00<00:00, 608936.92it/s]\n"
     ]
    }
   ],
   "source": [
    "\n",
    "sum_products = 0\n",
    "for key in tqdm(product_name_description.keys()):\n",
    "    sum_products += len(product_name_description[key])"
   ]
  },
  {
   "cell_type": "markdown",
   "metadata": {},
   "source": [
    "### The list of POS tags is as follows, with examples of what each POS stands for."
   ]
  },
  {
   "cell_type": "markdown",
   "metadata": {},
   "source": [
    "* CC coordinating conjunction\n",
    "* CD cardinal digit\n",
    "* DT determiner\n",
    "* EX existential there (like: “there is” … think of it like “there exists”)\n",
    "* FW foreign word\n",
    "* IN preposition/subordinating conjunction\n",
    "* JJ adjective ‘big’\n",
    "* JJR adjective, comparative ‘bigger’\n",
    "* JJS adjective, superlative ‘biggest’\n",
    "* LS list marker 1)\n",
    "* MD modal could, will\n",
    "* NN noun, singular ‘desk’\n",
    "* NNS noun plural ‘desks’\n",
    "* NNP proper noun, singular ‘Harrison’\n",
    "* NNPS proper noun, plural ‘Americans’\n",
    "* PDT predeterminer ‘all the kids’\n",
    "* POS possessive ending parent’s\n",
    "* PRP personal pronoun I, he, she\n",
    "* PRP possessive pronoun my, his, hers\n",
    "* RB adverb very, silently,\n",
    "* RBR adverb, comparative better\n",
    "* RBS adverb, superlative best\n",
    "* RP particle give up\n",
    "* TO, to go ‘to’ the store.\n",
    "* UH interjection, errrrrrrrm\n",
    "* VB verb, base form take\n",
    "* VBD verb, past tense took\n",
    "* VBG verb, gerund/present participle taking\n",
    "* VBN verb, past participle taken\n",
    "* VBP verb, sing. present, non-3d take\n",
    "* VBZ verb, 3rd person sing. present takes\n",
    "* WDT wh-determiner which\n",
    "* WP wh-pronoun who, what\n",
    "* WP possessive wh-pronoun whose\n",
    "* WRB wh-abverb where, when"
   ]
  },
  {
   "cell_type": "markdown",
   "metadata": {},
   "source": [
    "## Feature Extraction - Basic Implementation\n"
   ]
  },
  {
   "cell_type": "markdown",
   "metadata": {},
   "source": [
    "* __Step 1: Finding Candidate Features:__ First approach for extracting features was based on the intuition that product features are usually nouns or noun phrases [1]. Using the POS associated with words during the data generation phase, we created a new view of data where each sentence in the review was considered  as a bag of words. The  words  chosen  to  represent  a  sentence  were  those  that  were  marked  as  nouns  (NN/NNS).  We chose  to  ignore  proper  nouns,  which  we  believe  cannot  be  features  associated  with  a  product. \n",
    "\n",
    "* __Step 2: Finding Candidate Features:__ Furthermore, as we observed in the data, some phrases that represent features (such as optical zoom) were made of two classes of words, nouns and adjectives. So as to be able to detect such features, we also included words marked as adjectives (JJ/JJR/JJS) in our bag of words model.\n",
    "\n",
    "* __Step 3: Finding Frequent Features:__ The  next  step  was  to  extract  frequent  features  from  the  candidate  feature  words.  We  used  an implementation  based  on  the  APRIORI  algorithm  [10]  for  identifying  frequently  occurring word/word  pairs  from  the  bag  of  words  data  model. Using  a  support  threshold  of  0.5%,  we  got  a good  set  of  candidate  features.  \n",
    "\n",
    "* __Step 4: Remove Opinion Words:__ However,  we  observed  that  because  of  inclusion  of  adjectives  when finding the frequent item sets, we got many candidate features that actually were opinion words (like good,  best,  bad).  In  order  to  filter  out  such  frequent  items,  we  considered  only  those  single  items that  occurred  as a  noun  somewhere in  the  corpus, or  in  case  of  word phrases, if  at  least one  of the word in the phrase occurred as a noun somewhere in the corpus. \n",
    "\n",
    "* __Step 5: Feature Set:__ The resulting set of words was our feature set for the product trained on."
   ]
  },
  {
   "cell_type": "markdown",
   "metadata": {},
   "source": [
    "### Step 1 through 3"
   ]
  },
  {
   "cell_type": "code",
   "execution_count": null,
   "metadata": {},
   "outputs": [],
   "source": [
    "model = Features(product_name_description)\n",
    "candidate_featres, pos = model.get_candidate_attributes(show = True, lower = True)\n"
   ]
  },
  {
   "cell_type": "code",
   "execution_count": 85,
   "metadata": {},
   "outputs": [],
   "source": [
    "import numpy as np"
   ]
  },
  {
   "cell_type": "code",
   "execution_count": 88,
   "metadata": {},
   "outputs": [],
   "source": [
    "ramin = np.random.choice(pos, 100)\n",
    "jade = np.random.choice(pos, 100)"
   ]
  },
  {
   "cell_type": "code",
   "execution_count": 93,
   "metadata": {},
   "outputs": [],
   "source": [
    "np.save('jade_pos.npy', jade)\n",
    "np.save('ramin_pos.npy', ramin)"
   ]
  },
  {
   "cell_type": "code",
   "execution_count": 73,
   "metadata": {},
   "outputs": [],
   "source": [
    "frequency_counts = model.get_frequent_attributes(support = 0.005)"
   ]
  },
  {
   "cell_type": "code",
   "execution_count": 94,
   "metadata": {},
   "outputs": [
    {
     "name": "stdout",
     "output_type": "stream",
     "text": [
      "[list([('tongue', 'NN'), ('logo', 'NN'), ('and', 'CC'), ('exaggerated', 'JJ'), ('tongue', 'NN'), ('top', 'JJ'), ('reminiscent', 'NN'), ('of', 'IN'), ('the', 'DT'), ('original', 'JJ'), ('air', 'NN'), ('max', 'VBD'), ('180', 'CD')])\n",
      " list([('the', 'DT'), ('men', 'NNS'), (\"'s\", 'POS'), ('nike', 'NN'), ('lebron', 'VBD'), ('16', 'CD'), ('basketball', 'NN'), ('shoes', 'NNS'), ('deliver', 'VB'), ('a', 'DT'), ('powerful', 'JJ'), ('combination', 'NN'), ('of', 'IN'), ('support', 'NN')])\n",
      " list([('a', 'DT'), ('fusion', 'NN'), ('of', 'IN'), ('the', 'DT'), ('best', 'JJS'), ('adidas', 'NN'), ('technologies', 'NNS'), ('and', 'CC'), ('progressive', 'JJ'), ('street', 'NN'), ('style', 'NN'), ('collide', 'NN'), ('for', 'IN'), ('the', 'DT'), ('men', 'NNS'), (\"'s\", 'POS'), ('adidas', 'NNS'), ('nmd', 'CC'), ('runner', 'NN'), ('r1', 'VBP'), ('casual', 'JJ'), ('shoes', 'NNS'), ('.', '.'), ('if', 'IN'), ('you', 'PRP'), ('are', 'VBP'), ('looking', 'VBG'), ('for', 'IN'), ('the', 'DT'), ('perfect', 'JJ'), ('kicks', 'NNS'), ('to', 'TO'), ('stand', 'VB'), ('up', 'RP'), ('to', 'TO'), ('your', 'PRP$'), ('wardrobe', 'NN'), ('look', 'VB'), ('no', 'DT'), ('further', 'JJR'), ('than', 'IN'), ('the', 'DT'), ('adidas', 'JJ'), ('nmd', 'NN'), ('r1', 'NN'), ('casual', 'JJ'), ('shoes', 'NNS')])\n",
      " list([('fila', 'NN'), ('branding', 'VBG'), ('throughout', 'IN'), ('design', 'NN')])\n",
      " list([('rubber', 'NN'), ('pods', 'NNS'), ('in', 'IN'), ('high-wear', 'JJ'), ('areas', 'NNS'), ('for', 'IN'), ('enhanced', 'JJ'), ('durability', 'NN')])\n",
      " list([('deeply-grooved', 'JJ'), ('outsole', 'NN'), ('flexes', 'NNS'), ('with', 'IN'), ('the', 'DT'), ('foot', 'NN'), ('and', 'CC'), ('expands', 'NNS'), ('in', 'IN'), ('every', 'DT'), ('direction', 'NN'), ('for', 'IN'), ('a', 'DT'), ('lightweight', 'JJ'), ('feel', 'NN')])\n",
      " list([('forge', 'VB'), ('your', 'PRP$'), ('own', 'JJ'), ('path', 'NN'), ('with', 'IN'), ('the', 'DT'), ('men', 'NNS'), (\"'s\", 'POS'), ('adidas', 'NN'), ('originals', 'NNS'), ('x_plr', 'VBP'), ('casual', 'JJ'), ('shoes', 'NNS'), ('.', '.'), ('the', 'DT'), ('models', 'NNS'), ('light', 'NN'), ('and', 'CC'), ('breathable', 'JJ'), ('upper', 'NN')])\n",
      " list([('impact', 'NN'), ('protection', 'NN'), ('and', 'CC'), ('energy-return', 'NN')])\n",
      " list([('features', 'NNS'), (':', ':')])\n",
      " list([('breathable', 'JJ'), ('stretch-mesh', 'JJ'), ('upper', 'NN'), ('on', 'IN'), ('the', 'DT'), ('adidas', 'JJ'), ('nmd', 'NN'), ('runner', 'NN'), ('r1', 'NN')])\n",
      " list([('functionality', 'NN'), ('and', 'CC'), ('fashion', 'NN'), ('meet', 'NN'), ('in', 'IN'), ('the', 'DT'), ('middle', 'NN'), ('in', 'IN'), ('this', 'DT'), ('retro', 'NN'), ('style', 'NN'), ('made', 'VBN'), ('for', 'IN'), ('modern', 'JJ'), ('day', 'NN'), ('.', '.'), ('the', 'DT'), ('men', 'NNS'), ('’', 'VBP'), ('s', 'NN'), ('nike', 'IN'), ('air', 'NN'), ('max', '$'), ('95', 'CD'), ('essential', 'JJ'), ('casual', 'JJ'), ('shoes', 'NNS'), ('offer', 'VBP'), ('iconic', 'JJ'), ('style', 'NN'), ('in', 'IN'), ('a', 'DT'), ('shoe', 'NN'), ('that', 'WDT'), ('’', 'VBZ'), ('s', 'RB'), ('as', 'RB'), ('functional', 'JJ'), ('as', 'IN'), ('it', 'PRP'), ('is', 'VBZ'), ('good-looking', 'JJ'), ('.', '.')])\n",
      " list([('this', 'DT'), ('updated', 'JJ'), ('model', 'NN'), ('places', 'NNS'), ('your', 'PRP$'), ('foot', 'NN'), ('directly', 'RB'), ('on', 'IN'), ('top', 'NN'), ('of', 'IN'), ('the', 'DT'), ('nike', 'JJ'), ('air', 'NN'), ('technology', 'NN')])\n",
      " list([('synthetic', 'JJ'), ('leather', 'NN'), ('uppers', 'NNS')])\n",
      " list([('imported', 'VBN')])\n",
      " list([('the', 'DT'), ('nike', 'JJ'), ('air', 'NN'), ('vapormax', 'NNS'), ('flyknit', 'VBP'), ('3', 'CD'), ('is', 'VBZ'), ('imported', 'VBN'), ('.', '.')])\n",
      " list([('the', 'DT'), ('nike', 'JJ'), ('air', 'NN'), ('max', '$'), ('270', 'CD'), ('is', 'VBZ'), ('imported', 'VBN')])\n",
      " list([('and', 'CC'), ('skin', 'NN'), ('.', '.')])\n",
      " list([('while', 'IN'), ('also', 'RB'), ('providing', 'VBG'), ('lightweight', 'JJ'), ('comfort', 'NN'), ('.', '.'), ('synthetic', 'JJ'), ('overlays', 'NNS'), ('provide', 'VBP'), ('support', 'NN')])\n",
      " list([('herringbone', 'NN'), ('outsole', 'NN'), ('pattern', 'NN'), ('for', 'IN'), ('flexibility', 'NN'), ('and', 'CC'), ('durable', 'JJ'), ('traction', 'NN')])\n",
      " list([('stretchy', 'NN'), ('sleeve', 'NN'), ('allows', 'VBZ'), ('you', 'PRP'), ('to', 'TO'), ('slip', 'VB'), ('in', 'IN'), ('and', 'CC'), ('out', 'IN'), ('with', 'IN'), ('ease', 'NN')])\n",
      " list([('heel', 'NN'), ('pull', 'NN'), ('tab', 'NN'), ('for', 'IN'), ('an', 'DT'), ('easy', 'JJ'), ('on', 'IN'), ('and', 'CC'), ('off', 'IN')])\n",
      " list([('innovative', 'JJ'), ('bounce', 'NN'), ('midsole', 'NN'), ('for', 'IN'), ('flexible', 'JJ'), ('cushioning', 'NN'), ('and', 'CC'), ('long-distance', 'NN'), ('support', 'NN')])\n",
      " list([('spandex', 'NN')]) list([('socklike', 'NN')])\n",
      " list([('the', 'DT'), ('air', 'NN'), ('max', 'VBZ'), ('270', 'CD'), ('still', 'RB'), ('boast', 'VB'), ('a', 'DT'), ('vintage-inspired', 'JJ'), ('exaggerated', 'JJ'), ('tongue', 'NN'), ('top', 'NN'), ('and', 'CC'), ('heritage', 'NN'), ('tongue', 'NN'), ('logo', 'NN')])\n",
      " list([('lightweight', 'NN')])\n",
      " list([('breathable', 'JJ'), ('stretch-mesh', 'JJ'), ('upper', 'NN'), ('on', 'IN'), ('the', 'DT'), ('adidas', 'JJ'), ('nmd', 'NN'), ('runner', 'NN'), ('r1', 'NN')])\n",
      " list([('a', 'DT'), ('unique', 'JJ'), ('mid-cut', 'JJ'), ('silhouette', 'NN'), ('and', 'CC'), ('elastic', 'JJ'), ('fit', 'NN'), ('combine', 'NN'), ('in', 'IN'), ('the', 'DT'), ('men', 'NNS'), (\"'s\", 'POS'), ('champion', 'NN'), ('rally', 'NN'), ('pro', 'JJ'), ('casual', 'JJ'), ('shoes', 'NNS'), ('.', '.'), ('the', 'DT'), ('one-piece', 'JJ'), ('bootie', 'NN'), ('construction', 'NN'), ('offers', 'VBZ'), ('a', 'DT'), ('modern', 'JJ'), ('feel', 'NN'), ('with', 'IN'), ('heritage', 'NN'), ('champion', 'NN'), ('detailing', 'VBG'), ('you', 'PRP'), ('love', 'VBP'), ('.', '.')])\n",
      " list([('full-length', 'JJ'), ('air', 'NN'), ('sole', 'JJ'), ('unit', 'NN'), ('for', 'IN'), ('responsive', 'JJ'), ('cushioning', 'NN')])\n",
      " list([('rubber', 'NN'), ('outsole', 'NN'), ('for', 'IN'), ('durable', 'JJ'), ('traction', 'NN')])\n",
      " list([('the', 'DT'), ('iconic', 'JJ'), ('men', 'NNS'), (\"'s\", 'POS'), ('nike', 'NN'), ('air', 'NN'), ('huarache', 'NN'), ('run', 'VB'), ('ultra', 'JJ'), ('casual', 'JJ'), ('shoe', 'NN'), ('is', 'VBZ'), ('back', 'RB'), ('and', 'CC'), ('better', 'RBR'), ('than', 'IN'), ('ever', 'RB'), ('.', '.'), ('a', 'DT'), ('featherweight', 'JJ'), ('update', 'NN'), ('beautifully', 'RB'), ('blends', 'VBZ'), ('style', 'NN'), ('and', 'CC'), ('comfort', 'NN'), ('for', 'IN'), ('all-new', 'JJ'), ('take', 'NN'), ('on', 'IN'), ('a', 'DT'), ('classic', 'JJ'), ('.', '.')])\n",
      " list([('piqué', 'NN'), ('knit', 'NN'), ('upper', 'JJ')])\n",
      " list([('flexibility', 'NN'), ('and', 'CC'), ('stability', 'NN')])\n",
      " list([('rubber', 'NN'), ('pods', 'NNS'), ('on', 'IN'), ('the', 'DT'), ('outsole', 'NN'), ('in', 'IN'), ('high-wear', 'JJ'), ('areas', 'NNS'), ('for', 'IN'), ('enhanced', 'JJ'), ('durability', 'NN')])\n",
      " list([('integrated', 'VBN'), ('lugs', 'NNS'), ('on', 'IN'), ('the', 'DT'), ('outsole', 'NN'), ('for', 'IN'), ('traction', 'NN')])\n",
      " list([('wavy', 'JJ'), ('detailing', 'VBG'), ('at', 'IN'), ('the', 'DT'), ('sides', 'NNS'), ('mimics', 'VBP'), ('the', 'DT'), ('iconic', 'JJ'), ('nike', 'NN'), ('swoosh', 'NN')])\n",
      " list([('or', 'CC'), ('just', 'RB'), ('running', 'VBG'), ('errands', 'NNS')])\n",
      " list([('flywire', 'NN'), ('cables', 'NNS'), ('act', 'VBP'), ('as', 'IN'), ('eyestays', 'NNS'), ('and', 'CC'), ('lock', 'VB'), ('your', 'PRP$'), ('foot', 'NN'), ('down', 'RP')])\n",
      " list([('woven', 'RB'), ('upper', 'JJ'), ('for', 'IN'), ('durability', 'NN')])\n",
      " list([('geometric', 'JJ'), ('pattern', 'NN'), ('on', 'IN'), ('the', 'DT'), ('outsole', 'NN'), ('is', 'VBZ'), ('runner-specific', 'JJ')])\n",
      " list([('leather', 'NN'), ('and', 'CC'), ('synthetic', 'JJ'), ('upper', 'NN'), ('for', 'IN'), ('a', 'DT'), ('premium', 'JJ'), ('look', 'NN')])\n",
      " list([('staying', 'VBG'), ('true', 'JJ'), ('to', 'TO'), ('the', 'DT'), ('iconic', 'JJ'), ('original', 'NN')])\n",
      " list([('separated', 'VBN'), ('tongue', 'NN'), ('allows', 'VBZ'), ('for', 'IN'), ('the', 'DT'), ('perfect', 'JJ'), ('fit', 'NN')])\n",
      " list([('flyknit', 'NN'), ('construction', 'NN'), ('is', 'VBZ'), ('lightweight', 'JJ'), ('and', 'CC'), ('flexible', 'JJ')])\n",
      " list([('the', 'DT'), ('nike', 'JJ'), ('air', 'NN'), ('vapormax', 'JJ'), ('plus', 'CC'), ('is', 'VBZ'), ('imported', 'VBN')])\n",
      " list([('the', 'DT'), ('adidas', 'JJ'), ('swift', 'NN'), ('run', 'NN'), ('is', 'VBZ'), ('imported', 'VBN')])\n",
      " list([('the', 'DT'), ('nike', 'NN'), ('zoom', 'NN'), ('kd11', 'NN'), ('is', 'VBZ'), ('imported', 'VBN')])\n",
      " list([('energy-returning', 'JJ'), ('boost', 'NN'), ('midsole', 'NN')])\n",
      " list([('these', 'DT'), ('trainers', 'NNS'), ('are', 'VBP'), ('the', 'DT'), ('perfect', 'JJ'), ('companion', 'NN'), ('to', 'TO'), ('hit', 'VB'), ('your', 'PRP$'), ('fitness', 'NN'), ('goals', 'NNS'), ('.', '.')])\n",
      " list([('snug', 'NN'), ('and', 'CC'), ('secure', 'JJ'), ('sock-like', 'JJ'), ('construction', 'NN')])\n",
      " list([('long-distance', 'NN'), ('running', 'VBG'), ('just', 'RB'), ('got', 'VBD'), ('an', 'DT'), ('upgrade', 'NN'), ('with', 'IN'), ('the', 'DT'), ('men', 'NNS'), ('’', 'VBP'), ('s', 'JJ'), ('adidas', 'NNS'), ('adizero', 'VBP'), ('adios', 'RB'), ('4', 'CD'), ('running', 'VBG'), ('shoes', 'NNS'), ('.', '.'), ('don', 'VB'), ('’', 'JJ'), ('t', 'NN'), ('sign', 'NN'), ('up', 'RP'), ('for', 'IN'), ('your', 'PRP$'), ('next', 'JJ'), ('marathon', 'NN'), ('without', 'IN'), ('these', 'DT'), ('sneakers', 'NNS'), ('.', '.')])\n",
      " list([('iconic', 'JJ'), ('lacing', 'NN'), ('system', 'NN'), ('allows', 'VBZ'), ('for', 'IN'), ('a', 'DT'), ('custom', 'NN'), ('fit', 'NN')])\n",
      " list([('foamposite', 'JJ'), ('upper', 'NN'), ('is', 'VBZ'), ('lightweight', 'JJ'), ('and', 'CC'), ('durable', 'JJ')])\n",
      " list([('exaggerated', 'JJ'), ('heel', 'NN'), ('and', 'CC'), ('branding', 'NN'), ('are', 'VBP'), ('reference', 'NN'), ('to', 'TO'), ('the', 'DT'), ('chunky', 'NN')])\n",
      " list([('the', 'DT'), ('men', 'NNS'), (\"'s\", 'POS'), ('nike', 'NN'), ('air', 'NN'), ('max', 'VBD'), ('90', 'CD'), ('essential', 'JJ'), ('casual', 'JJ'), ('shoes', 'NNS'), ('put', 'VBD'), ('an', 'DT'), ('updated', 'JJ'), ('spin', 'NN'), ('on', 'IN'), ('the', 'DT'), ('iconic', 'JJ'), ('air', 'NN'), ('max', 'VBD'), ('90.', 'CD'), ('with', 'IN'), ('a', 'DT'), ('premium', 'JJ'), ('look', 'NN'), ('and', 'CC'), ('comfort', 'NN'), ('at', 'IN'), ('the', 'DT'), ('forefront', 'NN')])\n",
      " list([('the', 'DT'), ('nike', 'JJ'), ('air', 'NN'), ('max', '$'), ('95', 'CD'), ('is', 'VBZ'), ('imported', 'VBN')])\n",
      " list([('breathable', 'JJ'), ('primknit', 'NN'), ('upper', 'JJ')])\n",
      " list([('the', 'DT'), ('men', 'NNS'), (\"'s\", 'POS'), ('champion', 'NN'), ('court', 'NN'), ('classic', 'JJ'), ('casual', 'NN'), ('shoes', 'NNS'), ('are', 'VBP'), ('built', 'VBN'), ('with', 'IN'), ('trendy', 'JJ'), ('guys', 'NNS'), ('in', 'IN'), ('mind', 'NN'), ('.', '.'), ('from', 'IN'), ('the', 'DT'), ('streets', 'NNS'), ('and', 'CC'), ('beyond', 'IN')])\n",
      " list([('engineered', 'VBN'), ('mesh', 'NN'), ('in', 'IN'), ('the', 'DT'), ('forefoot', 'NN')])\n",
      " list([('rubber', 'NN'), ('outsole', 'NN'), ('built', 'VBN'), ('for', 'IN'), ('multi-surface', 'NN'), ('traction', 'NN')])\n",
      " list([('responsive', 'JJ'), ('ride', 'NN')]) list([('floating', 'VBG')])\n",
      " list([('the', 'DT'), ('men', 'NNS'), (\"'s\", 'POS'), ('air', 'NN'), ('jordan', 'VBZ'), ('1', 'CD'), ('mid', 'NN'), ('retro', 'NN'), ('basketball', 'NN'), ('shoes', 'VBZ'), ('offers', 'VBZ'), ('a', 'DT'), ('look', 'NN'), ('that', 'IN'), ('ballers', 'NNS'), ('and', 'CC'), ('sneakerheads', 'NNS'), ('everywhere', 'RB'), ('just', 'RB'), ('ca', 'MD'), (\"n't\", 'RB'), ('get', 'VB'), ('enough', 'JJ'), ('of', 'IN'), ('.', '.')])\n",
      " list([('coveted', 'VBN'), ('boost', 'NN'), ('cushioning', 'NN'), ('for', 'IN'), ('a', 'DT'), ('plush', 'NN')])\n",
      " list([('boost', 'NN'), ('midsole', 'NN'), ('propels', 'NNS'), ('you', 'PRP'), ('forward', 'RB'), ('by', 'IN'), ('capitalizing', 'VBG'), ('on', 'IN'), ('the', 'DT'), ('energy', 'NN'), ('from', 'IN'), ('your', 'PRP$'), ('footstrike', 'NN')])\n",
      " list([('imported', 'VBN')])\n",
      " list([('the', 'DT'), ('nike', 'JJ'), ('air', 'NN'), ('max', 'VBD'), ('95', 'CD'), ('og', 'NN'), ('is', 'VBZ'), ('imported', 'VBN')])\n",
      " list([('flightspeed', 'JJ'), ('technology', 'NN'), ('provides', 'VBZ'), ('propulsion', 'NN'), ('and', 'CC'), ('comfort', 'NN')])\n",
      " list([('design', 'NN'), ('lines', 'NNS')])\n",
      " list([('protective', 'JJ'), ('rubber', 'NN'), ('sheel', 'NN'), ('toe', 'NN')])\n",
      " list([('adjustable', 'JJ'), ('midfoot', 'NN'), ('strap', 'NN'), ('provides', 'VBZ'), ('a', 'DT'), ('secure', 'NN')])\n",
      " list([('seam-sealed', 'JJ'), ('construction', 'NN')])\n",
      " list([('the', 'DT'), ('men', 'NNS'), (\"'s\", 'POS'), ('nike', 'NN'), ('air', 'NN'), ('max', 'VBD'), ('1', 'CD'), ('casual', 'JJ'), ('shoes', 'NNS'), ('put', 'VBD'), ('a', 'DT'), ('modern', 'JJ'), ('spin', 'NN'), ('on', 'IN'), ('an', 'DT'), ('iconic', 'JJ'), ('silhouette', 'NN'), ('.', '.'), ('even', 'RB'), ('with', 'IN'), ('the', 'DT'), ('updates', 'NNS'), ('the', 'DT'), ('comfort', 'NN'), ('level', 'NN'), ('remains', 'VBZ'), ('the', 'DT'), ('same', 'JJ'), ('as', 'IN'), ('the', 'DT'), ('original', 'JJ'), ('.', '.')])\n",
      " list([('the', 'DT'), ('nike', 'JJ'), ('air', 'NN'), ('max', '$'), ('95', 'CD'), ('is', 'VBZ'), ('imported', 'VBN')])\n",
      " list([('rubber', 'NN'), ('toe', 'NN'), ('tip', 'NN'), ('for', 'IN'), ('added', 'JJ'), ('durability', 'NN')])\n",
      " list([('the', 'DT'), ('puma', 'NN'), ('rs-x', 'NN'), ('tracks', 'NNS'), ('is', 'VBZ'), ('imported', 'VBN'), ('.', '.')])\n",
      " list([('cushy', 'JJ'), ('full-length', 'JJ'), ('phylon', 'NN'), ('midsole', 'NN')])\n",
      " list([('the', 'DT'), ('nike', 'JJ'), ('air', 'NN'), ('max', '$'), ('270', 'CD'), ('is', 'VBZ'), ('imported', 'VBN')])\n",
      " list([('rubber', 'NN'), ('lugs', 'NNS'), ('on', 'IN'), ('the', 'DT'), ('outsole', 'NN'), ('for', 'IN'), ('enhanced', 'JJ'), ('traction', 'NN')])\n",
      " list([('integrated', 'VBN'), ('lugs', 'NNS'), ('on', 'IN'), ('the', 'DT'), ('outsole', 'NN'), ('for', 'IN'), ('durable', 'JJ'), ('traction', 'NN')])\n",
      " list([('comfort', 'NN'), ('and', 'CC'), ('massages', 'NNS'), ('your', 'PRP$'), ('foot', 'NN'), ('.', '.')])\n",
      " list([('non-marking', 'NN')])\n",
      " list([('the', 'DT'), ('men', 'NNS'), (\"'s\", 'POS'), ('nike', 'NN'), ('air', 'NN'), ('force', 'NN'), ('270', 'CD'), ('utility', 'NN'), ('off-court', 'NN'), ('shoes', 'NNS'), ('are', 'VBP'), ('the', 'DT'), ('perfect', 'JJ'), ('foil', 'NN'), ('to', 'TO'), ('the', 'DT'), ('cold', 'NN'), ('and', 'CC'), ('rain', 'NN'), ('.', '.')])\n",
      " list([('circular-knit', 'JJ'), ('upper', 'JJ'), ('with', 'IN'), ('spandex', 'NN'), ('provides', 'VBZ'), ('lightweight', 'JJ'), ('comfort', 'NN')])\n",
      " list([('outsole', 'NN'), (':', ':'), ('pivot', 'NN'), ('points', 'NNS'), ('at', 'IN'), ('forefoot', 'NN'), ('and', 'CC'), ('heel', 'NN')])\n",
      " list([('from', 'IN'), ('the', 'DT'), ('treadmill', 'NN'), ('to', 'TO'), ('the', 'DT'), ('streets', 'NNS'), ('and', 'CC'), ('everywhere', 'RB'), ('in', 'IN'), ('between', 'IN')])\n",
      " list([('revolutionary', 'JJ'), ('vapormax', 'NN'), ('air', 'NN'), ('sole', 'NN'), ('for', 'IN'), ('soft', 'JJ')])\n",
      " list([('mid', 'JJ'), ('cut', 'NN'), ('design', 'NN'), ('for', 'IN'), ('heightened', 'VBN'), ('ankle', 'JJ'), ('support', 'NN')])\n",
      " list([('hidden', 'JJ'), ('sock', 'NN'), ('construction', 'NN')])\n",
      " list([('nike', 'IN'), ('air', 'NN'), ('cushioning', 'VBG'), ('system', 'NN')])\n",
      " list([('energy-returning', 'JJ'), ('boost', 'NN'), ('midsole', 'NN')])\n",
      " list([('these', 'DT'), ('bootie-constructed', 'JJ'), ('running', 'NN'), ('sneakers', 'NNS'), ('are', 'VBP'), ('as', 'RB'), ('comfortable', 'JJ'), ('as', 'IN'), ('they', 'PRP'), ('are', 'VBP'), ('good-looking', 'JJ'), ('.', '.')])\n",
      " list([('3d', 'CD'), ('support', 'NN'), ('frame', 'NN')])\n",
      " list([('synthetic', 'JJ'), ('leather', 'NN'), ('uppers', 'NNS')])\n",
      " list([('adaptive', 'JJ'), ('knit', 'NN'), ('upper', 'JJ')])\n",
      " list([('mesh', 'JJ'), ('upper', 'JJ'), ('features', 'NNS'), ('textile', 'NN'), ('and', 'CC'), ('leather', 'NN'), ('overlays', 'NNS'), ('for', 'IN'), ('style', 'NN')])\n",
      " list([('the', 'DT'), ('nike', 'JJ'), ('lebron', 'NN'), ('16', 'CD'), ('low', 'NN'), ('is', 'VBZ'), ('imported', 'VBN'), ('.', '.')])\n",
      " list([('stretchweb', 'NN'), ('technology', 'NN'), ('adapts', 'NNS'), ('to', 'TO'), ('the', 'DT'), ('way', 'NN'), ('your', 'PRP$'), ('foot', 'NN'), ('hits', 'VBZ'), ('the', 'DT'), ('ground', 'NN')])\n",
      " list([('large', 'JJ'), ('volume', 'NN'), ('max', 'NNP'), ('air', 'NN'), ('unit', 'NN'), ('for', 'IN'), ('light', 'NN')])\n",
      " list([('rubber', 'NN'), ('outsole', 'NN'), ('for', 'IN'), ('durable', 'JJ'), ('traction', 'NN')])]\n"
     ]
    }
   ],
   "source": []
  },
  {
   "cell_type": "code",
   "execution_count": null,
   "metadata": {},
   "outputs": [],
   "source": []
  }
 ],
 "metadata": {
  "kernelspec": {
   "display_name": "Python 3",
   "language": "python",
   "name": "python3"
  },
  "language_info": {
   "codemirror_mode": {
    "name": "ipython",
    "version": 3
   },
   "file_extension": ".py",
   "mimetype": "text/x-python",
   "name": "python",
   "nbconvert_exporter": "python",
   "pygments_lexer": "ipython3",
   "version": "3.6.8"
  }
 },
 "nbformat": 4,
 "nbformat_minor": 2
}
