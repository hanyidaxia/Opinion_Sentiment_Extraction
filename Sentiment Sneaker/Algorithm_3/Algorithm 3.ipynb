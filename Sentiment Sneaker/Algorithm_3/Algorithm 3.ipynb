{
 "cells": [
  {
   "cell_type": "code",
   "execution_count": 1,
   "metadata": {},
   "outputs": [],
   "source": [
    "# class nltk.parse.corenlp.GenericCoreNLPParser(url='http://localhost:9000', encoding='utf8', tagtype=None)\n",
    "\n",
    "import numpy as np\n",
    "import sys\n",
    "import os\n",
    "import nltk\n",
    "import pandas as pd\n",
    "import json\n",
    "import re\n",
    "# import Ipy_importer\n",
    "import codecs\n",
    "import subprocess\n",
    "import copy\n",
    "# nltk.download('words')\n",
    "# nltk.download('maxent_ne_chunker')\n",
    "# nltk.download('treebank')\n",
    "from nltk.parse.stanford import StanfordParser\n",
    "from nltk.parse.stanford import *\n",
    "from nltk.parse.stanford import StanfordDependencyParser\n",
    "from itertools import chain\n",
    "import sys\n",
    "import os\n",
    "import gensim\n",
    "import sklearn\n",
    "import nltk\n",
    "import numba\n",
    "from scipy import spatial\n",
    "import pandas as pd\n",
    "from sklearn.metrics.pairwise import cosine_similarity"
   ]
  },
  {
   "cell_type": "code",
   "execution_count": 2,
   "metadata": {},
   "outputs": [
    {
     "name": "stdout",
     "output_type": "stream",
     "text": [
      "<class 'dict'>\n"
     ]
    }
   ],
   "source": [
    "'''\n",
    "This section got the new attribute lexcicon\n",
    "'''\n",
    "with open(\"D:/Sneaker/new_new_attribute_lexicon.json\", \"r\") as f:\n",
    "    attribute_lexicon = json.load(f)\n",
    "    print(type(attribute_lexicon))\n",
    "    attribute_lexicon['Permeability']\n",
    "\n",
    "    \n",
    "temp1 = []\n",
    "for k, v in attribute_lexicon.items():\n",
    "    v = sorted(set(v),key=v.index)\n",
    "    temp2 = []\n",
    "    for j in v:\n",
    "        if j not in temp1: \n",
    "            temp2.append(j)\n",
    "#     print(temp2)\n",
    "        temp1.append(j)\n",
    "    attribute_lexicon[k] = temp2\n",
    "# temp = []\n",
    "# for v in attribute_lexicon.values():\n",
    "#     for i  in v:\n",
    "#         temp.append(i)\n",
    "# attribute_lexicon = temp\n",
    "# this is the new attribute lexicon got from ramin"
   ]
  },
  {
   "cell_type": "code",
   "execution_count": 3,
   "metadata": {},
   "outputs": [],
   "source": [
    "def look_n(dic, hao,  n):\n",
    "    i = 0\n",
    "    if hao == 'fanwei':\n",
    "        for k, v in dic.items():\n",
    "            i += 1\n",
    "            if i <= n:\n",
    "                print(k,v)\n",
    "    if hao == 'zhiding':\n",
    "        for k, v in dic.items():\n",
    "            i += 1\n",
    "            if i == n:\n",
    "                print(k,v)\n",
    "    "
   ]
  },
  {
   "cell_type": "code",
   "execution_count": 4,
   "metadata": {},
   "outputs": [],
   "source": [
    "def create_new_POS(file_name):\n",
    "    import re\n",
    "    import numpy as np\n",
    "    import nltk\n",
    "    with open(file_name, 'r', encoding = \"UTF-8-sig\") as f:\n",
    "        clean_review = f.readlines()\n",
    "        clean_review = \"\".join(clean_review)\n",
    "        clean_review = clean_review.split('\\n')\n",
    "#             dan_reviews = []\n",
    "            \n",
    "            \n",
    "            # create a dic that key is product name and values is those reviews\n",
    "             \n",
    "        review_dic = {}\n",
    "        for review in clean_review:\n",
    "            p_name = review.split('\\\\')[0]\n",
    "            \n",
    "            p_review = review.split('>')[-1]\n",
    "            if p_name not in review_dic:\n",
    "                review_dic[p_name] = [p_review]\n",
    "            else:\n",
    "                review_dic[p_name].append(p_review)\n",
    "            \n",
    "            # enumerate the values inside the values of this dic\n",
    "        for k, v in review_dic.items():\n",
    "            c_reviews = []\n",
    "            for line in v:\n",
    "                line = line.strip()\n",
    "                line = line.strip('\\\">')\n",
    "                line = re.sub(\"[\\s+\\.\\!\\/_,$%^*(+\\\"\\')]+|[+()?【】“”！，。？、~@#￥%……&*（）]+\", \" \",line)\n",
    "                line = line.replace(']', '')\n",
    "                line = line.replace('[', '')\n",
    "                line = line.rstrip(' ')\n",
    "                c_reviews.append(line)\n",
    "            review_dic[k] = c_reviews\n",
    "                \n",
    "\n",
    "        for k,v in review_dic.items():\n",
    "            review_dic[k] = sorted(set(review_dic[k]),key=review_dic[k].index)\n",
    "        \n",
    "        pure_review = copy.deepcopy(review_dic)\n",
    "                \n",
    "        for k,v in review_dic.items():\n",
    "            POS_tags = []\n",
    "            r_tokens = []\n",
    "#             pure_review = []\n",
    "            for review in v:\n",
    "                \n",
    "                tokens = nltk.word_tokenize(review)\n",
    "#                     r_tokens.append(tokens)\n",
    "#                 for tokens in r_tokens:\n",
    "                POS_tags.append(nltk.pos_tag(tokens))\n",
    "            review_dic[k] = POS_tags\n",
    "            \n",
    "        for k,v in review_dic.items():\n",
    "            review_dic[k] = list(enumerate(review_dic[k]))\n",
    "            \n",
    "        for k,v in pure_review.items():\n",
    "            pure_review[k] = list(enumerate(pure_review[k]))\n",
    "                \n",
    "            # add product name onto each element inside a list\n",
    "        bitch = {}\n",
    "        for k, v in review_dic.items():\n",
    "            temp = []\n",
    "            for i in v:\n",
    "                bitch[str(k) + str(i[0])] = str(i[1])\n",
    "                i = str(k) + str(i[0]) + \":\" + str(i[1])\n",
    "                temp.append(i)\n",
    "                \n",
    "            review_dic[k] = temp\n",
    "            \n",
    "        whore  = {}\n",
    "        for k, v in pure_review.items():\n",
    "            temp = []\n",
    "            for i in v:\n",
    "                whore[str(k) + str(i[0])] = str(i[1])\n",
    "                i = str(k) + str(i[0]) + \":\" + str(i[1])\n",
    "                temp.append(i)\n",
    "                \n",
    "            pure_review[k] = temp\n",
    "        \n",
    "        \n",
    "        \n",
    "    return review_dic, pure_review, bitch, whore"
   ]
  },
  {
   "cell_type": "code",
   "execution_count": 5,
   "metadata": {},
   "outputs": [],
   "source": [
    "review_dic, pure_review, bitch, whore = create_new_POS(\"D:/Sneaker/clean_review.txt\")"
   ]
  },
  {
   "cell_type": "code",
   "execution_count": 6,
   "metadata": {},
   "outputs": [],
   "source": [
    "# look_n(whore, 'fanwei', 3)\n",
    "# for v in whore.values():\n",
    "#     print(type(v))\n",
    "#     break\n",
    "\n",
    "desperation = {}\n",
    "for k, v in whore.items():\n",
    "    desperation[k] = v.split(\" \")"
   ]
  },
  {
   "cell_type": "code",
   "execution_count": 7,
   "metadata": {},
   "outputs": [
    {
     "name": "stdout",
     "output_type": "stream",
     "text": [
      "Reebok_Classic_Leather_Gum_Casual_Shoes0 ['I', 'love', 'the', 'old', 'school', 'style', 'and', 'these', 'sneakers', 'are', 'so', 'comfortable']\n",
      "Reebok_Classic_Leather_Gum_Casual_Shoes1 ['A', 'true', 'classic', 'for', 'the', 'fans', 'of', 'sneakers', 'and', 'culture', 'Very', 'nice', 'made', 'and', 'the', 'materials', 'are', 'pretty', 'good', 'too']\n",
      "Reebok_Classic_Leather_Gum_Casual_Shoes2 ['They', 'were', 'sneakers', 'I', 'wore', 'when', 'I', 'was', 'a', 'kid', 'so', 'I', 'always', 'like', 'going', 'retro', 'when', 'sneakers', 'r', 'rereleased']\n"
     ]
    }
   ],
   "source": [
    "look_n(desperation, 'fanwei', 3)"
   ]
  },
  {
   "cell_type": "code",
   "execution_count": 41,
   "metadata": {},
   "outputs": [],
   "source": [
    "def dinf_seed(dic, num):\n",
    "    # the num is the number of loops you want to inplement the loop\n",
    "    seed = ['on']\n",
    "    new_seed = []\n",
    "    for k , v in dic.items():\n",
    "        o = 0\n",
    "        for word in v:\n",
    "            if word in seed:\n",
    "                tmp = []\n",
    "                tmp.append(v[o -1])\n",
    "                try:\n",
    "                    tmp.append(v[o + 1])\n",
    "                except:\n",
    "                    pass\n",
    "                new_seed.append(tmp)\n",
    "            o += 1\n",
    "    return new_seed\n",
    "            "
   ]
  },
  {
   "cell_type": "code",
   "execution_count": 42,
   "metadata": {},
   "outputs": [],
   "source": [
    "a = dinf_seed(desperation, _)"
   ]
  },
  {
   "cell_type": "code",
   "execution_count": 43,
   "metadata": {},
   "outputs": [],
   "source": [
    "def get_key(value, dic):\n",
    "    return [k for k, v in dic.items() if value in v]"
   ]
  },
  {
   "cell_type": "code",
   "execution_count": 44,
   "metadata": {},
   "outputs": [],
   "source": [
    "def get_new(old_seed, old_lexicon):\n",
    "    new_lexicon = []\n",
    "    for i in old_seed:\n",
    "        if i[-1] in list(chain(*list(attribute_lexicon.values()))):\n",
    "            for v in old_lexicon.values():\n",
    "                if i[0] in v and i[-1] in v:\n",
    "                    index1 = v.index(i[0])\n",
    "                    index2 = v.index(i[-1])\n",
    "                    tmp = v[index1-1: index2+1]\n",
    "                    if tmp != []:\n",
    "                        new_lexicon.append(tmp)\n",
    "    return new_lexicon\n",
    "                    \n",
    "#             print(i[-1])\n",
    "#             print(get_key(i[-1], attribute_lexicon))\n",
    "        "
   ]
  },
  {
   "cell_type": "code",
   "execution_count": 45,
   "metadata": {},
   "outputs": [],
   "source": [
    "b = get_new(a, desperation)"
   ]
  },
  {
   "cell_type": "code",
   "execution_count": 47,
   "metadata": {},
   "outputs": [],
   "source": [
    "newnew = []\n",
    "for i in b:\n",
    "    if len(i) < 4:\n",
    "#         if 'of' in i:\n",
    "#             i.remove('of')\n",
    "        if i != []:\n",
    "            newnew.append(i)\n",
    "                "
   ]
  },
  {
   "cell_type": "code",
   "execution_count": 49,
   "metadata": {},
   "outputs": [
    {
     "name": "stdout",
     "output_type": "stream",
     "text": [
      "[['amazing', 'shoes', 'at'], ['comfortable', 'shoes', 'at'], ['these', 'shoes', 'at'], ['review', 'shoes', 'at'], ['wearing', 'shoes', 'at']]\n"
     ]
    }
   ],
   "source": [
    "print(newnew[0:5])"
   ]
  },
  {
   "cell_type": "code",
   "execution_count": null,
   "metadata": {},
   "outputs": [],
   "source": []
  }
 ],
 "metadata": {
  "kernelspec": {
   "display_name": "Python 3",
   "language": "python",
   "name": "python3"
  },
  "language_info": {
   "codemirror_mode": {
    "name": "ipython",
    "version": 3
   },
   "file_extension": ".py",
   "mimetype": "text/x-python",
   "name": "python",
   "nbconvert_exporter": "python",
   "pygments_lexer": "ipython3",
   "version": "3.7.3"
  }
 },
 "nbformat": 4,
 "nbformat_minor": 2
}
