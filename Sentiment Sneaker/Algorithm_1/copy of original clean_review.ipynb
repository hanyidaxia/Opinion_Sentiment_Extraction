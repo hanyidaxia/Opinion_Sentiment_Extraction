{
 "cells": [
  {
   "cell_type": "code",
   "execution_count": null,
   "metadata": {},
   "outputs": [],
   "source": [
    "clean_review = []\n",
    "for i in reviews:\n",
    "    if i not in ['\\n\\n', '\\n']:\n",
    "#     print(i)\n",
    "        name = i.split('+-++++++++++++++++++++++++++++++')[0]\n",
    "    #     type(name)\n",
    "#         print(name)\n",
    "        star = i.split('+-++++++++++++++++++++++++++++++')[1]\n",
    "    #     print(star)\n",
    "        star = star.split(\"+++++++++++++++++++++++++++++++\")[0]\n",
    "        star = star.split(\"alt=\")\n",
    "        if len(star) >= 3:\n",
    "            star = star[2]\n",
    "            star = star.split(\"title=\")[0]\n",
    "            star = star.split(\"><\\\\/div>\")[0]\n",
    "        else:\n",
    "            star = star[1]\n",
    "            star = star.split(\"title=\")[0]\n",
    "            star = star.split(\"><\\\\/div>\")[0]\n",
    "    #     print(star)\n",
    "        title = i.split('+++++++++++++++++++++++++++++++')[1]\n",
    "        title = title.split('-+-+++++++++++++++++++++++++++++++++++++++')[0]\n",
    "        title = title.split(\"BVRRValue BVRRReviewTitle\")[1]\n",
    "        title = title.split(\"<\\/span><span class=\")[0]\n",
    "    #     print(title)\n",
    "        text = i.split('-+-+++++++++++++++++++++++++++++++++++++++')[1]\n",
    "        if \"BVRRReviewText\" in text:\n",
    "            text = text.split(\"BVRRReviewText\")[1]\n",
    "            text = text.split(\"<\\/span>\")[0]\n",
    "    #     print(text)\n",
    "        j = name + star + title + text\n",
    "    #     print(j)\n",
    "    #     break\n",
    "        clean_review.append(j)"
   ]
  }
 ],
 "metadata": {
  "kernelspec": {
   "display_name": "Python 3",
   "language": "python",
   "name": "python3"
  },
  "language_info": {
   "codemirror_mode": {
    "name": "ipython",
    "version": 3
   },
   "file_extension": ".py",
   "mimetype": "text/x-python",
   "name": "python",
   "nbconvert_exporter": "python",
   "pygments_lexer": "ipython3",
   "version": "3.7.3"
  }
 },
 "nbformat": 4,
 "nbformat_minor": 2
}
