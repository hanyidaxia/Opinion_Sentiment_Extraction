{
 "cells": [
  {
   "cell_type": "markdown",
   "metadata": {},
   "source": [
    "# Assignment 2"
   ]
  },
  {
   "cell_type": "markdown",
   "metadata": {},
   "source": [
    "## Problem1"
   ]
  },
  {
   "cell_type": "markdown",
   "metadata": {},
   "source": [
    "# IMPORTANT:\n",
    "please run the code section by section, there exists a possibility that the JAVA API doesn't respond, I met sometimes, if this situation happens, please go to the readme file and I instructed detailed about how to treat the file in command enviroment(Only support windows system). Be aware that there are couple write file function build inside, so if you run twice the file will be rewrite."
   ]
  },
  {
   "cell_type": "code",
   "execution_count": 14,
   "metadata": {},
   "outputs": [],
   "source": [
    "import os\n",
    "import numpy as np\n",
    "import sys \n",
    "import re\n",
    "import subprocess\n",
    "from collections import Counter"
   ]
  },
  {
   "cell_type": "code",
   "execution_count": 15,
   "metadata": {},
   "outputs": [],
   "source": [
    "os.chdir(\"D:/GoogleDownload/corpus\")\n",
    "file_name = os.listdir(\"D:/GoogleDownload/corpus\")"
   ]
  },
  {
   "cell_type": "code",
   "execution_count": 16,
   "metadata": {},
   "outputs": [
    {
     "data": {
      "text/plain": [
       "'this step doesnt used in this problem, just in case needs to get all the files combination corpus'"
      ]
     },
     "execution_count": 16,
     "metadata": {},
     "output_type": "execute_result"
    }
   ],
   "source": [
    "'''read all files as a whole document as s with lines'''\n",
    "def file_pre (path):\n",
    "    s = \"\"\n",
    "    for file in file_name:\n",
    "        if not os.path.isdir(file): #form CNDA\n",
    "            f = open(path+\"/\"+file, 'r',encoding = 'UTF-8');\n",
    "            iter_file = iter(f)\n",
    "            for line in iter_file:\n",
    "                s = s + line\n",
    "    return s\n",
    "'''this step doesnt used in this problem, just in case needs to get all the files combination corpus'''"
   ]
  },
  {
   "cell_type": "code",
   "execution_count": 17,
   "metadata": {},
   "outputs": [],
   "source": [
    "s = file_pre(path = \"D:/GoogleDownload/corpus\")"
   ]
  },
  {
   "cell_type": "code",
   "execution_count": 18,
   "metadata": {},
   "outputs": [],
   "source": [
    "'''pre_processing the data'''\n",
    "def data_pre (file_name):\n",
    "    path = \"D:/GoogleDownload/corpus\"\n",
    "    new_text = []\n",
    "    for file in file_name:\n",
    "        with open (path + \"/\" + file, 'r', encoding= 'UTF-8') as file:\n",
    "            line = file.readline()\n",
    "            while line:\n",
    "                words = line.strip().split()\n",
    "                length = len( words )\n",
    "                if 1 < length and length <= 50:\n",
    "                    line = line.strip()\n",
    "                    if line[-1] not in [\".\", \"?\"]:\n",
    "                        line = line + \".\"\n",
    "                    line = line + \"\\n\"\n",
    "                    new_text.append( line )\n",
    "                line = file.readline()\n",
    "    return new_text\n"
   ]
  },
  {
   "cell_type": "code",
   "execution_count": 19,
   "metadata": {},
   "outputs": [],
   "source": [
    "line = data_pre(file_name)"
   ]
  },
  {
   "cell_type": "code",
   "execution_count": 8,
   "metadata": {},
   "outputs": [],
   "source": [
    "file = open(\"D:/GoogleDownload/new_text.txt\", \"w\", encoding = \"UTF-8\")\n",
    "for sentence in line:\n",
    "    file.write(sentence)\n",
    "file.close()\n",
    "'''\n",
    "the cleaned data is stored in the file named new_text.txt which can ca be found in the folder\n",
    "'''"
   ]
  },
  {
   "cell_type": "code",
   "execution_count": 20,
   "metadata": {},
   "outputs": [],
   "source": [
    "# p = Popen(\"lexparser_word_tag.bat\", cwd=r\"D:/GoogleDownload/stanford-parser-full-2018-10-17\")\n",
    "os.chdir(\"D:/GoogleDownload/stanford-parser-full-2018-10-17\")\n",
    "# os.startfile(\"lexparser_word_tag.bat\")\n",
    "word_tag = '\"./lexparser_word_tag.bat\" new_text.txt'"
   ]
  },
  {
   "cell_type": "code",
   "execution_count": 21,
   "metadata": {},
   "outputs": [
    {
     "name": "stdout",
     "output_type": "stream",
     "text": [
      "\"./lexparser_word_tag.bat\" new_text.txt\n"
     ]
    }
   ],
   "source": [
    "type(word_tag)\n",
    "print(word_tag)"
   ]
  },
  {
   "cell_type": "code",
   "execution_count": 22,
   "metadata": {},
   "outputs": [
    {
     "name": "stdout",
     "output_type": "stream",
     "text": [
      "'java' is not recognized as an internal or external command,\n",
      "operable program or batch file.\n",
      "\n"
     ]
    },
    {
     "data": {
      "text/plain": [
       "1"
      ]
     },
     "execution_count": 22,
     "metadata": {},
     "output_type": "execute_result"
    }
   ],
   "source": [
    "p_wordtag = subprocess.Popen(word_tag, shell = True, cwd=\"D:/GoogleDownload/stanford-parser-full-2018-10-17\",\n",
    "                 stderr = subprocess.PIPE)\n",
    "print( p_wordtag.stderr.read().decode( 'gbk' ) )\n",
    "p_wordtag.wait()\n",
    "'''\n",
    "IMPORTANT:\n",
    "this code might not work depends on different work enviroment, so make sure your machine already\n",
    "set the java enviroment properly, and if you are running in a windows, you can directly put the displayed command in \n",
    "REMDME to your Current shell\n",
    "'''"
   ]
  },
  {
   "cell_type": "markdown",
   "metadata": {},
   "source": [
    "# 1.1"
   ]
  },
  {
   "cell_type": "code",
   "execution_count": 80,
   "metadata": {},
   "outputs": [],
   "source": [
    "def avg_tag (path):\n",
    "    with open (path + \"/\" + \"word_tag.txt\", 'r', encoding= 'UTF-8') as file:\n",
    "#         print(type(file))\n",
    "        file = file.readlines()\n",
    "#         print(len(file))\n",
    "        rm_space = []\n",
    "        sentences_count = 0\n",
    "        for line in file:\n",
    "            line = line.strip()\n",
    "            if len( line ): # this kind of condition if 0 the boolean will be flase, if not 0 it will be true\n",
    "                sentences_count += 1\n",
    "            rm_space.append(line)\n",
    "#         sentences_count = len(str(rm_space).split(\".\"))\n",
    "        vb_length = str(file).count(\"VB\")\n",
    "        print(str(file).count('VB'))\n",
    "        print(sentences_count)\n",
    "        vb_average = vb_length/sentences_count\n",
    "        print(\"use the 'VB' as the verb sign\")\n",
    "    return vb_average\n",
    "        \n",
    "    "
   ]
  },
  {
   "cell_type": "code",
   "execution_count": 81,
   "metadata": {},
   "outputs": [
    {
     "name": "stdout",
     "output_type": "stream",
     "text": [
      "51304\n",
      "14259\n",
      "use the 'VB' as the verb sign\n"
     ]
    },
    {
     "data": {
      "text/plain": [
       "3.5980082754751384"
      ]
     },
     "execution_count": 81,
     "metadata": {},
     "output_type": "execute_result"
    }
   ],
   "source": [
    "avg_tag(\"D:/GoogleDownload/stanford-parser-full-2018-10-17\")\n",
    "'''\n",
    "this is tha couont result of question 1.1\n",
    "'''"
   ]
  },
  {
   "cell_type": "markdown",
   "metadata": {},
   "source": [
    "# 1.2"
   ]
  },
  {
   "cell_type": "code",
   "execution_count": 84,
   "metadata": {},
   "outputs": [
    {
     "name": "stdout",
     "output_type": "stream",
     "text": [
      "14259\n"
     ]
    }
   ],
   "source": [
    "# report the sentences have been parsed:\n",
    "file = open(\"D:/GoogleDownload/stanford-parser-full-2018-10-17/penn.txt\", encoding = 'UTF-16-LE')\n",
    "file = file.readlines()\n",
    "length = str(file).count('ROOT')\n",
    "print(length)\n",
    "'''\n",
    "this is the count result of 1.2\n",
    "'''"
   ]
  },
  {
   "cell_type": "markdown",
   "metadata": {},
   "source": [
    "# 1.3\n"
   ]
  },
  {
   "cell_type": "code",
   "execution_count": 86,
   "metadata": {},
   "outputs": [
    {
     "name": "stdout",
     "output_type": "stream",
     "text": [
      "36121\n"
     ]
    }
   ],
   "source": [
    "file = open(\"D:/GoogleDownload/stanford-parser-full-2018-10-17/type.txt\", encoding = 'UTF-16-LE')\n",
    "file = file.readlines()\n",
    "pre_count = str(file).count('det')\n",
    "print(pre_count)"
   ]
  },
  {
   "cell_type": "code",
   "execution_count": 8,
   "metadata": {},
   "outputs": [],
   "source": [
    "def makedir(path):\n",
    "    folder = os.path.exists(path)\n",
    "    if not folder:\n",
    "        os.makedirs(path)"
   ]
  },
  {
   "cell_type": "code",
   "execution_count": 46,
   "metadata": {},
   "outputs": [],
   "source": [
    "# on the purpose of reporting each file's Prepostions seperately, needs totally re-coding the previous work\n",
    "'''pre_processing the data'''\n",
    "def data_pre_1_3 (file_name):\n",
    "    path = \"D:/GoogleDownload/corpus\"\n",
    "    for file in file_name:\n",
    "        new_text = []\n",
    "        with open (path + \"/\" + file, 'r', encoding= 'UTF-8', errors = 'ignore') as f:\n",
    "#             print(file_list)\n",
    "                line = f.readline()\n",
    "                while line:\n",
    "                    words = line.strip().split()\n",
    "                    length = len( words )\n",
    "                    if 1 < length and length <= 50:\n",
    "                        line = line.strip()\n",
    "                        if line[-1] not in [\".\", \"?\"]:\n",
    "                            line = line + \".\"\n",
    "                        line = line + \"\\n\"\n",
    "                        new_text.append(line)\n",
    "                    line = f.readline()\n",
    "        makedir(\"D:/GoogleDownload/new_corpus\")\n",
    "        with open(\"D:/GoogleDownload/new_corpus\" + \"/\" + file, 'w', encoding = 'UTF-8' ) as f:\n",
    "            for text in new_text:\n",
    "                f.write( text )\n"
   ]
  },
  {
   "cell_type": "code",
   "execution_count": 47,
   "metadata": {},
   "outputs": [],
   "source": [
    "# if not os.path.exists(file ):\n",
    "#     os.makedirs(file )\n",
    "data_pre_1_3(file_name)\n",
    "# '''this step got write all the files into the new folder new_corpus that has been created'''"
   ]
  },
  {
   "cell_type": "code",
   "execution_count": 6,
   "metadata": {},
   "outputs": [
    {
     "name": "stdout",
     "output_type": "stream",
     "text": [
      "['0006.txt', '0219.txt', '0381.txt', '0403.txt', '0404.txt', '0432.txt', '0439.txt', '0633.txt', '0828.txt', '0830.txt', '0895.txt', '0921.txt', '1076.txt', '1290.txt', '1357.txt', '1408.txt', '1498.txt', '1537.txt', '1676.txt', '1735.txt', '1780.txt', '1866.txt', '1936.txt', '1963.txt', '1989.txt', '2200.txt', '2252.txt', '2319.txt', '2389.txt', '2405.txt', '2570.txt', '2749.txt', '2764.txt', '2935.txt', '3129.txt', '3210.txt', '3229.txt', '3421.txt', '3723.txt', '3830.txt', '3884.txt', '4195.txt', '4362.txt', '4469.txt', '4580.txt', '4744.txt', '4756.txt', '4823.txt', '4904.txt', '5029.txt', '5284.txt', '5448.txt', '5617.txt', '5711.txt', '5725.txt', '5897.txt', '5952.txt', '5984.txt', '6079.txt', '6143.txt', '6384.txt', '6523.txt', '6526.txt', '6842.txt', '6937.txt', '7043.txt', '7052.txt', '7087.txt', '7175.txt', '7313.txt', '7358.txt', '7491.txt', '7703.txt', '7732.txt', '7858.txt', '7901.txt', '8136.txt', '8154.txt', '8161.txt', '8251.txt', '8314.txt', '8376.txt', '8576.txt', '8649.txt', '8756.txt', '8764.txt', '9021.txt', '9088.txt', '9090.txt', '9184.txt', '9203.txt', '9366.txt', '9426.txt', '9508.txt', '9597.txt', '9629.txt', '9849.txt', '9880.txt', '9981.txt', '9994.txt']\n"
     ]
    }
   ],
   "source": [
    "files_name_1_3 = os.listdir(\"D:/GoogleDownload/corpus/new_corpus\")\n",
    "print(files_name_1_3)\n",
    "\n",
    "'''\n",
    "Important:\n",
    "this step I clean all the original data to a new folder and will use the cleaned data in following steps\n",
    "'''"
   ]
  },
  {
   "cell_type": "code",
   "execution_count": 2,
   "metadata": {},
   "outputs": [],
   "source": [
    "def get_penn (f_name):\n",
    "    path = \"D:/GoogleDownload/new_corpus/\"\n",
    "    savePath = \"D:/GoogleDownload/new_penn_corpus/\"\n",
    "    makedir(savePath)\n",
    "    for f in f_name:\n",
    "        sh = '\"./lexparser_penn.bat\" ' + path + f + \" > \" + savePath + f + \"_new.txt\"\n",
    "#         print( sh )\n",
    "        p_penn = subprocess.Popen(sh, shell = True,\n",
    "                              cwd=\"D:/GoogleDownload/stanford-parser-full-2018-10-17\")\n",
    "        p_penn.wait()\n",
    "        "
   ]
  },
  {
   "cell_type": "code",
   "execution_count": null,
   "metadata": {},
   "outputs": [],
   "source": [
    "files_name_1_3 = os.listdir(\"D:/GoogleDownload/new_corpus/\")\n",
    "get_penn(files_name_1_3)"
   ]
  },
  {
   "cell_type": "markdown",
   "metadata": {},
   "source": [
    "## IMPORTANT:\n",
    "Just run the code first and if it works well please continue, if not, I just write how you run the code in CMD and I got my file in command line, all the details could be found in readme file."
   ]
  },
  {
   "cell_type": "code",
   "execution_count": 1,
   "metadata": {},
   "outputs": [],
   "source": [
    "def get_dependency (f_name):\n",
    "    path = \"D:/GoogleDownload/new_corpus/\"\n",
    "    savePath = \"D:/GoogleDownload/new_dependency_corpus/\"\n",
    "    makedir(savePath)\n",
    "    for f in f_name:\n",
    "        sh = '\"./lexparser_typedDependencies.bat\" ' + path + f + \" > \" + savePath + f + \"_new.txt\"\n",
    "        print( sh )\n",
    "        p_dependency = subprocess.Popen(sh, shell = True,\n",
    "                              cwd=\"D:/GoogleDownload/stanford-parser-full-2018-10-17\")\n",
    "        p_dependency.wait()\n"
   ]
  },
  {
   "cell_type": "code",
   "execution_count": 9,
   "metadata": {
    "scrolled": false
   },
   "outputs": [
    {
     "name": "stdout",
     "output_type": "stream",
     "text": [
      "\"./lexparser_typedDependencies.bat\" D:/GoogleDownload/new_corpus/0006.txt > D:/GoogleDownload/new_dependency_corpus/0006.txt_new.txt\n",
      "\"./lexparser_typedDependencies.bat\" D:/GoogleDownload/new_corpus/0219.txt > D:/GoogleDownload/new_dependency_corpus/0219.txt_new.txt\n",
      "\"./lexparser_typedDependencies.bat\" D:/GoogleDownload/new_corpus/0381.txt > D:/GoogleDownload/new_dependency_corpus/0381.txt_new.txt\n",
      "\"./lexparser_typedDependencies.bat\" D:/GoogleDownload/new_corpus/0403.txt > D:/GoogleDownload/new_dependency_corpus/0403.txt_new.txt\n",
      "\"./lexparser_typedDependencies.bat\" D:/GoogleDownload/new_corpus/0404.txt > D:/GoogleDownload/new_dependency_corpus/0404.txt_new.txt\n",
      "\"./lexparser_typedDependencies.bat\" D:/GoogleDownload/new_corpus/0432.txt > D:/GoogleDownload/new_dependency_corpus/0432.txt_new.txt\n",
      "\"./lexparser_typedDependencies.bat\" D:/GoogleDownload/new_corpus/0439.txt > D:/GoogleDownload/new_dependency_corpus/0439.txt_new.txt\n",
      "\"./lexparser_typedDependencies.bat\" D:/GoogleDownload/new_corpus/0633.txt > D:/GoogleDownload/new_dependency_corpus/0633.txt_new.txt\n",
      "\"./lexparser_typedDependencies.bat\" D:/GoogleDownload/new_corpus/0828.txt > D:/GoogleDownload/new_dependency_corpus/0828.txt_new.txt\n",
      "\"./lexparser_typedDependencies.bat\" D:/GoogleDownload/new_corpus/0830.txt > D:/GoogleDownload/new_dependency_corpus/0830.txt_new.txt\n",
      "\"./lexparser_typedDependencies.bat\" D:/GoogleDownload/new_corpus/0895.txt > D:/GoogleDownload/new_dependency_corpus/0895.txt_new.txt\n",
      "\"./lexparser_typedDependencies.bat\" D:/GoogleDownload/new_corpus/0921.txt > D:/GoogleDownload/new_dependency_corpus/0921.txt_new.txt\n",
      "\"./lexparser_typedDependencies.bat\" D:/GoogleDownload/new_corpus/1076.txt > D:/GoogleDownload/new_dependency_corpus/1076.txt_new.txt\n",
      "\"./lexparser_typedDependencies.bat\" D:/GoogleDownload/new_corpus/1290.txt > D:/GoogleDownload/new_dependency_corpus/1290.txt_new.txt\n",
      "\"./lexparser_typedDependencies.bat\" D:/GoogleDownload/new_corpus/1357.txt > D:/GoogleDownload/new_dependency_corpus/1357.txt_new.txt\n",
      "\"./lexparser_typedDependencies.bat\" D:/GoogleDownload/new_corpus/1408.txt > D:/GoogleDownload/new_dependency_corpus/1408.txt_new.txt\n",
      "\"./lexparser_typedDependencies.bat\" D:/GoogleDownload/new_corpus/1498.txt > D:/GoogleDownload/new_dependency_corpus/1498.txt_new.txt\n",
      "\"./lexparser_typedDependencies.bat\" D:/GoogleDownload/new_corpus/1537.txt > D:/GoogleDownload/new_dependency_corpus/1537.txt_new.txt\n",
      "\"./lexparser_typedDependencies.bat\" D:/GoogleDownload/new_corpus/1676.txt > D:/GoogleDownload/new_dependency_corpus/1676.txt_new.txt\n",
      "\"./lexparser_typedDependencies.bat\" D:/GoogleDownload/new_corpus/1735.txt > D:/GoogleDownload/new_dependency_corpus/1735.txt_new.txt\n",
      "\"./lexparser_typedDependencies.bat\" D:/GoogleDownload/new_corpus/1780.txt > D:/GoogleDownload/new_dependency_corpus/1780.txt_new.txt\n",
      "\"./lexparser_typedDependencies.bat\" D:/GoogleDownload/new_corpus/1866.txt > D:/GoogleDownload/new_dependency_corpus/1866.txt_new.txt\n",
      "\"./lexparser_typedDependencies.bat\" D:/GoogleDownload/new_corpus/1936.txt > D:/GoogleDownload/new_dependency_corpus/1936.txt_new.txt\n",
      "\"./lexparser_typedDependencies.bat\" D:/GoogleDownload/new_corpus/1963.txt > D:/GoogleDownload/new_dependency_corpus/1963.txt_new.txt\n",
      "\"./lexparser_typedDependencies.bat\" D:/GoogleDownload/new_corpus/1989.txt > D:/GoogleDownload/new_dependency_corpus/1989.txt_new.txt\n",
      "\"./lexparser_typedDependencies.bat\" D:/GoogleDownload/new_corpus/2200.txt > D:/GoogleDownload/new_dependency_corpus/2200.txt_new.txt\n",
      "\"./lexparser_typedDependencies.bat\" D:/GoogleDownload/new_corpus/2252.txt > D:/GoogleDownload/new_dependency_corpus/2252.txt_new.txt\n",
      "\"./lexparser_typedDependencies.bat\" D:/GoogleDownload/new_corpus/2319.txt > D:/GoogleDownload/new_dependency_corpus/2319.txt_new.txt\n",
      "\"./lexparser_typedDependencies.bat\" D:/GoogleDownload/new_corpus/2389.txt > D:/GoogleDownload/new_dependency_corpus/2389.txt_new.txt\n",
      "\"./lexparser_typedDependencies.bat\" D:/GoogleDownload/new_corpus/2405.txt > D:/GoogleDownload/new_dependency_corpus/2405.txt_new.txt\n",
      "\"./lexparser_typedDependencies.bat\" D:/GoogleDownload/new_corpus/2570.txt > D:/GoogleDownload/new_dependency_corpus/2570.txt_new.txt\n",
      "\"./lexparser_typedDependencies.bat\" D:/GoogleDownload/new_corpus/2749.txt > D:/GoogleDownload/new_dependency_corpus/2749.txt_new.txt\n",
      "\"./lexparser_typedDependencies.bat\" D:/GoogleDownload/new_corpus/2764.txt > D:/GoogleDownload/new_dependency_corpus/2764.txt_new.txt\n",
      "\"./lexparser_typedDependencies.bat\" D:/GoogleDownload/new_corpus/2935.txt > D:/GoogleDownload/new_dependency_corpus/2935.txt_new.txt\n",
      "\"./lexparser_typedDependencies.bat\" D:/GoogleDownload/new_corpus/3129.txt > D:/GoogleDownload/new_dependency_corpus/3129.txt_new.txt\n",
      "\"./lexparser_typedDependencies.bat\" D:/GoogleDownload/new_corpus/3210.txt > D:/GoogleDownload/new_dependency_corpus/3210.txt_new.txt\n",
      "\"./lexparser_typedDependencies.bat\" D:/GoogleDownload/new_corpus/3229.txt > D:/GoogleDownload/new_dependency_corpus/3229.txt_new.txt\n",
      "\"./lexparser_typedDependencies.bat\" D:/GoogleDownload/new_corpus/3421.txt > D:/GoogleDownload/new_dependency_corpus/3421.txt_new.txt\n",
      "\"./lexparser_typedDependencies.bat\" D:/GoogleDownload/new_corpus/3723.txt > D:/GoogleDownload/new_dependency_corpus/3723.txt_new.txt\n",
      "\"./lexparser_typedDependencies.bat\" D:/GoogleDownload/new_corpus/3830.txt > D:/GoogleDownload/new_dependency_corpus/3830.txt_new.txt\n",
      "\"./lexparser_typedDependencies.bat\" D:/GoogleDownload/new_corpus/3884.txt > D:/GoogleDownload/new_dependency_corpus/3884.txt_new.txt\n",
      "\"./lexparser_typedDependencies.bat\" D:/GoogleDownload/new_corpus/4195.txt > D:/GoogleDownload/new_dependency_corpus/4195.txt_new.txt\n",
      "\"./lexparser_typedDependencies.bat\" D:/GoogleDownload/new_corpus/4362.txt > D:/GoogleDownload/new_dependency_corpus/4362.txt_new.txt\n",
      "\"./lexparser_typedDependencies.bat\" D:/GoogleDownload/new_corpus/4469.txt > D:/GoogleDownload/new_dependency_corpus/4469.txt_new.txt\n",
      "\"./lexparser_typedDependencies.bat\" D:/GoogleDownload/new_corpus/4580.txt > D:/GoogleDownload/new_dependency_corpus/4580.txt_new.txt\n",
      "\"./lexparser_typedDependencies.bat\" D:/GoogleDownload/new_corpus/4744.txt > D:/GoogleDownload/new_dependency_corpus/4744.txt_new.txt\n",
      "\"./lexparser_typedDependencies.bat\" D:/GoogleDownload/new_corpus/4756.txt > D:/GoogleDownload/new_dependency_corpus/4756.txt_new.txt\n",
      "\"./lexparser_typedDependencies.bat\" D:/GoogleDownload/new_corpus/4823.txt > D:/GoogleDownload/new_dependency_corpus/4823.txt_new.txt\n",
      "\"./lexparser_typedDependencies.bat\" D:/GoogleDownload/new_corpus/4904.txt > D:/GoogleDownload/new_dependency_corpus/4904.txt_new.txt\n",
      "\"./lexparser_typedDependencies.bat\" D:/GoogleDownload/new_corpus/5029.txt > D:/GoogleDownload/new_dependency_corpus/5029.txt_new.txt\n",
      "\"./lexparser_typedDependencies.bat\" D:/GoogleDownload/new_corpus/5284.txt > D:/GoogleDownload/new_dependency_corpus/5284.txt_new.txt\n",
      "\"./lexparser_typedDependencies.bat\" D:/GoogleDownload/new_corpus/5448.txt > D:/GoogleDownload/new_dependency_corpus/5448.txt_new.txt\n",
      "\"./lexparser_typedDependencies.bat\" D:/GoogleDownload/new_corpus/5617.txt > D:/GoogleDownload/new_dependency_corpus/5617.txt_new.txt\n",
      "\"./lexparser_typedDependencies.bat\" D:/GoogleDownload/new_corpus/5711.txt > D:/GoogleDownload/new_dependency_corpus/5711.txt_new.txt\n",
      "\"./lexparser_typedDependencies.bat\" D:/GoogleDownload/new_corpus/5725.txt > D:/GoogleDownload/new_dependency_corpus/5725.txt_new.txt\n",
      "\"./lexparser_typedDependencies.bat\" D:/GoogleDownload/new_corpus/5897.txt > D:/GoogleDownload/new_dependency_corpus/5897.txt_new.txt\n",
      "\"./lexparser_typedDependencies.bat\" D:/GoogleDownload/new_corpus/5952.txt > D:/GoogleDownload/new_dependency_corpus/5952.txt_new.txt\n",
      "\"./lexparser_typedDependencies.bat\" D:/GoogleDownload/new_corpus/5984.txt > D:/GoogleDownload/new_dependency_corpus/5984.txt_new.txt\n",
      "\"./lexparser_typedDependencies.bat\" D:/GoogleDownload/new_corpus/6079.txt > D:/GoogleDownload/new_dependency_corpus/6079.txt_new.txt\n",
      "\"./lexparser_typedDependencies.bat\" D:/GoogleDownload/new_corpus/6143.txt > D:/GoogleDownload/new_dependency_corpus/6143.txt_new.txt\n",
      "\"./lexparser_typedDependencies.bat\" D:/GoogleDownload/new_corpus/6384.txt > D:/GoogleDownload/new_dependency_corpus/6384.txt_new.txt\n",
      "\"./lexparser_typedDependencies.bat\" D:/GoogleDownload/new_corpus/6523.txt > D:/GoogleDownload/new_dependency_corpus/6523.txt_new.txt\n",
      "\"./lexparser_typedDependencies.bat\" D:/GoogleDownload/new_corpus/6526.txt > D:/GoogleDownload/new_dependency_corpus/6526.txt_new.txt\n",
      "\"./lexparser_typedDependencies.bat\" D:/GoogleDownload/new_corpus/6842.txt > D:/GoogleDownload/new_dependency_corpus/6842.txt_new.txt\n",
      "\"./lexparser_typedDependencies.bat\" D:/GoogleDownload/new_corpus/6937.txt > D:/GoogleDownload/new_dependency_corpus/6937.txt_new.txt\n",
      "\"./lexparser_typedDependencies.bat\" D:/GoogleDownload/new_corpus/7043.txt > D:/GoogleDownload/new_dependency_corpus/7043.txt_new.txt\n",
      "\"./lexparser_typedDependencies.bat\" D:/GoogleDownload/new_corpus/7052.txt > D:/GoogleDownload/new_dependency_corpus/7052.txt_new.txt\n",
      "\"./lexparser_typedDependencies.bat\" D:/GoogleDownload/new_corpus/7087.txt > D:/GoogleDownload/new_dependency_corpus/7087.txt_new.txt\n",
      "\"./lexparser_typedDependencies.bat\" D:/GoogleDownload/new_corpus/7175.txt > D:/GoogleDownload/new_dependency_corpus/7175.txt_new.txt\n",
      "\"./lexparser_typedDependencies.bat\" D:/GoogleDownload/new_corpus/7313.txt > D:/GoogleDownload/new_dependency_corpus/7313.txt_new.txt\n",
      "\"./lexparser_typedDependencies.bat\" D:/GoogleDownload/new_corpus/7358.txt > D:/GoogleDownload/new_dependency_corpus/7358.txt_new.txt\n",
      "\"./lexparser_typedDependencies.bat\" D:/GoogleDownload/new_corpus/7491.txt > D:/GoogleDownload/new_dependency_corpus/7491.txt_new.txt\n",
      "\"./lexparser_typedDependencies.bat\" D:/GoogleDownload/new_corpus/7703.txt > D:/GoogleDownload/new_dependency_corpus/7703.txt_new.txt\n",
      "\"./lexparser_typedDependencies.bat\" D:/GoogleDownload/new_corpus/7732.txt > D:/GoogleDownload/new_dependency_corpus/7732.txt_new.txt\n",
      "\"./lexparser_typedDependencies.bat\" D:/GoogleDownload/new_corpus/7858.txt > D:/GoogleDownload/new_dependency_corpus/7858.txt_new.txt\n",
      "\"./lexparser_typedDependencies.bat\" D:/GoogleDownload/new_corpus/7901.txt > D:/GoogleDownload/new_dependency_corpus/7901.txt_new.txt\n",
      "\"./lexparser_typedDependencies.bat\" D:/GoogleDownload/new_corpus/8136.txt > D:/GoogleDownload/new_dependency_corpus/8136.txt_new.txt\n",
      "\"./lexparser_typedDependencies.bat\" D:/GoogleDownload/new_corpus/8154.txt > D:/GoogleDownload/new_dependency_corpus/8154.txt_new.txt\n",
      "\"./lexparser_typedDependencies.bat\" D:/GoogleDownload/new_corpus/8161.txt > D:/GoogleDownload/new_dependency_corpus/8161.txt_new.txt\n",
      "\"./lexparser_typedDependencies.bat\" D:/GoogleDownload/new_corpus/8251.txt > D:/GoogleDownload/new_dependency_corpus/8251.txt_new.txt\n",
      "\"./lexparser_typedDependencies.bat\" D:/GoogleDownload/new_corpus/8314.txt > D:/GoogleDownload/new_dependency_corpus/8314.txt_new.txt\n",
      "\"./lexparser_typedDependencies.bat\" D:/GoogleDownload/new_corpus/8376.txt > D:/GoogleDownload/new_dependency_corpus/8376.txt_new.txt\n",
      "\"./lexparser_typedDependencies.bat\" D:/GoogleDownload/new_corpus/8576.txt > D:/GoogleDownload/new_dependency_corpus/8576.txt_new.txt\n",
      "\"./lexparser_typedDependencies.bat\" D:/GoogleDownload/new_corpus/8649.txt > D:/GoogleDownload/new_dependency_corpus/8649.txt_new.txt\n",
      "\"./lexparser_typedDependencies.bat\" D:/GoogleDownload/new_corpus/8756.txt > D:/GoogleDownload/new_dependency_corpus/8756.txt_new.txt\n",
      "\"./lexparser_typedDependencies.bat\" D:/GoogleDownload/new_corpus/8764.txt > D:/GoogleDownload/new_dependency_corpus/8764.txt_new.txt\n",
      "\"./lexparser_typedDependencies.bat\" D:/GoogleDownload/new_corpus/9021.txt > D:/GoogleDownload/new_dependency_corpus/9021.txt_new.txt\n",
      "\"./lexparser_typedDependencies.bat\" D:/GoogleDownload/new_corpus/9088.txt > D:/GoogleDownload/new_dependency_corpus/9088.txt_new.txt\n",
      "\"./lexparser_typedDependencies.bat\" D:/GoogleDownload/new_corpus/9090.txt > D:/GoogleDownload/new_dependency_corpus/9090.txt_new.txt\n",
      "\"./lexparser_typedDependencies.bat\" D:/GoogleDownload/new_corpus/9184.txt > D:/GoogleDownload/new_dependency_corpus/9184.txt_new.txt\n",
      "\"./lexparser_typedDependencies.bat\" D:/GoogleDownload/new_corpus/9203.txt > D:/GoogleDownload/new_dependency_corpus/9203.txt_new.txt\n",
      "\"./lexparser_typedDependencies.bat\" D:/GoogleDownload/new_corpus/9366.txt > D:/GoogleDownload/new_dependency_corpus/9366.txt_new.txt\n",
      "\"./lexparser_typedDependencies.bat\" D:/GoogleDownload/new_corpus/9426.txt > D:/GoogleDownload/new_dependency_corpus/9426.txt_new.txt\n",
      "\"./lexparser_typedDependencies.bat\" D:/GoogleDownload/new_corpus/9508.txt > D:/GoogleDownload/new_dependency_corpus/9508.txt_new.txt\n",
      "\"./lexparser_typedDependencies.bat\" D:/GoogleDownload/new_corpus/9597.txt > D:/GoogleDownload/new_dependency_corpus/9597.txt_new.txt\n",
      "\"./lexparser_typedDependencies.bat\" D:/GoogleDownload/new_corpus/9629.txt > D:/GoogleDownload/new_dependency_corpus/9629.txt_new.txt\n",
      "\"./lexparser_typedDependencies.bat\" D:/GoogleDownload/new_corpus/9849.txt > D:/GoogleDownload/new_dependency_corpus/9849.txt_new.txt\n",
      "\"./lexparser_typedDependencies.bat\" D:/GoogleDownload/new_corpus/9880.txt > D:/GoogleDownload/new_dependency_corpus/9880.txt_new.txt\n",
      "\"./lexparser_typedDependencies.bat\" D:/GoogleDownload/new_corpus/9981.txt > D:/GoogleDownload/new_dependency_corpus/9981.txt_new.txt\n",
      "\"./lexparser_typedDependencies.bat\" D:/GoogleDownload/new_corpus/9994.txt > D:/GoogleDownload/new_dependency_corpus/9994.txt_new.txt\n"
     ]
    }
   ],
   "source": [
    "get_dependency(files_name_1_3)"
   ]
  },
  {
   "cell_type": "code",
   "execution_count": 20,
   "metadata": {},
   "outputs": [],
   "source": [
    "filename_1_3 = os.listdir(\"D:/GoogleDownload/new_dependency_corpus\")"
   ]
  },
  {
   "cell_type": "code",
   "execution_count": 36,
   "metadata": {
    "scrolled": false
   },
   "outputs": [
    {
     "name": "stdout",
     "output_type": "stream",
     "text": [
      "0006.txt_new.txt 408\n",
      "0219.txt_new.txt 312\n",
      "0381.txt_new.txt 293\n",
      "0403.txt_new.txt 363\n",
      "0404.txt_new.txt 443\n",
      "0432.txt_new.txt 411\n",
      "0439.txt_new.txt 360\n",
      "0633.txt_new.txt 382\n",
      "0828.txt_new.txt 321\n",
      "0830.txt_new.txt 383\n",
      "0895.txt_new.txt 435\n",
      "0921.txt_new.txt 342\n",
      "1076.txt_new.txt 398\n",
      "1290.txt_new.txt 428\n",
      "1357.txt_new.txt 338\n",
      "1408.txt_new.txt 323\n",
      "1498.txt_new.txt 427\n",
      "1537.txt_new.txt 327\n",
      "1676.txt_new.txt 382\n",
      "1735.txt_new.txt 405\n",
      "1780.txt_new.txt 374\n",
      "1866.txt_new.txt 382\n",
      "1936.txt_new.txt 325\n",
      "1963.txt_new.txt 351\n",
      "1989.txt_new.txt 327\n",
      "2200.txt_new.txt 363\n",
      "2252.txt_new.txt 405\n",
      "2319.txt_new.txt 285\n",
      "2389.txt_new.txt 336\n",
      "2405.txt_new.txt 359\n",
      "2570.txt_new.txt 337\n",
      "2749.txt_new.txt 384\n",
      "2764.txt_new.txt 401\n",
      "2935.txt_new.txt 457\n",
      "3129.txt_new.txt 399\n",
      "3210.txt_new.txt 443\n",
      "3229.txt_new.txt 373\n",
      "3421.txt_new.txt 414\n",
      "3723.txt_new.txt 451\n",
      "3830.txt_new.txt 405\n",
      "3884.txt_new.txt 383\n",
      "4195.txt_new.txt 371\n",
      "4362.txt_new.txt 297\n",
      "4469.txt_new.txt 398\n",
      "4580.txt_new.txt 365\n",
      "4744.txt_new.txt 294\n",
      "4756.txt_new.txt 382\n",
      "4823.txt_new.txt 371\n",
      "4904.txt_new.txt 353\n",
      "5029.txt_new.txt 388\n",
      "5284.txt_new.txt 349\n",
      "5448.txt_new.txt 366\n",
      "5617.txt_new.txt 388\n",
      "5711.txt_new.txt 415\n",
      "5725.txt_new.txt 300\n",
      "5897.txt_new.txt 328\n",
      "5952.txt_new.txt 421\n",
      "5984.txt_new.txt 340\n",
      "6079.txt_new.txt 373\n",
      "6143.txt_new.txt 363\n",
      "6384.txt_new.txt 418\n",
      "6523.txt_new.txt 376\n",
      "6526.txt_new.txt 423\n",
      "6842.txt_new.txt 421\n",
      "6937.txt_new.txt 399\n",
      "7043.txt_new.txt 425\n",
      "7052.txt_new.txt 383\n",
      "7087.txt_new.txt 361\n",
      "7175.txt_new.txt 377\n",
      "7313.txt_new.txt 413\n",
      "7358.txt_new.txt 395\n",
      "7491.txt_new.txt 422\n",
      "7703.txt_new.txt 344\n",
      "7732.txt_new.txt 343\n",
      "7858.txt_new.txt 358\n",
      "7901.txt_new.txt 365\n",
      "8136.txt_new.txt 374\n",
      "8154.txt_new.txt 379\n",
      "8161.txt_new.txt 354\n",
      "8251.txt_new.txt 308\n",
      "8314.txt_new.txt 390\n",
      "8376.txt_new.txt 390\n",
      "8576.txt_new.txt 371\n",
      "8649.txt_new.txt 453\n",
      "8756.txt_new.txt 405\n",
      "8764.txt_new.txt 332\n",
      "9021.txt_new.txt 307\n",
      "9088.txt_new.txt 413\n",
      "9090.txt_new.txt 307\n",
      "9184.txt_new.txt 388\n",
      "9203.txt_new.txt 416\n",
      "9366.txt_new.txt 338\n",
      "9426.txt_new.txt 380\n",
      "9508.txt_new.txt 410\n",
      "9597.txt_new.txt 327\n",
      "9629.txt_new.txt 315\n",
      "9849.txt_new.txt 337\n",
      "9880.txt_new.txt 335\n",
      "9981.txt_new.txt 374\n",
      "9994.txt_new.txt 396\n",
      "[(' of', 10262), (' in', 6870), (' to', 3212)]\n",
      "[(' of', 10262), (' in', 6870), (' to', 3212)]\n"
     ]
    },
    {
     "data": {
      "text/plain": [
       "\"\\nImportant:\\nthe result show below shows that the filename + the number of preposition + the most three prepositions, for example:\\n0006.txt_new.txt' : filename\\n408 the total number of this file\\nand I write the overall output at the end.\\n\\n\""
      ]
     },
     "execution_count": 36,
     "metadata": {},
     "output_type": "execute_result"
    }
   ],
   "source": [
    "total_preposition = []\n",
    "top = {}\n",
    "for file in filename_1_3:\n",
    "    path = \"D:/GoogleDownload/new_dependency_corpus\"\n",
    "    i = 0\n",
    "    pro_list = []\n",
    "    with open (path + \"/\" + file, 'r', encoding = \"UTF-8\", ) as f:\n",
    "        line = f.readline()\n",
    "        while line:\n",
    "            line = line.strip()\n",
    "            if len(line) != 0 and line[0:3] == \"cas\":\n",
    "                i += 1\n",
    "                temp = line.split(\",\")\n",
    "#                 print(temp)\n",
    "#                 print(temp[-1].split(\"-\")[0])\n",
    "                temp_2 = temp[-1].split(\"-\")\n",
    "                temp_3 = temp_2[0].lower()\n",
    "                if temp_3 not in top:\n",
    "                    top[temp_3] = 0\n",
    "                top[temp_3] += 1\n",
    "#                 print(i, temp_2[0])\n",
    "                pro_list.append(temp_2[0].lower())\n",
    "                total_preposition.append(temp_2[0].lower())\n",
    "                result = Counter(pro_list)\n",
    "#                 print(Counter(pro_list).most_common(3))\n",
    "#                 result = sorted(result.items(),key = lambda result:result[1],reverse=True)\n",
    "#                 temp_count = 0\n",
    "                \n",
    "#                 for k, v in result:\n",
    "#                     temp_count += 1\n",
    "#                     three_result[k] = v\n",
    "#                     if temp_count >= 3:\n",
    "#                         break\n",
    "#                 total_preposition.append(pro_list)\n",
    "            line = f.readline()\n",
    "    print(file, i)\n",
    "print(Counter(total_preposition).most_common(3))\n",
    "top_3 = sorted(top.items(),key = lambda result:result[1],reverse=True)[0:3]        \n",
    "print(top_3)        \n",
    "        \n",
    "'''\n",
    "Important:\n",
    "the result show below shows that the filename + the number of preposition + the most three prepositions, for example:\n",
    "0006.txt_new.txt' : filename\n",
    "408 the total number of this file\n",
    "and I write the overall output at the end.\n",
    "\n",
    "'''"
   ]
  },
  {
   "cell_type": "markdown",
   "metadata": {},
   "source": [
    "# 1.4"
   ]
  },
  {
   "cell_type": "markdown",
   "metadata": {},
   "source": [
    "I checked the output manully and write the summary in the file 1.4_file, please check \n"
   ]
  }
 ],
 "metadata": {
  "kernelspec": {
   "display_name": "Python 3",
   "language": "python",
   "name": "python3"
  },
  "language_info": {
   "codemirror_mode": {
    "name": "ipython",
    "version": 3
   },
   "file_extension": ".py",
   "mimetype": "text/x-python",
   "name": "python",
   "nbconvert_exporter": "python",
   "pygments_lexer": "ipython3",
   "version": "3.7.3"
  }
 },
 "nbformat": 4,
 "nbformat_minor": 2
}
