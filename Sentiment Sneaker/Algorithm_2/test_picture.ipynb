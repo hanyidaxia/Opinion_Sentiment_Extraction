{
 "cells": [
  {
   "cell_type": "code",
   "execution_count": 3,
   "metadata": {},
   "outputs": [],
   "source": [
    "import json\n",
    "with open(\"H:/Data/thepicture.json\", \"r\", encoding = 'ISO-8859-1') as f:\n",
    "    sim = json.load(f)"
   ]
  },
  {
   "cell_type": "code",
   "execution_count": 10,
   "metadata": {},
   "outputs": [
    {
     "data": {
      "text/plain": [
       "0"
      ]
     },
     "execution_count": 10,
     "metadata": {},
     "output_type": "execute_result"
    }
   ],
   "source": [
    "sim[0][0]"
   ]
  },
  {
   "cell_type": "code",
   "execution_count": 14,
   "metadata": {},
   "outputs": [
    {
     "name": "stdout",
     "output_type": "stream",
     "text": [
      "17827\n",
      "17827\n",
      "17827\n"
     ]
    }
   ],
   "source": [
    "import numpy as np\n",
    "for i in sim:\n",
    "    if np.mean(i) == 0:\n",
    "        print(sim.index(i))"
   ]
  },
  {
   "cell_type": "code",
   "execution_count": 35,
   "metadata": {},
   "outputs": [],
   "source": [
    "import copy"
   ]
  },
  {
   "cell_type": "code",
   "execution_count": 41,
   "metadata": {},
   "outputs": [],
   "source": [
    "Dic = {\n",
    "'a' : 2,\n",
    "'b' : 2,\n",
    "'c' : 2,\n",
    "'d' : 2,\n",
    "'e' : 2,\n",
    "'f' : 2,\n",
    "'g' : 2,\n",
    "'h' : 2,\n",
    "'i' : 2,\n",
    "'j' : 2\n",
    "}"
   ]
  },
  {
   "cell_type": "code",
   "execution_count": 42,
   "metadata": {},
   "outputs": [],
   "source": [
    "pairs = [['a','b'], ['b','c'], ['d','e'], ['a','e'], ['c','f'], ['h','i'], ['g','j'], ['d','i'], ['c','h'], ['a','j'] ]"
   ]
  },
  {
   "cell_type": "code",
   "execution_count": 43,
   "metadata": {},
   "outputs": [
    {
     "name": "stdout",
     "output_type": "stream",
     "text": [
      "first\n",
      "second\n",
      "shabi\n",
      "first\n",
      "second\n",
      "shabi\n",
      "shabi\n",
      "['h', 'i', 'd', 'e', 'a', 'b', 'c', 'f', 'g', 'j']\n"
     ]
    }
   ],
   "source": [
    "dict1 = {}\n",
    "dict2 = {}\n",
    "bod = []\n",
    "i = 0\n",
    "dict3 = {}\n",
    "alone = []\n",
    "for pair in pairs:\n",
    "    if Dic[pair[0]] * Dic[pair[1]] > 0:\n",
    "        if pair[0] not in bod and pair[1] not in bod:\n",
    "            dict1[i] = pair\n",
    "            bod.append(pair[0])\n",
    "            bod.append(pair[1])\n",
    "            dict2[i] = bod\n",
    "            Dic[pair[0]] -= 1\n",
    "            Dic[pair[1]] -= 1\n",
    "        elif pair[0] in bod and pair[1] not in bod:\n",
    "            for k, v in dict1.items():\n",
    "                if pair[0] in v:\n",
    "                    dict1[k].append(pair[1])\n",
    "                    bod.append(pair[1])\n",
    "                    Dic[pair[0]] -= 1\n",
    "                    Dic[pair[1]] -= 1\n",
    "        elif pair[1] in bod and pair[0] not in bod:\n",
    "            for k, v in dict1.items():\n",
    "                if pair[1] in v:\n",
    "                    dict1[k].append(pair[0])\n",
    "                    bod.append(pair[1])\n",
    "                    Dic[pair[0]] -= 1\n",
    "                    Dic[pair[1]] -= 1\n",
    "        elif pair[0] in bod and pair[1] in bod:\n",
    "            id1 = []\n",
    "            id2 = []\n",
    "            for k, v in dict1.items():\n",
    "                if pair[0] in v and pair[1] in v:\n",
    "                    pass\n",
    "                # d , i\n",
    "                if pair[0] in v:\n",
    "                    print(\"first\")\n",
    "                    tmp1 = dict1[k]\n",
    "                    is1 = k\n",
    "                    id1.append(v.index(pair[0]))\n",
    "                    Dic[pair[0]] -= 1\n",
    "                if pair[1] in v:\n",
    "                    print('second')\n",
    "                    tmp2 = v\n",
    "                    is2 = k\n",
    "                    id2.append(v.index(pair[1]))\n",
    "                    Dic[pair[1]] -= 1\n",
    "                try:\n",
    "                    if id1[0] == 0 and id2[0] == 0:\n",
    "                        dict1[k-1] = tmp1.reverse() + tmp2\n",
    "                    if id1[0] == 0 and id2[0] == 1:\n",
    "                        print('shabi')\n",
    "                        dict1[k] = list(tmp2) + list(tmp1)\n",
    "                    if id1[0] == 1 and id2[0] == 0:\n",
    "                        dict1[k] = list(tmp1) + list(tmp2)\n",
    "                    if id1[0] == 1 and id2[0] == 1:\n",
    "                        dict1[k] = tmp1.reverse() + tmp2\n",
    "                except:\n",
    "                    pass\n",
    "            \n",
    "            \n",
    "    i += 1\n",
    "    \n",
    "for v in dict1.values():\n",
    "    m = dict1[sorted(dict1.keys())[-1]] \n",
    "    for k in Dic.keys():\n",
    "        if k not in m:\n",
    "            m.append(k)\n",
    "            \n",
    "print(m)\n",
    "#     print(dict1)\n",
    "    \n",
    "#     if Dic[pair[0]] * Dic[pair[1]] != 0 and (Dic[pair[0]] + Dic[pair[1]]) != 0:\n",
    "#         for al in pair:\n",
    "#             if Dic[al] != 0:\n",
    "#                 alone.append(al)\n",
    "#         print('nimabi', alone)"
   ]
  },
  {
   "cell_type": "code",
   "execution_count": null,
   "metadata": {},
   "outputs": [],
   "source": []
  },
  {
   "cell_type": "code",
   "execution_count": null,
   "metadata": {},
   "outputs": [],
   "source": []
  }
 ],
 "metadata": {
  "kernelspec": {
   "display_name": "Python 3",
   "language": "python",
   "name": "python3"
  },
  "language_info": {
   "codemirror_mode": {
    "name": "ipython",
    "version": 3
   },
   "file_extension": ".py",
   "mimetype": "text/x-python",
   "name": "python",
   "nbconvert_exporter": "python",
   "pygments_lexer": "ipython3",
   "version": "3.7.3"
  }
 },
 "nbformat": 4,
 "nbformat_minor": 2
}
