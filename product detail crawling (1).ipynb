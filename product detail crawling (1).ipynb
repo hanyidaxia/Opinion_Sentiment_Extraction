{
 "cells": [
  {
   "cell_type": "code",
   "execution_count": 1,
   "metadata": {},
   "outputs": [],
   "source": [
    "import selenium\n",
    "import time\n",
    "from selenium import webdriver\n",
    "from bs4 import BeautifulSoup as BS\n",
    "from selenium.webdriver.chrome.options import Options\n",
    "import sys\n",
    "import pickle\n",
    "import pandas as pd"
   ]
  },
  {
   "cell_type": "code",
   "execution_count": 2,
   "metadata": {},
   "outputs": [],
   "source": [
    "page_range = [\"\",\n",
    "              \"#/store/men/shoes/casual/_/N-1q3xsyk?mnid=men_shoes_casual&No=40\", \n",
    "              \"#/store/men/shoes/casual/_/N-1q3xsyk?mnid=men_shoes_casual&No=80\", \n",
    "              \"#/store/men/shoes/casual/_/N-1q3xsyk?mnid=men_shoes_casual&No=120\", \n",
    "              \"#/store/men/shoes/casual/_/N-1q3xsyk?mnid=men_shoes_casual&No=160\", \n",
    "              \"#/store/men/shoes/casual/_/N-1q3xsyk?mnid=men_shoes_casual&No=200\", \n",
    "              \"#/store/men/shoes/casual/_/N-1q3xsyk?mnid=men_shoes_casual&No=240\", \n",
    "              \"#/store/men/shoes/casual/_/N-1q3xsyk?mnid=men_shoes_casual&No=280\", \n",
    "              \"#/store/men/shoes/casual/_/N-1q3xsyk?mnid=men_shoes_casual&No=320\", \n",
    "              \"#/store/men/shoes/casual/_/N-1q3xsyk?mnid=men_shoes_casual&No=360\", \n",
    "              \"#/store/men/shoes/casual/_/N-1q3xsyk?mnid=men_shoes_casual&No=400\", \n",
    "              \"#/store/men/shoes/casual/_/N-1q3xsyk?mnid=men_shoes_casual&No=440\", \n",
    "              \"#/store/men/shoes/casual/_/N-1q3xsyk?mnid=men_shoes_casual&No=480\", \n",
    "              \"#/store/men/shoes/casual/_/N-1q3xsyk?mnid=men_shoes_casual&No=520\", \n",
    "              \"#/store/men/shoes/casual/_/N-1q3xsyk?mnid=men_shoes_casual&No=560\", \n",
    "              \"#/store/men/shoes/casual/_/N-1q3xsyk?mnid=men_shoes_casual&No=600\", \n",
    "              \"#/store/men/shoes/casual/_/N-1q3xsyk?mnid=men_shoes_casual&No=640\", \n",
    "              \"#/store/men/shoes/casual/_/N-1q3xsyk?mnid=men_shoes_casual&No=680\", \n",
    "              \"#/store/men/shoes/casual/_/N-1q3xsyk?mnid=men_shoes_casual&No=720\"]"
   ]
  },
  {
   "cell_type": "code",
   "execution_count": 3,
   "metadata": {},
   "outputs": [
    {
     "name": "stdout",
     "output_type": "stream",
     "text": [
      "19\n"
     ]
    }
   ],
   "source": [
    "print(len(page_range))"
   ]
  },
  {
   "cell_type": "code",
   "execution_count": 4,
   "metadata": {},
   "outputs": [
    {
     "name": "stderr",
     "output_type": "stream",
     "text": [
      "C:\\Anaconda\\lib\\site-packages\\ipykernel_launcher.py:3: DeprecationWarning: use options instead of chrome_options\n",
      "  This is separate from the ipykernel package so we can avoid doing imports until\n"
     ]
    }
   ],
   "source": [
    "options = Options()\n",
    "options.add_argument(\"start-maximized\")\n",
    "browser = webdriver.Chrome(chrome_options = options)\n",
    "def get_links (i):\n",
    "    browser_name = \"https://www.finishline.com/store/men/shoes/casual/_/N-1q3xsyk?mnid=men_shoes_casual\" + i\n",
    "    print(browser_name)\n",
    "    browser.get(str(browser_name))\n",
    "    time.sleep(45)\n",
    "    bs_obj = BS(browser.page_source, \"html.parser\")\n",
    "    namelist = bs_obj.findAll(\"div\", {\"product-card\"})\n",
    "    links = []\n",
    "    for g in namelist:\n",
    "        links.append(g.find(\"a\").attrs[\"href\"])\n",
    "    return links"
   ]
  },
  {
   "cell_type": "code",
   "execution_count": 5,
   "metadata": {},
   "outputs": [
    {
     "name": "stdout",
     "output_type": "stream",
     "text": [
      "https://www.finishline.com/store/men/shoes/casual/_/N-1q3xsyk?mnid=men_shoes_casual\n",
      "https://www.finishline.com/store/men/shoes/casual/_/N-1q3xsyk?mnid=men_shoes_casual#/store/men/shoes/casual/_/N-1q3xsyk?mnid=men_shoes_casual&No=40\n",
      "https://www.finishline.com/store/men/shoes/casual/_/N-1q3xsyk?mnid=men_shoes_casual#/store/men/shoes/casual/_/N-1q3xsyk?mnid=men_shoes_casual&No=80\n",
      "https://www.finishline.com/store/men/shoes/casual/_/N-1q3xsyk?mnid=men_shoes_casual#/store/men/shoes/casual/_/N-1q3xsyk?mnid=men_shoes_casual&No=120\n",
      "https://www.finishline.com/store/men/shoes/casual/_/N-1q3xsyk?mnid=men_shoes_casual#/store/men/shoes/casual/_/N-1q3xsyk?mnid=men_shoes_casual&No=160\n",
      "https://www.finishline.com/store/men/shoes/casual/_/N-1q3xsyk?mnid=men_shoes_casual#/store/men/shoes/casual/_/N-1q3xsyk?mnid=men_shoes_casual&No=200\n",
      "https://www.finishline.com/store/men/shoes/casual/_/N-1q3xsyk?mnid=men_shoes_casual#/store/men/shoes/casual/_/N-1q3xsyk?mnid=men_shoes_casual&No=240\n",
      "https://www.finishline.com/store/men/shoes/casual/_/N-1q3xsyk?mnid=men_shoes_casual#/store/men/shoes/casual/_/N-1q3xsyk?mnid=men_shoes_casual&No=280\n",
      "https://www.finishline.com/store/men/shoes/casual/_/N-1q3xsyk?mnid=men_shoes_casual#/store/men/shoes/casual/_/N-1q3xsyk?mnid=men_shoes_casual&No=320\n",
      "https://www.finishline.com/store/men/shoes/casual/_/N-1q3xsyk?mnid=men_shoes_casual#/store/men/shoes/casual/_/N-1q3xsyk?mnid=men_shoes_casual&No=360\n",
      "https://www.finishline.com/store/men/shoes/casual/_/N-1q3xsyk?mnid=men_shoes_casual#/store/men/shoes/casual/_/N-1q3xsyk?mnid=men_shoes_casual&No=400\n",
      "https://www.finishline.com/store/men/shoes/casual/_/N-1q3xsyk?mnid=men_shoes_casual#/store/men/shoes/casual/_/N-1q3xsyk?mnid=men_shoes_casual&No=440\n",
      "https://www.finishline.com/store/men/shoes/casual/_/N-1q3xsyk?mnid=men_shoes_casual#/store/men/shoes/casual/_/N-1q3xsyk?mnid=men_shoes_casual&No=480\n",
      "https://www.finishline.com/store/men/shoes/casual/_/N-1q3xsyk?mnid=men_shoes_casual#/store/men/shoes/casual/_/N-1q3xsyk?mnid=men_shoes_casual&No=520\n",
      "https://www.finishline.com/store/men/shoes/casual/_/N-1q3xsyk?mnid=men_shoes_casual#/store/men/shoes/casual/_/N-1q3xsyk?mnid=men_shoes_casual&No=560\n",
      "https://www.finishline.com/store/men/shoes/casual/_/N-1q3xsyk?mnid=men_shoes_casual#/store/men/shoes/casual/_/N-1q3xsyk?mnid=men_shoes_casual&No=600\n",
      "https://www.finishline.com/store/men/shoes/casual/_/N-1q3xsyk?mnid=men_shoes_casual#/store/men/shoes/casual/_/N-1q3xsyk?mnid=men_shoes_casual&No=640\n",
      "https://www.finishline.com/store/men/shoes/casual/_/N-1q3xsyk?mnid=men_shoes_casual#/store/men/shoes/casual/_/N-1q3xsyk?mnid=men_shoes_casual&No=680\n",
      "https://www.finishline.com/store/men/shoes/casual/_/N-1q3xsyk?mnid=men_shoes_casual#/store/men/shoes/casual/_/N-1q3xsyk?mnid=men_shoes_casual&No=720\n"
     ]
    }
   ],
   "source": [
    "all_links = []\n",
    "for i in page_range:\n",
    "    link = get_links(i)\n",
    "    all_links.append(link)\n",
    "    time.sleep(2)"
   ]
  },
  {
   "cell_type": "code",
   "execution_count": 6,
   "metadata": {},
   "outputs": [],
   "source": [
    "casual_links = all_links"
   ]
  },
  {
   "cell_type": "code",
   "execution_count": 7,
   "metadata": {},
   "outputs": [],
   "source": [
    "running_page_range = [\"\",\n",
    "              \"#/store/men/shoes/running/_/N-57cgax?mnid=men_shoes_running&No=40\", \n",
    "              \"#/store/men/shoes/running/_/N-57cgax?mnid=men_shoes_running&No=80\", \n",
    "              \"#/store/men/shoes/running/_/N-57cgax?mnid=men_shoes_running&No=120\", \n",
    "              \"#/store/men/shoes/running/_/N-57cgax?mnid=men_shoes_running&No=160\", \n",
    "              \"#/store/men/shoes/running/_/N-57cgax?mnid=men_shoes_running&No=200\", \n",
    "              \"#/store/men/shoes/running/_/N-57cgax?mnid=men_shoes_running&No=240\", \n",
    "              \"#/store/men/shoes/running/_/N-57cgax?mnid=men_shoes_running&No=280\", \n",
    "              \"#/store/men/shoes/running/_/N-57cgax?mnid=men_shoes_running&No=320\", \n",
    "              \"#/store/men/shoes/running/_/N-57cgax?mnid=men_shoes_running&No=360\", \n",
    "              \"#/store/men/shoes/running/_/N-57cgax?mnid=men_shoes_running&No=400\", \n",
    "              \"#/store/men/shoes/running/_/N-57cgax?mnid=men_shoes_running&No=440\"]"
   ]
  },
  {
   "cell_type": "code",
   "execution_count": 8,
   "metadata": {},
   "outputs": [
    {
     "name": "stderr",
     "output_type": "stream",
     "text": [
      "C:\\Anaconda\\lib\\site-packages\\ipykernel_launcher.py:3: DeprecationWarning: use options instead of chrome_options\n",
      "  This is separate from the ipykernel package so we can avoid doing imports until\n"
     ]
    }
   ],
   "source": [
    "options = Options()\n",
    "options.add_argument(\"start-maximized\")\n",
    "browser = webdriver.Chrome(chrome_options = options)\n",
    "def get_running (i):\n",
    "    browser_name = \"https://www.finishline.com/store/men/shoes/running/_/N-57cgax?mnid=men_shoes_running\" + i\n",
    "    print(browser_name)\n",
    "    browser.get(str(browser_name))\n",
    "    time.sleep(45)\n",
    "    bs_obj = BS(browser.page_source, \"html.parser\")\n",
    "    namelist = bs_obj.findAll(\"div\", {\"product-card\"})\n",
    "    links = []\n",
    "    for g in namelist:\n",
    "        links.append(g.find(\"a\").attrs[\"href\"])\n",
    "    return links"
   ]
  },
  {
   "cell_type": "code",
   "execution_count": 9,
   "metadata": {
    "scrolled": false
   },
   "outputs": [
    {
     "name": "stdout",
     "output_type": "stream",
     "text": [
      "https://www.finishline.com/store/men/shoes/running/_/N-57cgax?mnid=men_shoes_running\n",
      "https://www.finishline.com/store/men/shoes/running/_/N-57cgax?mnid=men_shoes_running#/store/men/shoes/running/_/N-57cgax?mnid=men_shoes_running&No=40\n",
      "https://www.finishline.com/store/men/shoes/running/_/N-57cgax?mnid=men_shoes_running#/store/men/shoes/running/_/N-57cgax?mnid=men_shoes_running&No=80\n",
      "https://www.finishline.com/store/men/shoes/running/_/N-57cgax?mnid=men_shoes_running#/store/men/shoes/running/_/N-57cgax?mnid=men_shoes_running&No=120\n",
      "https://www.finishline.com/store/men/shoes/running/_/N-57cgax?mnid=men_shoes_running#/store/men/shoes/running/_/N-57cgax?mnid=men_shoes_running&No=160\n",
      "https://www.finishline.com/store/men/shoes/running/_/N-57cgax?mnid=men_shoes_running#/store/men/shoes/running/_/N-57cgax?mnid=men_shoes_running&No=200\n",
      "https://www.finishline.com/store/men/shoes/running/_/N-57cgax?mnid=men_shoes_running#/store/men/shoes/running/_/N-57cgax?mnid=men_shoes_running&No=240\n",
      "https://www.finishline.com/store/men/shoes/running/_/N-57cgax?mnid=men_shoes_running#/store/men/shoes/running/_/N-57cgax?mnid=men_shoes_running&No=280\n",
      "https://www.finishline.com/store/men/shoes/running/_/N-57cgax?mnid=men_shoes_running#/store/men/shoes/running/_/N-57cgax?mnid=men_shoes_running&No=320\n",
      "https://www.finishline.com/store/men/shoes/running/_/N-57cgax?mnid=men_shoes_running#/store/men/shoes/running/_/N-57cgax?mnid=men_shoes_running&No=360\n",
      "https://www.finishline.com/store/men/shoes/running/_/N-57cgax?mnid=men_shoes_running#/store/men/shoes/running/_/N-57cgax?mnid=men_shoes_running&No=400\n",
      "https://www.finishline.com/store/men/shoes/running/_/N-57cgax?mnid=men_shoes_running#/store/men/shoes/running/_/N-57cgax?mnid=men_shoes_running&No=440\n"
     ]
    }
   ],
   "source": [
    "Running_links = []\n",
    "for i in running_page_range:\n",
    "    link = get_running(i)\n",
    "    Running_links.append(link)\n",
    "    time.sleep(2)"
   ]
  },
  {
   "cell_type": "code",
   "execution_count": 10,
   "metadata": {},
   "outputs": [
    {
     "data": {
      "text/plain": [
       "12"
      ]
     },
     "execution_count": 10,
     "metadata": {},
     "output_type": "execute_result"
    }
   ],
   "source": [
    "len(Running_links)"
   ]
  },
  {
   "cell_type": "code",
   "execution_count": 11,
   "metadata": {},
   "outputs": [],
   "source": [
    "basketball_page_range = [\"\",\n",
    "              \"#/store/men/shoes/basketball/_/N-3z3fil?mnid=men_shoes_basketball&No=40\", \n",
    "              \"#/store/men/shoes/basketball/_/N-3z3fil?mnid=men_shoes_basketball&No=80\", \n",
    "              \"#/store/men/shoes/basketball/_/N-3z3fil?mnid=men_shoes_basketball&No=120\", \n",
    "              \"#/store/men/shoes/basketball/_/N-3z3fil?mnid=men_shoes_basketball&No=160\", \n",
    "              \"#/store/men/shoes/basketball/_/N-3z3fil?mnid=men_shoes_basketball&No=200\", \n",
    "              \"#/store/men/shoes/basketball/_/N-3z3fil?mnid=men_shoes_basketball&No=240\"]"
   ]
  },
  {
   "cell_type": "code",
   "execution_count": 12,
   "metadata": {},
   "outputs": [
    {
     "name": "stderr",
     "output_type": "stream",
     "text": [
      "C:\\Anaconda\\lib\\site-packages\\ipykernel_launcher.py:3: DeprecationWarning: use options instead of chrome_options\n",
      "  This is separate from the ipykernel package so we can avoid doing imports until\n"
     ]
    }
   ],
   "source": [
    "options = Options()\n",
    "options.add_argument(\"start-maximized\")\n",
    "browser = webdriver.Chrome(chrome_options = options)\n",
    "def get_basketball (i):\n",
    "    browser_name = \"https://www.finishline.com/store/men/shoes/basketball/_/N-3z3fil?mnid=men_shoes_basketball\" + i\n",
    "    print(browser_name)\n",
    "    browser.get(str(browser_name))\n",
    "    time.sleep(45)\n",
    "    bs_obj = BS(browser.page_source, \"html.parser\")\n",
    "    namelist = bs_obj.findAll(\"div\", {\"product-card\"})\n",
    "    links = []\n",
    "    for g in namelist:\n",
    "        links.append(g.find(\"a\").attrs[\"href\"])\n",
    "    return links"
   ]
  },
  {
   "cell_type": "code",
   "execution_count": 13,
   "metadata": {},
   "outputs": [
    {
     "name": "stdout",
     "output_type": "stream",
     "text": [
      "https://www.finishline.com/store/men/shoes/running/_/N-57cgax?mnid=men_shoes_running\n",
      "https://www.finishline.com/store/men/shoes/running/_/N-57cgax?mnid=men_shoes_running#/store/men/shoes/basketball/_/N-3z3fil?mnid=men_shoes_basketball&No=40\n",
      "https://www.finishline.com/store/men/shoes/running/_/N-57cgax?mnid=men_shoes_running#/store/men/shoes/basketball/_/N-3z3fil?mnid=men_shoes_basketball&No=80\n",
      "https://www.finishline.com/store/men/shoes/running/_/N-57cgax?mnid=men_shoes_running#/store/men/shoes/basketball/_/N-3z3fil?mnid=men_shoes_basketball&No=120\n",
      "https://www.finishline.com/store/men/shoes/running/_/N-57cgax?mnid=men_shoes_running#/store/men/shoes/basketball/_/N-3z3fil?mnid=men_shoes_basketball&No=160\n",
      "https://www.finishline.com/store/men/shoes/running/_/N-57cgax?mnid=men_shoes_running#/store/men/shoes/basketball/_/N-3z3fil?mnid=men_shoes_basketball&No=200\n",
      "https://www.finishline.com/store/men/shoes/running/_/N-57cgax?mnid=men_shoes_running#/store/men/shoes/basketball/_/N-3z3fil?mnid=men_shoes_basketball&No=240\n"
     ]
    }
   ],
   "source": [
    "Basketball_links = []\n",
    "for i in basketball_page_range:\n",
    "    link = get_running(i)\n",
    "    Basketball_links.append(link)\n",
    "    time.sleep(2)"
   ]
  },
  {
   "cell_type": "code",
   "execution_count": 14,
   "metadata": {},
   "outputs": [],
   "source": [
    "training_page_range = [\"\",\n",
    "              \"#/store/men/shoes/training-gym/_/N-kadepn?mnid=men_shoes_traininggym&No=40\", \n",
    "              \"#/store/men/shoes/training-gym/_/N-kadepn?mnid=men_shoes_traininggym&No=80\", \n",
    "              \"#/store/men/shoes/training-gym/_/N-kadepn?mnid=men_shoes_traininggym&No=120\", \n",
    "              \"#/store/men/shoes/training-gym/_/N-kadepn?mnid=men_shoes_traininggym&No=160\"]"
   ]
  },
  {
   "cell_type": "code",
   "execution_count": 15,
   "metadata": {},
   "outputs": [
    {
     "name": "stderr",
     "output_type": "stream",
     "text": [
      "C:\\Anaconda\\lib\\site-packages\\ipykernel_launcher.py:3: DeprecationWarning: use options instead of chrome_options\n",
      "  This is separate from the ipykernel package so we can avoid doing imports until\n"
     ]
    }
   ],
   "source": [
    "options = Options()\n",
    "options.add_argument(\"start-maximized\")\n",
    "browser = webdriver.Chrome(chrome_options = options)\n",
    "def get_training (i):\n",
    "    browser_name = \"https://www.finishline.com/store/men/shoes/training-gym/_/N-kadepn?mnid=men_shoes_traininggym\" + i\n",
    "    print(browser_name)\n",
    "    browser.get(str(browser_name))\n",
    "    time.sleep(45)\n",
    "    bs_obj = BS(browser.page_source, \"html.parser\")\n",
    "    namelist = bs_obj.findAll(\"div\", {\"product-card\"})\n",
    "    links = []\n",
    "    for g in namelist:\n",
    "        links.append(g.find(\"a\").attrs[\"href\"])\n",
    "    return links"
   ]
  },
  {
   "cell_type": "code",
   "execution_count": 16,
   "metadata": {},
   "outputs": [
    {
     "name": "stdout",
     "output_type": "stream",
     "text": [
      "https://www.finishline.com/store/men/shoes/training-gym/_/N-kadepn?mnid=men_shoes_traininggym\n",
      "https://www.finishline.com/store/men/shoes/training-gym/_/N-kadepn?mnid=men_shoes_traininggym#/store/men/shoes/training-gym/_/N-kadepn?mnid=men_shoes_traininggym&No=40\n",
      "https://www.finishline.com/store/men/shoes/training-gym/_/N-kadepn?mnid=men_shoes_traininggym#/store/men/shoes/training-gym/_/N-kadepn?mnid=men_shoes_traininggym&No=80\n",
      "https://www.finishline.com/store/men/shoes/training-gym/_/N-kadepn?mnid=men_shoes_traininggym#/store/men/shoes/training-gym/_/N-kadepn?mnid=men_shoes_traininggym&No=120\n",
      "https://www.finishline.com/store/men/shoes/training-gym/_/N-kadepn?mnid=men_shoes_traininggym#/store/men/shoes/training-gym/_/N-kadepn?mnid=men_shoes_traininggym&No=160\n"
     ]
    }
   ],
   "source": [
    "Training_links = []\n",
    "for i in training_page_range:\n",
    "    link = get_training(i)\n",
    "    Training_links.append(link)\n",
    "    time.sleep(2)"
   ]
  },
  {
   "cell_type": "code",
   "execution_count": 17,
   "metadata": {},
   "outputs": [
    {
     "name": "stderr",
     "output_type": "stream",
     "text": [
      "C:\\Anaconda\\lib\\site-packages\\ipykernel_launcher.py:3: DeprecationWarning: use options instead of chrome_options\n",
      "  This is separate from the ipykernel package so we can avoid doing imports until\n"
     ]
    }
   ],
   "source": [
    "options = Options()\n",
    "options.add_argument(\"start-maximized\")\n",
    "browser = webdriver.Chrome(chrome_options = options)\n",
    "def get_boots ():\n",
    "    browser_name = \"https://www.finishline.com/store/men/shoes/boots/_/N-1psj4ir?mnid=men_shoes_boots\"\n",
    "    print(browser_name)\n",
    "    browser.get(str(browser_name))\n",
    "    time.sleep(45)\n",
    "    bs_obj = BS(browser.page_source, \"html.parser\")\n",
    "    namelist = bs_obj.findAll(\"div\", {\"product-card\"})\n",
    "    links = []\n",
    "    for g in namelist:\n",
    "        links.append(g.find(\"a\").attrs[\"href\"])\n",
    "    return links"
   ]
  },
  {
   "cell_type": "code",
   "execution_count": 18,
   "metadata": {},
   "outputs": [
    {
     "name": "stdout",
     "output_type": "stream",
     "text": [
      "https://www.finishline.com/store/men/shoes/boots/_/N-1psj4ir?mnid=men_shoes_boots\n"
     ]
    }
   ],
   "source": [
    "boots_links = []\n",
    "\n",
    "link = get_boots()\n",
    "boots_links.append(link)\n",
    "#     time.sleep(2)"
   ]
  },
  {
   "cell_type": "code",
   "execution_count": 19,
   "metadata": {},
   "outputs": [
    {
     "name": "stdout",
     "output_type": "stream",
     "text": [
      "19 12 7 5 1\n"
     ]
    }
   ],
   "source": [
    "print(len(casual_links), len(Running_links), len(Basketball_links), len(Training_links), len(boots_links))"
   ]
  },
  {
   "cell_type": "code",
   "execution_count": 20,
   "metadata": {},
   "outputs": [
    {
     "name": "stdout",
     "output_type": "stream",
     "text": [
      "/store/product/mens-nike-react-presto-running-shoes/prod2787433?styleId=AV2605&colorId=700\n"
     ]
    }
   ],
   "source": [
    "print(casual_links[0][0])"
   ]
  },
  {
   "cell_type": "code",
   "execution_count": 21,
   "metadata": {},
   "outputs": [],
   "source": [
    "# options = Options()\n",
    "# options.add_argument(\"start-maximized\")\n",
    "# browser = webdriver.Chrome(chrome_options = options)\n",
    "# browser_name = \"https://www.finishline.com\"+casual_links[0][0]\n",
    "# print(browser_name)\n",
    "# browser.get(browser_name)\n",
    "# time.sleep(45)\n",
    "# browser.find_element_by_name(\"icon icon-chevron-right\").click()"
   ]
  },
  {
   "cell_type": "code",
   "execution_count": 22,
   "metadata": {},
   "outputs": [],
   "source": [
    "# options = Options()\n",
    "# options.add_argument(\"start-maximized\")\n",
    "# browser = webdriver.Chrome(chrome_options = options)\n",
    "# browser_name = \"https://finishline.ugc.bazaarvoice.com/9345/Men_char39_s_\" + \"Air_Jordan_1_Mid_Retro_Basketball_Shoes/\" + \"reviews.djs?format=html&page=9&scrollToTop=true\"\n",
    "# print(browser_name)\n",
    "# browser.get(browser_name)\n",
    "# time.sleep(20)\n",
    "# bs_obj = BS(browser.page_source, \"html.parser\")\n",
    "# reviews = bs_obj.findAll(\"span\", {\"class\": \"BVRRReviewText\"})"
   ]
  },
  {
   "cell_type": "code",
   "execution_count": 36,
   "metadata": {},
   "outputs": [
    {
     "name": "stderr",
     "output_type": "stream",
     "text": [
      "C:\\Anaconda\\lib\\site-packages\\ipykernel_launcher.py:3: DeprecationWarning: use options instead of chrome_options\n",
      "  This is separate from the ipykernel package so we can avoid doing imports until\n"
     ]
    },
    {
     "name": "stdout",
     "output_type": "stream",
     "text": [
      "https://www.finishline.com/store/product/mens-nike-air-vapormax-flyknit-3-running-shoes/prod2787099?styleId=AJ6900&colorId=101\n"
     ]
    }
   ],
   "source": [
    "options = Options()\n",
    "options.add_argument(\"start-maximized\")\n",
    "browser = webdriver.Chrome(chrome_options = options)\n",
    "browser_name = \"https://www.finishline.com\" + casual_links[0][1]\n",
    "print(browser_name)\n",
    "browser.get(browser_name)\n",
    "time.sleep(20)\n",
    "bs_obj = BS(browser.page_source, \"html.parser\")\n",
    "reviews = bs_obj.findAll(\"div\", {\"class\": \"column small-12\"})\n",
    "rate_num = bs_obj.findAll(\"div\", {\"id\" : \"BVRRCustomReviewCountID\"})"
   ]
  },
  {
   "cell_type": "code",
   "execution_count": 37,
   "metadata": {},
   "outputs": [
    {
     "name": "stdout",
     "output_type": "stream",
     "text": [
      "[]\n"
     ]
    }
   ],
   "source": [
    "print(reviews, rate_num)\n",
    "for i in reviews:\n",
    "    print(i.find_all([\"li\", \"BVRRCustomReviewCountNumber\"]))\n",
    "for j in rate_num:\n",
    "    print(j.find_all)"
   ]
  },
  {
   "cell_type": "code",
   "execution_count": 25,
   "metadata": {},
   "outputs": [],
   "source": [
    "all_product = casual_links+ Running_links+ Basketball_links+ Training_links+ boots_links"
   ]
  },
  {
   "cell_type": "code",
   "execution_count": 41,
   "metadata": {},
   "outputs": [
    {
     "data": {
      "text/plain": [
       "44"
      ]
     },
     "execution_count": 41,
     "metadata": {},
     "output_type": "execute_result"
    }
   ],
   "source": [
    "len(all_product)"
   ]
  },
  {
   "cell_type": "code",
   "execution_count": 42,
   "metadata": {},
   "outputs": [
    {
     "data": {
      "text/plain": [
       "'/store/product/mens-nike-react-presto-running-shoes/prod2787433?styleId=AV2605&colorId=700'"
      ]
     },
     "execution_count": 42,
     "metadata": {},
     "output_type": "execute_result"
    }
   ],
   "source": [
    "all_product[0][0]"
   ]
  },
  {
   "cell_type": "code",
   "execution_count": null,
   "metadata": {
    "scrolled": false
   },
   "outputs": [
    {
     "name": "stderr",
     "output_type": "stream",
     "text": [
      "C:\\Anaconda\\lib\\site-packages\\ipykernel_launcher.py:8: DeprecationWarning: use options instead of chrome_options\n",
      "  \n"
     ]
    },
    {
     "name": "stdout",
     "output_type": "stream",
     "text": [
      "/store/product/mens-nike-react-presto-running-shoes/prod2787433?styleId=AV2605&colorId=700\n"
     ]
    },
    {
     "name": "stderr",
     "output_type": "stream",
     "text": [
      "Exception ignored in: <function Service.__del__ at 0x00000291A6869378>\n",
      "Traceback (most recent call last):\n",
      "  File \"C:\\Anaconda\\lib\\site-packages\\selenium\\webdriver\\common\\service.py\", line 176, in __del__\n",
      "    self.stop()\n",
      "  File \"C:\\Anaconda\\lib\\site-packages\\selenium\\webdriver\\common\\service.py\", line 151, in stop\n",
      "    self.send_remote_shutdown_command()\n",
      "  File \"C:\\Anaconda\\lib\\site-packages\\selenium\\webdriver\\common\\service.py\", line 132, in send_remote_shutdown_command\n",
      "  File \"C:\\Anaconda\\lib\\site-packages\\selenium\\webdriver\\common\\service.py\", line 115, in is_connectable\n",
      "    return utils.is_connectable(self.port)\n",
      "  File \"C:\\Anaconda\\lib\\site-packages\\selenium\\webdriver\\common\\utils.py\", line 106, in is_connectable\n",
      "    socket_ = socket.create_connection((host, port), 1)\n",
      "  File \"C:\\Anaconda\\lib\\socket.py\", line 716, in create_connection\n",
      "    sock.connect(sa)\n",
      "KeyboardInterrupt: \n",
      "Exception ignored in: <function Service.__del__ at 0x00000291A6869378>\n",
      "Traceback (most recent call last):\n",
      "  File \"C:\\Anaconda\\lib\\site-packages\\selenium\\webdriver\\common\\service.py\", line 176, in __del__\n",
      "    self.stop()\n",
      "  File \"C:\\Anaconda\\lib\\site-packages\\selenium\\webdriver\\common\\service.py\", line 151, in stop\n",
      "    self.send_remote_shutdown_command()\n",
      "  File \"C:\\Anaconda\\lib\\site-packages\\selenium\\webdriver\\common\\service.py\", line 132, in send_remote_shutdown_command\n",
      "    if not self.is_connectable():\n",
      "  File \"C:\\Anaconda\\lib\\site-packages\\selenium\\webdriver\\common\\service.py\", line 115, in is_connectable\n",
      "    return utils.is_connectable(self.port)\n",
      "  File \"C:\\Anaconda\\lib\\site-packages\\selenium\\webdriver\\common\\utils.py\", line 106, in is_connectable\n",
      "    socket_ = socket.create_connection((host, port), 1)\n",
      "  File \"C:\\Anaconda\\lib\\socket.py\", line 716, in create_connection\n",
      "    sock.connect(sa)\n",
      "KeyboardInterrupt: \n"
     ]
    }
   ],
   "source": [
    "product_name_description = {}\n",
    "with open (\"J:/descriptions.txt\", 'w') as f:\n",
    "    for names in [all_product]:\n",
    "        for page_links in names:\n",
    "            for unique_link in page_links:\n",
    "                options = Options()\n",
    "                options.add_argument(\"start-maximized\")\n",
    "                browser = webdriver.Chrome(chrome_options = options)\n",
    "                print(unique_link)\n",
    "                product_name = unique_link.split('/')[3]\n",
    "                browser_name = \"https://www.finishline.com\" + unique_link\n",
    "                browser.get(browser_name)\n",
    "                time.sleep(40)\n",
    "                bs_obj = BS(browser.page_source, \"html.parser\")\n",
    "                description = bs_obj.findAll(\"div\", {\"class\":\"column small-12\"})  \n",
    "                for i in description:\n",
    "    #                 print(i.find_all(\"li\"))\n",
    "                    product_name_description[product_name] = [i.find_all(\"li\")]\n",
    "                    f.write([product_name + \"-+-\" +str(i)])\n",
    "                    f.write('\\n')\n",
    "                    "
   ]
  },
  {
   "cell_type": "code",
   "execution_count": 46,
   "metadata": {},
   "outputs": [
    {
     "data": {
      "text/plain": [
       "35"
      ]
     },
     "execution_count": 46,
     "metadata": {},
     "output_type": "execute_result"
    }
   ],
   "source": [
    "len(product_name_description)"
   ]
  },
  {
   "cell_type": "code",
   "execution_count": 47,
   "metadata": {},
   "outputs": [],
   "source": [
    "df = pd.DataFrame.from_dict(product_name_description, orient=\"index\")\n",
    "df.to_csv('J:/product_descriptions_2.csv')"
   ]
  },
  {
   "cell_type": "code",
   "execution_count": null,
   "metadata": {},
   "outputs": [],
   "source": [
    "# import sys\n",
    "# sys.setrecursionlimit(100000000)\n",
    "# import numpy as np\n",
    "# np.save(\"d1.npy\", product_name_description)\n",
    "# d2=np.load(\"d1.npy\")"
   ]
  },
  {
   "cell_type": "code",
   "execution_count": 93,
   "metadata": {
    "collapsed": true
   },
   "outputs": [
    {
     "ename": "RecursionError",
     "evalue": "maximum recursion depth exceeded while calling a Python object",
     "output_type": "error",
     "traceback": [
      "\u001b[1;31m---------------------------------------------------------------------------\u001b[0m",
      "\u001b[1;31mRecursionError\u001b[0m                            Traceback (most recent call last)",
      "\u001b[1;32m<ipython-input-93-bbcdd1c95732>\u001b[0m in \u001b[0;36m<module>\u001b[1;34m\u001b[0m\n\u001b[0;32m      3\u001b[0m \u001b[1;33m\u001b[0m\u001b[0m\n\u001b[0;32m      4\u001b[0m \u001b[1;32mwith\u001b[0m \u001b[0mopen\u001b[0m\u001b[1;33m(\u001b[0m\u001b[1;34m'filename.pickle'\u001b[0m\u001b[1;33m,\u001b[0m \u001b[1;34m'wb'\u001b[0m\u001b[1;33m)\u001b[0m \u001b[1;32mas\u001b[0m \u001b[0mhandle\u001b[0m\u001b[1;33m:\u001b[0m\u001b[1;33m\u001b[0m\u001b[1;33m\u001b[0m\u001b[0m\n\u001b[1;32m----> 5\u001b[1;33m     \u001b[0mpickle\u001b[0m\u001b[1;33m.\u001b[0m\u001b[0mdump\u001b[0m\u001b[1;33m(\u001b[0m\u001b[0mproduct_name_description\u001b[0m\u001b[1;33m,\u001b[0m \u001b[0mhandle\u001b[0m\u001b[1;33m,\u001b[0m \u001b[0mprotocol\u001b[0m\u001b[1;33m=\u001b[0m\u001b[0mpickle\u001b[0m\u001b[1;33m.\u001b[0m\u001b[0mHIGHEST_PROTOCOL\u001b[0m\u001b[1;33m)\u001b[0m\u001b[1;33m\u001b[0m\u001b[1;33m\u001b[0m\u001b[0m\n\u001b[0m\u001b[0;32m      6\u001b[0m \u001b[1;33m\u001b[0m\u001b[0m\n\u001b[0;32m      7\u001b[0m \u001b[1;31m# with open('filename.pickle', 'rb') as handle:\u001b[0m\u001b[1;33m\u001b[0m\u001b[1;33m\u001b[0m\u001b[1;33m\u001b[0m\u001b[0m\n",
      "\u001b[1;32mC:\\Anaconda\\lib\\site-packages\\bs4\\element.py\u001b[0m in \u001b[0;36m__getattr__\u001b[1;34m(self, tag)\u001b[0m\n\u001b[0;32m   1103\u001b[0m     \u001b[1;32mdef\u001b[0m \u001b[0m__getattr__\u001b[0m\u001b[1;33m(\u001b[0m\u001b[0mself\u001b[0m\u001b[1;33m,\u001b[0m \u001b[0mtag\u001b[0m\u001b[1;33m)\u001b[0m\u001b[1;33m:\u001b[0m\u001b[1;33m\u001b[0m\u001b[1;33m\u001b[0m\u001b[0m\n\u001b[0;32m   1104\u001b[0m         \u001b[1;31m#print \"Getattr %s.%s\" % (self.__class__, tag)\u001b[0m\u001b[1;33m\u001b[0m\u001b[1;33m\u001b[0m\u001b[1;33m\u001b[0m\u001b[0m\n\u001b[1;32m-> 1105\u001b[1;33m         \u001b[1;32mif\u001b[0m \u001b[0mlen\u001b[0m\u001b[1;33m(\u001b[0m\u001b[0mtag\u001b[0m\u001b[1;33m)\u001b[0m \u001b[1;33m>\u001b[0m \u001b[1;36m3\u001b[0m \u001b[1;32mand\u001b[0m \u001b[0mtag\u001b[0m\u001b[1;33m.\u001b[0m\u001b[0mendswith\u001b[0m\u001b[1;33m(\u001b[0m\u001b[1;34m'Tag'\u001b[0m\u001b[1;33m)\u001b[0m\u001b[1;33m:\u001b[0m\u001b[1;33m\u001b[0m\u001b[1;33m\u001b[0m\u001b[0m\n\u001b[0m\u001b[0;32m   1106\u001b[0m             \u001b[1;31m# BS3: soup.aTag -> \"soup.find(\"a\")\u001b[0m\u001b[1;33m\u001b[0m\u001b[1;33m\u001b[0m\u001b[1;33m\u001b[0m\u001b[0m\n\u001b[0;32m   1107\u001b[0m             \u001b[0mtag_name\u001b[0m \u001b[1;33m=\u001b[0m \u001b[0mtag\u001b[0m\u001b[1;33m[\u001b[0m\u001b[1;33m:\u001b[0m\u001b[1;33m-\u001b[0m\u001b[1;36m3\u001b[0m\u001b[1;33m]\u001b[0m\u001b[1;33m\u001b[0m\u001b[1;33m\u001b[0m\u001b[0m\n",
      "\u001b[1;31mRecursionError\u001b[0m: maximum recursion depth exceeded while calling a Python object"
     ]
    }
   ],
   "source": [
    "# import pickle\n",
    "\n",
    "# with open('filename.pickle', 'wb') as handle:\n",
    "#     pickle.dump(product_name_description, handle, protocol=pickle.HIGHEST_PROTOCOL)\n",
    "\n",
    "# # with open('filename.pickle', 'rb') as handle:\n",
    "# #     b = pickle.load(handle)\n"
   ]
  },
  {
   "cell_type": "code",
   "execution_count": 92,
   "metadata": {},
   "outputs": [
    {
     "name": "stdout",
     "output_type": "stream",
     "text": [
      "[]\n",
      "[]\n",
      "[]\n",
      "[]\n",
      "[<li>Premium full-grain leather upper on the Air Force 1 Low</li>, <li>Perforations for enhanced ventilation</li>, <li>Padded collar for a snug and secure </li>, <li>Foam midsole with Nike Air unit for lightweight cushioning</li>, <li>Pivot points in the forefoot allow for smooth transitions in all directions</li>, <li>Non-marking rubber outsole for durable traction</li>, <li>The Nike Air Force 1 Low is imported</li>]\n"
     ]
    }
   ],
   "source": [
    "for i in description:\n",
    "    print(i.find_all(\"li\"))"
   ]
  },
  {
   "cell_type": "code",
   "execution_count": 35,
   "metadata": {},
   "outputs": [],
   "source": [
    "with open (\"J:/descriptions.txt\", \"w\") as f:\n",
    "    for i in product_name_description:\n",
    "        f.write(i)\n",
    "        f.write('\\n')"
   ]
  },
  {
   "cell_type": "code",
   "execution_count": null,
   "metadata": {},
   "outputs": [],
   "source": []
  }
 ],
 "metadata": {
  "kernelspec": {
   "display_name": "Python 3",
   "language": "python",
   "name": "python3"
  },
  "language_info": {
   "codemirror_mode": {
    "name": "ipython",
    "version": 3
   },
   "file_extension": ".py",
   "mimetype": "text/x-python",
   "name": "python",
   "nbconvert_exporter": "python",
   "pygments_lexer": "ipython3",
   "version": "3.7.1"
  }
 },
 "nbformat": 4,
 "nbformat_minor": 2
}
