{
 "cells": [
  {
   "cell_type": "code",
   "execution_count": 80,
   "metadata": {},
   "outputs": [
    {
     "name": "stdout",
     "output_type": "stream",
     "text": [
      "The autoreload extension is already loaded. To reload it, use:\n",
      "  %reload_ext autoreload\n"
     ]
    }
   ],
   "source": [
    "%load_ext autoreload\n",
    "%autoreload 2"
   ]
  },
  {
   "cell_type": "code",
   "execution_count": 81,
   "metadata": {},
   "outputs": [],
   "source": [
    "import os\n",
    "import selenium\n",
    "import time\n",
    "from selenium import webdriver\n",
    "from bs4 import BeautifulSoup as BS\n",
    "from selenium.webdriver.chrome.options import Options\n",
    "import sys\n",
    "import pickle\n",
    "import pandas as pd\n",
    "from tqdm import tqdm, tqdm_notebook\n",
    "from Codes.Review_scrawler import *\n",
    "from Codes.feature_extraction import *"
   ]
  },
  {
   "cell_type": "markdown",
   "metadata": {},
   "source": [
    "### Load the descriptions"
   ]
  },
  {
   "cell_type": "code",
   "execution_count": 26,
   "metadata": {},
   "outputs": [],
   "source": [
    "with open('product_names.txt', \"r\") as x:\n",
    "    all_product = x.read().splitlines()"
   ]
  },
  {
   "cell_type": "code",
   "execution_count": 39,
   "metadata": {},
   "outputs": [
    {
     "name": "stderr",
     "output_type": "stream",
     "text": [
      "100%|██████████| 1/1 [2:00:00<00:00, 7200.77s/it]\n"
     ]
    }
   ],
   "source": [
    "product_name_description = Scrawl_product_description('product_names.txt')"
   ]
  },
  {
   "cell_type": "code",
   "execution_count": 43,
   "metadata": {},
   "outputs": [],
   "source": [
    "with open('product_description.pickle', 'wb') as handle:\n",
    "    pickle.dump(product_name_description, handle, pickle.HIGHEST_PROTOCOL)"
   ]
  },
  {
   "cell_type": "code",
   "execution_count": 67,
   "metadata": {},
   "outputs": [],
   "source": [
    "product_name_description = pickle.load(open('product_description.pickle', 'rb'))\n"
   ]
  },
  {
   "cell_type": "code",
   "execution_count": 68,
   "metadata": {},
   "outputs": [
    {
     "name": "stderr",
     "output_type": "stream",
     "text": [
      "100%|██████████| 455/455 [00:00<00:00, 608936.92it/s]\n"
     ]
    }
   ],
   "source": [
    "\n",
    "sum_products = 0\n",
    "for key in tqdm(product_name_description.keys()):\n",
    "    sum_products += len(product_name_description[key])"
   ]
  },
  {
   "cell_type": "markdown",
   "metadata": {},
   "source": [
    "### The list of POS tags is as follows, with examples of what each POS stands for."
   ]
  },
  {
   "cell_type": "markdown",
   "metadata": {},
   "source": [
    "* CC coordinating conjunction\n",
    "* CD cardinal digit\n",
    "* DT determiner\n",
    "* EX existential there (like: “there is” … think of it like “there exists”)\n",
    "* FW foreign word\n",
    "* IN preposition/subordinating conjunction\n",
    "* JJ adjective ‘big’\n",
    "* JJR adjective, comparative ‘bigger’\n",
    "* JJS adjective, superlative ‘biggest’\n",
    "* LS list marker 1)\n",
    "* MD modal could, will\n",
    "* NN noun, singular ‘desk’\n",
    "* NNS noun plural ‘desks’\n",
    "* NNP proper noun, singular ‘Harrison’\n",
    "* NNPS proper noun, plural ‘Americans’\n",
    "* PDT predeterminer ‘all the kids’\n",
    "* POS possessive ending parent’s\n",
    "* PRP personal pronoun I, he, she\n",
    "* PRP possessive pronoun my, his, hers\n",
    "* RB adverb very, silently,\n",
    "* RBR adverb, comparative better\n",
    "* RBS adverb, superlative best\n",
    "* RP particle give up\n",
    "* TO, to go ‘to’ the store.\n",
    "* UH interjection, errrrrrrrm\n",
    "* VB verb, base form take\n",
    "* VBD verb, past tense took\n",
    "* VBG verb, gerund/present participle taking\n",
    "* VBN verb, past participle taken\n",
    "* VBP verb, sing. present, non-3d take\n",
    "* VBZ verb, 3rd person sing. present takes\n",
    "* WDT wh-determiner which\n",
    "* WP wh-pronoun who, what\n",
    "* WP possessive wh-pronoun whose\n",
    "* WRB wh-abverb where, when"
   ]
  },
  {
   "cell_type": "markdown",
   "metadata": {},
   "source": [
    "## Feature Extraction - Basic Implementation\n"
   ]
  },
  {
   "cell_type": "markdown",
   "metadata": {},
   "source": [
    "* __Step 1: Finding Candidate Features:__ First approach for extracting features was based on the intuition that product features are usually nouns or noun phrases [1]. Using the POS associated with words during the data generation phase, we created a new view of data where each sentence in the review was considered  as a bag of words. The  words  chosen  to  represent  a  sentence  were  those  that  were  marked  as  nouns  (NN/NNS).  We chose  to  ignore  proper  nouns,  which  we  believe  cannot  be  features  associated  with  a  product. \n",
    "\n",
    "* __Step 2: Finding Candidate Features:__ Furthermore, as we observed in the data, some phrases that represent features (such as optical zoom) were made of two classes of words, nouns and adjectives. So as to be able to detect such features, we also included words marked as adjectives (JJ/JJR/JJS) in our bag of words model.\n",
    "\n",
    "* __Step 3: Finding Frequent Features:__ The  next  step  was  to  extract  frequent  features  from  the  candidate  feature  words.  We  used  an implementation  based  on  the  APRIORI  algorithm  [10]  for  identifying  frequently  occurring word/word  pairs  from  the  bag  of  words  data  model. Using  a  support  threshold  of  0.5%,  we  got  a good  set  of  candidate  features.  \n",
    "\n",
    "* __Step 4: Remove Opinion Words:__ However,  we  observed  that  because  of  inclusion  of  adjectives  when finding the frequent item sets, we got many candidate features that actually were opinion words (like good,  best,  bad).  In  order  to  filter  out  such  frequent  items,  we  considered  only  those  single  items that  occurred  as a  noun  somewhere in  the  corpus, or  in  case  of  word phrases, if  at  least one  of the word in the phrase occurred as a noun somewhere in the corpus. \n",
    "\n",
    "* __Step 5: Feature Set:__ The resulting set of words was our feature set for the product trained on."
   ]
  },
  {
   "cell_type": "markdown",
   "metadata": {},
   "source": [
    "### Step 1 through 3"
   ]
  },
  {
   "cell_type": "code",
   "execution_count": null,
   "metadata": {},
   "outputs": [],
   "source": [
    "model = Features(product_name_description)\n",
    "candidate_featres, pos = model.get_candidate_attributes(show = True, lower = True)\n"
   ]
  },
  {
   "cell_type": "code",
   "execution_count": 85,
   "metadata": {},
   "outputs": [],
   "source": [
    "import numpy as np"
   ]
  },
  {
   "cell_type": "code",
   "execution_count": 88,
   "metadata": {},
   "outputs": [],
   "source": [
    "ramin = np.random.choice(pos, 100)\n",
    "jade = np.random.choice(pos, 100)"
   ]
  },
  {
   "cell_type": "code",
   "execution_count": 93,
   "metadata": {},
   "outputs": [],
   "source": [
    "np.save('jade_pos.npy', jade)\n",
    "np.save('ramin_pos.npy', ramin)"
   ]
  },
  {
   "cell_type": "code",
   "execution_count": 73,
   "metadata": {},
   "outputs": [],
   "source": [
    "frequency_counts = model.get_frequent_attributes(support = 0.005)"
   ]
  },
  {
   "cell_type": "code",
   "execution_count": null,
   "metadata": {},
   "outputs": [],
   "source": []
  }
 ],
 "metadata": {
  "kernelspec": {
   "display_name": "Python 3",
   "language": "python",
   "name": "python3"
  },
  "language_info": {
   "codemirror_mode": {
    "name": "ipython",
    "version": 3
   },
   "file_extension": ".py",
   "mimetype": "text/x-python",
   "name": "python",
   "nbconvert_exporter": "python",
   "pygments_lexer": "ipython3",
   "version": "3.6.8"
  }
 },
 "nbformat": 4,
 "nbformat_minor": 2
}
