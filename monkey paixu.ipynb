{
 "cells": [
  {
   "cell_type": "markdown",
   "metadata": {},
   "source": [
    "## Some interesting project"
   ]
  },
  {
   "cell_type": "code",
   "execution_count": null,
   "metadata": {},
   "outputs": [],
   "source": [
    "import numpy as np\n",
    "n = 30\n",
    "array = np.random.random(n)\n",
    "while True:\n",
    "    for index, value in enumerate(np.random.random_integers(0, n - 1, n)):\n",
    "        array[index], array[value] = array[value], array[index]\n",
    "    flag = 0\n",
    "    for index, value in enumerate(array):\n",
    "        if index == 0:\n",
    "            continue\n",
    "        if array[index] < array[index - 1]:\n",
    "            flag = 1\n",
    "            break\n",
    "    if flag == 0:\n",
    "        break\n",
    "print(array)\n"
   ]
  },
  {
   "cell_type": "code",
   "execution_count": null,
   "metadata": {},
   "outputs": [],
   "source": []
  }
 ],
 "metadata": {
  "kernelspec": {
   "display_name": "Python 3",
   "language": "python",
   "name": "python3"
  },
  "language_info": {
   "codemirror_mode": {
    "name": "ipython",
    "version": 3
   },
   "file_extension": ".py",
   "mimetype": "text/x-python",
   "name": "python",
   "nbconvert_exporter": "python",
   "pygments_lexer": "ipython3",
   "version": "3.7.3"
  }
 },
 "nbformat": 4,
 "nbformat_minor": 2
}
