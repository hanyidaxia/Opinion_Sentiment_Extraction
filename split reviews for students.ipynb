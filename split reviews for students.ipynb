{
 "cells": [
  {
   "cell_type": "code",
   "execution_count": 3,
   "metadata": {},
   "outputs": [
    {
     "ename": "AttributeError",
     "evalue": "'list' object has no attribute 'split'",
     "output_type": "error",
     "traceback": [
      "\u001b[1;31m---------------------------------------------------------------------------\u001b[0m",
      "\u001b[1;31mAttributeError\u001b[0m                            Traceback (most recent call last)",
      "\u001b[1;32m<ipython-input-3-844a206f5747>\u001b[0m in \u001b[0;36m<module>\u001b[1;34m\u001b[0m\n\u001b[0;32m      1\u001b[0m \u001b[1;32mwith\u001b[0m \u001b[0mopen\u001b[0m\u001b[1;33m(\u001b[0m\u001b[1;34m\"H:/Data/Ramin_unique_description.txt\"\u001b[0m\u001b[1;33m,\u001b[0m \u001b[1;34m\"r\"\u001b[0m\u001b[1;33m,\u001b[0m \u001b[0mencoding\u001b[0m  \u001b[1;33m=\u001b[0m \u001b[1;34m\"UTF-8\"\u001b[0m\u001b[1;33m)\u001b[0m \u001b[1;32mas\u001b[0m \u001b[0mf\u001b[0m\u001b[1;33m:\u001b[0m\u001b[1;33m\u001b[0m\u001b[1;33m\u001b[0m\u001b[0m\n\u001b[0;32m      2\u001b[0m     \u001b[0mshco\u001b[0m \u001b[1;33m=\u001b[0m \u001b[0mf\u001b[0m\u001b[1;33m.\u001b[0m\u001b[0mreadlines\u001b[0m\u001b[1;33m(\u001b[0m\u001b[1;33m)\u001b[0m\u001b[1;33m\u001b[0m\u001b[1;33m\u001b[0m\u001b[0m\n\u001b[1;32m----> 3\u001b[1;33m     \u001b[0mshco\u001b[0m \u001b[1;33m=\u001b[0m \u001b[0mlist\u001b[0m\u001b[1;33m.\u001b[0m\u001b[0msplit\u001b[0m\u001b[1;33m(\u001b[0m\u001b[1;34m\"^^^^^^^^^^^^^^^^^^^^^^^^^^^^^^^^^^^^^^^^^^^^^^^^^^^^^^^^^^^^^^^^^\"\u001b[0m\u001b[1;33m)\u001b[0m\u001b[1;33m\u001b[0m\u001b[1;33m\u001b[0m\u001b[0m\n\u001b[0m",
      "\u001b[1;31mAttributeError\u001b[0m: 'list' object has no attribute 'split'"
     ]
    }
   ],
   "source": [
    "with open(\"H:/Data/Ramin_unique_description.txt\", \"r\", encoding  = \"UTF-8\") as f:\n",
    "    shco = f.readlines()\n",
    "        "
   ]
  },
  {
   "cell_type": "code",
   "execution_count": 5,
   "metadata": {},
   "outputs": [],
   "source": [
    "for line in shco:\n",
    "    line = line.strip()\n",
    "    line"
   ]
  },
  {
   "cell_type": "code",
   "execution_count": 7,
   "metadata": {},
   "outputs": [
    {
     "data": {
      "text/plain": [
       "['mens-air-jordan-6-rings-basketball-shoes===\"Protective full-grain leather upper on the Air Jordan 6 RingsBreathable mesh overlaysCushy full-length Phylon midsoleResponsive Zoom Air heel unitDurable rubber outsole for tractionThe Air Jordan 6 Rings is importedCourt-inspired and street-ready, the Men\\'s Air Jordan 6 Rings Basketball Shoes deliver big on style and quality. Featuring elements from each of the 7 shoes that Michael Jordan wore to win his 6 NBA Championship Rings, it\\'s basically guaranteed that you\\'re going to kill it in these shoes.\"\\n',\n",
       " '\\n',\n",
       " '^^^^^^^^^^^^^^^^^^^^^^^^^^^^^^^^^^^^^^^^^^^^^^^^^^^^^^^^^^^^^^^^^\\n']"
      ]
     },
     "execution_count": 7,
     "metadata": {},
     "output_type": "execute_result"
    }
   ],
   "source": [
    "shco[0:3]"
   ]
  },
  {
   "cell_type": "code",
   "execution_count": 37,
   "metadata": {},
   "outputs": [],
   "source": [
    "with open('H:/Data/clean_review.txt', \"r\", encoding = \"UTF-8\") as f:\n",
    "    pure_review = f.readlines()\n",
    "    "
   ]
  },
  {
   "cell_type": "code",
   "execution_count": 38,
   "metadata": {},
   "outputs": [
    {
     "data": {
      "text/plain": [
       "['Reebok_Classic_Leather_Gum_Casual_Shoes\\\\\"5 out of 5\\\\\" \\\\\">Love them\\\\\">I love the old school style and these sneakers are so comfortable.\\n',\n",
       " 'Reebok_Classic_Leather_Gum_Casual_Shoes\\\\\"4 out of 5\\\\\" \\\\\">Love them\\\\\">A true classic for the fans of sneakers and culture. Very nice made and the materials are pretty good too.\\n']"
      ]
     },
     "execution_count": 38,
     "metadata": {},
     "output_type": "execute_result"
    }
   ],
   "source": [
    "import numpy as np\n",
    "np.shape(pure_review)\n",
    "pure_review[0:2]"
   ]
  },
  {
   "cell_type": "code",
   "execution_count": 41,
   "metadata": {},
   "outputs": [],
   "source": [
    "pp_review = []\n",
    "for i in pure_review:\n",
    "    k = i.strip().split(\">\")[-1]\n",
    "    j = i.strip().split(\"\\\\\")[0]\n",
    "    pp_review.append(j+\"++\" +k)"
   ]
  },
  {
   "cell_type": "code",
   "execution_count": 42,
   "metadata": {},
   "outputs": [
    {
     "data": {
      "text/plain": [
       "['Reebok_Classic_Leather_Gum_Casual_Shoes++I love the old school style and these sneakers are so comfortable.',\n",
       " 'Reebok_Classic_Leather_Gum_Casual_Shoes++A true classic for the fans of sneakers and culture. Very nice made and the materials are pretty good too.']"
      ]
     },
     "execution_count": 42,
     "metadata": {},
     "output_type": "execute_result"
    }
   ],
   "source": [
    "pp_review[0:2]"
   ]
  },
  {
   "cell_type": "code",
   "execution_count": 43,
   "metadata": {},
   "outputs": [],
   "source": [
    "import random\n",
    "seed = 0.3\n",
    "rp_review = random.sample(pp_review, 1000)"
   ]
  },
  {
   "cell_type": "code",
   "execution_count": 44,
   "metadata": {},
   "outputs": [],
   "source": [
    "def write_spp(file_name, s_num):\n",
    "    with open(file_name, \"w\", encoding = \"UTF-8\") as f:\n",
    "        for i in rp_review[int(s_num):int(s_num+100)]:\n",
    "            f.write(i)\n",
    "            f.write('\\n')\n",
    "            "
   ]
  },
  {
   "cell_type": "code",
   "execution_count": 45,
   "metadata": {},
   "outputs": [],
   "source": [
    "r_num = range(0,10)\n",
    "i_num = [0,100,200,300,400,500,600,700,800,900]\n",
    "for k in r_num:\n",
    "    write_spp(\"H:/Data/\" + str(k) + \"_review.txt\", k*100)\n",
    "# write_spp(\"H:/Data/1_review.txt\", 0)\n",
    "# write_spp(\"H:/Data/2_review.txt\", 100)\n",
    "# write_spp(\"H:/Data/3_review.txt\", 200)\n",
    "# write_spp(\"H:/Data/4_review.txt\", 300)\n",
    "# write_spp(\"H:/Data/5_review.txt\", 400)"
   ]
  },
  {
   "cell_type": "code",
   "execution_count": 34,
   "metadata": {},
   "outputs": [
    {
     "name": "stdout",
     "output_type": "stream",
     "text": [
      "0\n",
      "1\n",
      "2\n",
      "3\n",
      "4\n",
      "5\n",
      "6\n",
      "7\n",
      "8\n",
      "9\n"
     ]
    }
   ],
   "source": [
    "for i in r_num:\n",
    "    print(i)"
   ]
  },
  {
   "cell_type": "code",
   "execution_count": null,
   "metadata": {},
   "outputs": [],
   "source": []
  }
 ],
 "metadata": {
  "kernelspec": {
   "display_name": "Python 3",
   "language": "python",
   "name": "python3"
  },
  "language_info": {
   "codemirror_mode": {
    "name": "ipython",
    "version": 3
   },
   "file_extension": ".py",
   "mimetype": "text/x-python",
   "name": "python",
   "nbconvert_exporter": "python",
   "pygments_lexer": "ipython3",
   "version": "3.7.3"
  }
 },
 "nbformat": 4,
 "nbformat_minor": 2
}
